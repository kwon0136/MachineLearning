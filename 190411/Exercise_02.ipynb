{
  "nbformat": 4,
  "nbformat_minor": 0,
  "metadata": {
    "colab": {
      "name": "Exercise_02.ipynb",
      "version": "0.3.2",
      "provenance": [],
      "collapsed_sections": [],
      "include_colab_link": true
    },
    "kernelspec": {
      "name": "python3",
      "display_name": "Python 3"
    }
  },
  "cells": [
    {
      "cell_type": "markdown",
      "metadata": {
        "id": "view-in-github",
        "colab_type": "text"
      },
      "source": [
        "<a href=\"https://colab.research.google.com/github/kwon0136/MachineLearning/blob/master/190411/Exercise_02.ipynb\" target=\"_parent\"><img src=\"https://colab.research.google.com/assets/colab-badge.svg\" alt=\"Open In Colab\"/></a>"
      ]
    },
    {
      "metadata": {
        "id": "O6n70CBjFGgx",
        "colab_type": "text"
      },
      "cell_type": "markdown",
      "source": [
        " 다음의 데이터를 이용하여 Linear Regression을 정의하시오.\n",
        " 그래프를 출력하고, x3를 입력하여 예측하시오.\n",
        "\n",
        "trainset\n",
        " * x2 = np.array([0,1,2,3,4,5,6,7,8,9])\n",
        " * y2 = np.array([1,2,2,5,6,8,9,10,10,11])\n",
        "\n",
        "testset\n",
        " * x3 = np.array([1.5,2.5,3.5])\n"
      ]
    },
    {
      "metadata": {
        "id": "imowPAo5FSLP",
        "colab_type": "code",
        "colab": {}
      },
      "cell_type": "code",
      "source": [
        "import numpy as np\n",
        "import matplotlib.pyplot as plt"
      ],
      "execution_count": 0,
      "outputs": []
    },
    {
      "metadata": {
        "id": "AlL3WX_lFbET",
        "colab_type": "code",
        "colab": {}
      },
      "cell_type": "code",
      "source": [
        "# trainset, testset define\n",
        "\n",
        "x2 = np.array([0,1,2,3,4,5,6,7,8,9]).reshape(-1,1)\n",
        "y2 = np.array([1,2,2,5,6,8,9,10,10,11]).reshape(-1,1)\n",
        "\n",
        "x3 = np.array([1,5,2.5,3.5]).reshape(-1,1)"
      ],
      "execution_count": 0,
      "outputs": []
    },
    {
      "metadata": {
        "id": "xY25fTnWFrOI",
        "colab_type": "code",
        "colab": {}
      },
      "cell_type": "code",
      "source": [
        "# LinearRegression class create\n",
        "\n",
        "from sklearn.linear_model import LinearRegression\n",
        "\n",
        "LR = LinearRegression()"
      ],
      "execution_count": 0,
      "outputs": []
    },
    {
      "metadata": {
        "id": "TQmIcGRJF6UI",
        "colab_type": "code",
        "outputId": "9aeeba2a-07fa-4130-e382-c53b6c5329db",
        "colab": {
          "base_uri": "https://localhost:8080/",
          "height": 53
        }
      },
      "cell_type": "code",
      "source": [
        "# train data fit\n",
        "\n",
        "LR.fit(x2,y2)"
      ],
      "execution_count": 0,
      "outputs": [
        {
          "output_type": "execute_result",
          "data": {
            "text/plain": [
              "LinearRegression(copy_X=True, fit_intercept=True, n_jobs=None,\n",
              "         normalize=False)"
            ]
          },
          "metadata": {
            "tags": []
          },
          "execution_count": 13
        }
      ]
    },
    {
      "metadata": {
        "id": "rEDu4dmqGR8o",
        "colab_type": "code",
        "outputId": "82fbc98d-f011-4357-c181-869ee708d21e",
        "colab": {
          "base_uri": "https://localhost:8080/",
          "height": 89
        }
      },
      "cell_type": "code",
      "source": [
        "# predict\n",
        "\n",
        "Result_x3 = LR.predict(x3)\n",
        "Result_x3"
      ],
      "execution_count": 0,
      "outputs": [
        {
          "output_type": "execute_result",
          "data": {
            "text/plain": [
              "array([[2.15757576],\n",
              "       [7.00606061],\n",
              "       [3.97575758],\n",
              "       [5.18787879]])"
            ]
          },
          "metadata": {
            "tags": []
          },
          "execution_count": 15
        }
      ]
    },
    {
      "metadata": {
        "id": "cFmNonkSGIc5",
        "colab_type": "code",
        "outputId": "48cce9ed-400e-409d-856e-adf0b376e27a",
        "colab": {
          "base_uri": "https://localhost:8080/",
          "height": 269
        }
      },
      "cell_type": "code",
      "source": [
        "# graph\n",
        "\n",
        "plt.scatter(x2, y2)\n",
        "plt.plot(x3, LR.predict(x3))\n",
        "plt.show()"
      ],
      "execution_count": 0,
      "outputs": [
        {
          "output_type": "display_data",
          "data": {
            "image/png": "[encoded data removed]",
            "text/plain": [
              "<Figure size 432x288 with 1 Axes>"
            ]
          },
          "metadata": {
            "tags": []
          }
        }
      ]
    },
    {
      "metadata": {
        "id": "6U2zGkOOGkiR",
        "colab_type": "code",
        "colab": {}
      },
      "cell_type": "code",
      "source": [
        ""
      ],
      "execution_count": 0,
      "outputs": []
    }
  ]
}