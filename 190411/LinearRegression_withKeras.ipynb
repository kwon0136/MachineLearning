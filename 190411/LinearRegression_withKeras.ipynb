{
  "nbformat": 4,
  "nbformat_minor": 0,
  "metadata": {
    "colab": {
      "name": "LinearRegression_withKeras.ipynb",
      "version": "0.3.2",
      "provenance": [],
      "collapsed_sections": [],
      "include_colab_link": true
    },
    "kernelspec": {
      "name": "python3",
      "display_name": "Python 3"
    }
  },
  "cells": [
    {
      "cell_type": "markdown",
      "metadata": {
        "id": "view-in-github",
        "colab_type": "text"
      },
      "source": [
        "<a href=\"https://colab.research.google.com/github/kwon0136/MachineLearning/blob/master/190411/LinearRegression_withKeras.ipynb\" target=\"_parent\"><img src=\"https://colab.research.google.com/assets/colab-badge.svg\" alt=\"Open In Colab\"/></a>"
      ]
    },
    {
      "metadata": {
        "id": "YE8S9qR50rmE",
        "colab_type": "code",
        "outputId": "989fa478-49e0-4df1-cfd3-f49b9c24c365",
        "colab": {
          "base_uri": "https://localhost:8080/",
          "height": 161
        }
      },
      "cell_type": "code",
      "source": [
        "# keras 설치\n",
        "!pip install keras"
      ],
      "execution_count": 0,
      "outputs": [
        {
          "output_type": "stream",
          "text": [
            "Requirement already satisfied: keras in /usr/local/lib/python3.6/dist-packages (2.2.4)\n",
            "Requirement already satisfied: keras-preprocessing>=1.0.5 in /usr/local/lib/python3.6/dist-packages (from keras) (1.0.9)\n",
            "Requirement already satisfied: pyyaml in /usr/local/lib/python3.6/dist-packages (from keras) (3.13)\n",
            "Requirement already satisfied: six>=1.9.0 in /usr/local/lib/python3.6/dist-packages (from keras) (1.11.0)\n",
            "Requirement already satisfied: scipy>=0.14 in /usr/local/lib/python3.6/dist-packages (from keras) (1.1.0)\n",
            "Requirement already satisfied: numpy>=1.9.1 in /usr/local/lib/python3.6/dist-packages (from keras) (1.14.6)\n",
            "Requirement already satisfied: h5py in /usr/local/lib/python3.6/dist-packages (from keras) (2.8.0)\n",
            "Requirement already satisfied: keras-applications>=1.0.6 in /usr/local/lib/python3.6/dist-packages (from keras) (1.0.7)\n"
          ],
          "name": "stdout"
        }
      ]
    },
    {
      "metadata": {
        "id": "wNfckMFT0x0Y",
        "colab_type": "code",
        "colab": {}
      },
      "cell_type": "code",
      "source": [
        "import keras\n",
        "from keras.models import Sequential\n",
        "from keras.layers import Dense, Activation\n",
        "import numpy as np\n",
        "import matplotlib.pyplot as plt\n",
        "\n",
        "# data load, preprocessiong\n",
        "x = np.linspace(1,2,200)\n",
        "y = x*4 + np.random.randn(*x.shape) * 0.3"
      ],
      "execution_count": 0,
      "outputs": []
    },
    {
      "metadata": {
        "id": "6sxHyTkz1jN0",
        "colab_type": "code",
        "outputId": "aa6a84b6-b3e8-4549-ae25-87474174e01a",
        "colab": {
          "base_uri": "https://localhost:8080/",
          "height": 269
        }
      },
      "cell_type": "code",
      "source": [
        "plt.scatter(x,y)\n",
        "plt.show()"
      ],
      "execution_count": 0,
      "outputs": [
        {
          "output_type": "display_data",
          "data": {
            "image/png": "[encoded data removed]",
            "text/plain": [
              "<Figure size 432x288 with 1 Axes>"
            ]
          },
          "metadata": {
            "tags": []
          }
        }
      ]
    },
    {
      "metadata": {
        "id": "KnBuEfHH1mhA",
        "colab_type": "code",
        "colab": {}
      },
      "cell_type": "code",
      "source": [
        "# create the model\n",
        "model = Sequential()\n",
        "model.add(Dense(1, input_dim=1, activation='linear'))"
      ],
      "execution_count": 0,
      "outputs": []
    },
    {
      "metadata": {
        "id": "dj7J3bxe2MDY",
        "colab_type": "code",
        "colab": {}
      },
      "cell_type": "code",
      "source": [
        "# compile\n",
        "model.compile(optimizer='sgd', loss='mse', metrics=['mse'])"
      ],
      "execution_count": 0,
      "outputs": []
    },
    {
      "metadata": {
        "id": "4pFqL6zy3I2C",
        "colab_type": "code",
        "outputId": "60963b13-5cf0-4896-a4e2-28d12b80437c",
        "colab": {
          "base_uri": "https://localhost:8080/",
          "height": 35
        }
      },
      "cell_type": "code",
      "source": [
        "weights = model.layers[0].get_weights()\n",
        "w_init = weights[0][0][0]\n",
        "b_init = weights[1][0]\n",
        "w_init, b_init"
      ],
      "execution_count": 0,
      "outputs": [
        {
          "output_type": "execute_result",
          "data": {
            "text/plain": [
              "(1.485689, 0.0)"
            ]
          },
          "metadata": {
            "tags": []
          },
          "execution_count": 14
        }
      ]
    },
    {
      "metadata": {
        "id": "HlQcvzwf52Yb",
        "colab_type": "text"
      },
      "cell_type": "markdown",
      "source": [
        "###Loss function\n",
        "###손실함수?\n",
        "\n",
        "내 모델을 통해 생성된 결과 값과 실제로 발생하기를 원했던 값간의 차이를 계산하는 함수. 목적에 따라 여러 종류의 함수가 존재할 수 있다.\n",
        "\n",
        "1. Mean Squared Error\n",
        "(관찰되지 않은 양을 추정하기 위한 절차에 대한) mean squred error(MSE) 또는 mean squared deviation(MSD)는 오류 또는 편차의 제곱의 평균을 측정한다.\n",
        "즉, 추정한 값과 기대했던 값간의 차이를 측정한다. MSE는 리스크 함수이며, 제곱된 에러 값 또는 이차 손실에 대응된다.\n",
        "차이는 임의성 또는 측정기가 좀더 정확하게 측정하지 못해서 발생한 정보의 누락에 의해 발생한다.\n",
        "\n",
        "\\operatorname {MSE}={\\frac {1}{n}}\\sum _{{i=1}}^{n}({\\hat {Y_{i}}}-Y_{i})^{2}\n",
        "\n",
        "값이 적을 수록 원본과 추측한 값의 차이가 적어지는 것으로\n",
        "추측한 정확성이 높아 지는 것을 의미한다.\n",
        "MAE 에 비해 제곱값이므로 차이에 따는 값 변화가 커서 눈에 잘 띄는 점이 좋을 것 같음.\n",
        "\n",
        "http://www.engear.net/wp/%EC%9D%B8%EA%B3%B5%EC%A7%80%EB%8A%A5/loss-function/"
      ]
    },
    {
      "metadata": {
        "id": "vvSLqOWU3u16",
        "colab_type": "code",
        "outputId": "b3a088ab-e8c2-4d06-f9f0-ff0a48997c48",
        "colab": {
          "base_uri": "https://localhost:8080/",
          "height": 1115
        }
      },
      "cell_type": "code",
      "source": [
        "# fit\n",
        "model.fit(x,y, batch_size=1, epochs=30, shuffle=False)\n",
        "\n",
        "#mean_squared_error: MSE: 평균제곱오차 "
      ],
      "execution_count": 0,
      "outputs": [
        {
          "output_type": "stream",
          "text": [
            "Epoch 1/30\n",
            "200/200 [==============================] - 0s 752us/step - loss: 0.0988 - mean_squared_error: 0.0988\n",
            "Epoch 2/30\n",
            "200/200 [==============================] - 0s 722us/step - loss: 0.0985 - mean_squared_error: 0.0985\n",
            "Epoch 3/30\n",
            "200/200 [==============================] - 0s 754us/step - loss: 0.0983 - mean_squared_error: 0.0983\n",
            "Epoch 4/30\n",
            "200/200 [==============================] - 0s 731us/step - loss: 0.0981 - mean_squared_error: 0.0981\n",
            "Epoch 5/30\n",
            "200/200 [==============================] - 0s 824us/step - loss: 0.0979 - mean_squared_error: 0.0979\n",
            "Epoch 6/30\n",
            "200/200 [==============================] - 0s 768us/step - loss: 0.0977 - mean_squared_error: 0.0977\n",
            "Epoch 7/30\n",
            "200/200 [==============================] - 0s 743us/step - loss: 0.0975 - mean_squared_error: 0.0975\n",
            "Epoch 8/30\n",
            "200/200 [==============================] - 0s 722us/step - loss: 0.0973 - mean_squared_error: 0.0973\n",
            "Epoch 9/30\n",
            "200/200 [==============================] - 0s 802us/step - loss: 0.0972 - mean_squared_error: 0.0972\n",
            "Epoch 10/30\n",
            "200/200 [==============================] - 0s 741us/step - loss: 0.0970 - mean_squared_error: 0.0970\n",
            "Epoch 11/30\n",
            "200/200 [==============================] - 0s 719us/step - loss: 0.0969 - mean_squared_error: 0.0969\n",
            "Epoch 12/30\n",
            "200/200 [==============================] - 0s 790us/step - loss: 0.0968 - mean_squared_error: 0.0968\n",
            "Epoch 13/30\n",
            "200/200 [==============================] - 0s 847us/step - loss: 0.0966 - mean_squared_error: 0.0966\n",
            "Epoch 14/30\n",
            "200/200 [==============================] - 0s 724us/step - loss: 0.0965 - mean_squared_error: 0.0965\n",
            "Epoch 15/30\n",
            "200/200 [==============================] - 0s 708us/step - loss: 0.0964 - mean_squared_error: 0.0964\n",
            "Epoch 16/30\n",
            "200/200 [==============================] - 0s 706us/step - loss: 0.0963 - mean_squared_error: 0.0963\n",
            "Epoch 17/30\n",
            "200/200 [==============================] - 0s 700us/step - loss: 0.0962 - mean_squared_error: 0.0962\n",
            "Epoch 18/30\n",
            "200/200 [==============================] - 0s 728us/step - loss: 0.0962 - mean_squared_error: 0.0962\n",
            "Epoch 19/30\n",
            "200/200 [==============================] - 0s 740us/step - loss: 0.0961 - mean_squared_error: 0.0961\n",
            "Epoch 20/30\n",
            "200/200 [==============================] - 0s 755us/step - loss: 0.0960 - mean_squared_error: 0.0960\n",
            "Epoch 21/30\n",
            "200/200 [==============================] - 0s 749us/step - loss: 0.0959 - mean_squared_error: 0.0959\n",
            "Epoch 22/30\n",
            "200/200 [==============================] - 0s 737us/step - loss: 0.0959 - mean_squared_error: 0.0959\n",
            "Epoch 23/30\n",
            "200/200 [==============================] - 0s 708us/step - loss: 0.0958 - mean_squared_error: 0.0958\n",
            "Epoch 24/30\n",
            "200/200 [==============================] - 0s 723us/step - loss: 0.0957 - mean_squared_error: 0.0957\n",
            "Epoch 25/30\n",
            "200/200 [==============================] - 0s 744us/step - loss: 0.0957 - mean_squared_error: 0.0957\n",
            "Epoch 26/30\n",
            "200/200 [==============================] - 0s 712us/step - loss: 0.0956 - mean_squared_error: 0.0956\n",
            "Epoch 27/30\n",
            "200/200 [==============================] - 0s 709us/step - loss: 0.0956 - mean_squared_error: 0.0956\n",
            "Epoch 28/30\n",
            "200/200 [==============================] - 0s 731us/step - loss: 0.0955 - mean_squared_error: 0.0955\n",
            "Epoch 29/30\n",
            "200/200 [==============================] - 0s 735us/step - loss: 0.0955 - mean_squared_error: 0.0955\n",
            "Epoch 30/30\n",
            "200/200 [==============================] - 0s 735us/step - loss: 0.0955 - mean_squared_error: 0.0955\n"
          ],
          "name": "stdout"
        },
        {
          "output_type": "execute_result",
          "data": {
            "text/plain": [
              "<keras.callbacks.History at 0x7f205ead2f60>"
            ]
          },
          "metadata": {
            "tags": []
          },
          "execution_count": 16
        }
      ]
    },
    {
      "metadata": {
        "id": "_dv-m__a4j9H",
        "colab_type": "code",
        "outputId": "e0737793-1295-4b97-aa1e-287a53cf2639",
        "colab": {
          "base_uri": "https://localhost:8080/",
          "height": 3617
        }
      },
      "cell_type": "code",
      "source": [
        "predict = model.predict(x)\n",
        "predict\n"
      ],
      "execution_count": 0,
      "outputs": [
        {
          "output_type": "execute_result",
          "data": {
            "text/plain": [
              "array([[4.0697017],\n",
              "       [4.089017 ],\n",
              "       [4.1083326],\n",
              "       [4.127648 ],\n",
              "       [4.146963 ],\n",
              "       [4.166279 ],\n",
              "       [4.1855946],\n",
              "       [4.20491  ],\n",
              "       [4.224225 ],\n",
              "       [4.2435403],\n",
              "       [4.262856 ],\n",
              "       [4.2821717],\n",
              "       [4.301487 ],\n",
              "       [4.3208027],\n",
              "       [4.340118 ],\n",
              "       [4.359433 ],\n",
              "       [4.378749 ],\n",
              "       [4.3980646],\n",
              "       [4.41738  ],\n",
              "       [4.436695 ],\n",
              "       [4.456011 ],\n",
              "       [4.475326 ],\n",
              "       [4.494642 ],\n",
              "       [4.5139575],\n",
              "       [4.5332723],\n",
              "       [4.552588 ],\n",
              "       [4.5719037],\n",
              "       [4.591219 ],\n",
              "       [4.6105347],\n",
              "       [4.62985  ],\n",
              "       [4.649165 ],\n",
              "       [4.668481 ],\n",
              "       [4.6877966],\n",
              "       [4.707112 ],\n",
              "       [4.7264276],\n",
              "       [4.745743 ],\n",
              "       [4.765058 ],\n",
              "       [4.7843738],\n",
              "       [4.8036895],\n",
              "       [4.8230047],\n",
              "       [4.84232  ],\n",
              "       [4.8616357],\n",
              "       [4.880951 ],\n",
              "       [4.9002666],\n",
              "       [4.9195824],\n",
              "       [4.938897 ],\n",
              "       [4.958213 ],\n",
              "       [4.9775286],\n",
              "       [4.996844 ],\n",
              "       [5.0161595],\n",
              "       [5.035475 ],\n",
              "       [5.05479  ],\n",
              "       [5.0741057],\n",
              "       [5.0934215],\n",
              "       [5.1127367],\n",
              "       [5.132052 ],\n",
              "       [5.1513677],\n",
              "       [5.170683 ],\n",
              "       [5.1899986],\n",
              "       [5.209314 ],\n",
              "       [5.2286296],\n",
              "       [5.247945 ],\n",
              "       [5.26726  ],\n",
              "       [5.286576 ],\n",
              "       [5.3058915],\n",
              "       [5.3252068],\n",
              "       [5.344522 ],\n",
              "       [5.3638377],\n",
              "       [5.383153 ],\n",
              "       [5.4024687],\n",
              "       [5.4217844],\n",
              "       [5.441099 ],\n",
              "       [5.460415 ],\n",
              "       [5.4797306],\n",
              "       [5.499046 ],\n",
              "       [5.5183616],\n",
              "       [5.537677 ],\n",
              "       [5.556992 ],\n",
              "       [5.576308 ],\n",
              "       [5.5956235],\n",
              "       [5.6149387],\n",
              "       [5.6342545],\n",
              "       [5.6535697],\n",
              "       [5.672885 ],\n",
              "       [5.6922007],\n",
              "       [5.7115164],\n",
              "       [5.7308316],\n",
              "       [5.750147 ],\n",
              "       [5.7694626],\n",
              "       [5.788778 ],\n",
              "       [5.8080935],\n",
              "       [5.8274093],\n",
              "       [5.846724 ],\n",
              "       [5.8660398],\n",
              "       [5.8853555],\n",
              "       [5.9046707],\n",
              "       [5.9239864],\n",
              "       [5.9433017],\n",
              "       [5.962617 ],\n",
              "       [5.9819326],\n",
              "       [6.0012484],\n",
              "       [6.0205636],\n",
              "       [6.0398793],\n",
              "       [6.0591946],\n",
              "       [6.07851  ],\n",
              "       [6.0978255],\n",
              "       [6.1171412],\n",
              "       [6.1364565],\n",
              "       [6.1557717],\n",
              "       [6.1750875],\n",
              "       [6.1944027],\n",
              "       [6.2137184],\n",
              "       [6.2330337],\n",
              "       [6.252349 ],\n",
              "       [6.2716646],\n",
              "       [6.29098  ],\n",
              "       [6.3102956],\n",
              "       [6.3296113],\n",
              "       [6.348926 ],\n",
              "       [6.368242 ],\n",
              "       [6.3875575],\n",
              "       [6.4068727],\n",
              "       [6.4261885],\n",
              "       [6.445504 ],\n",
              "       [6.464819 ],\n",
              "       [6.4841347],\n",
              "       [6.5034504],\n",
              "       [6.5227656],\n",
              "       [6.5420814],\n",
              "       [6.5613966],\n",
              "       [6.580712 ],\n",
              "       [6.6000276],\n",
              "       [6.6193433],\n",
              "       [6.6386585],\n",
              "       [6.657974 ],\n",
              "       [6.6772895],\n",
              "       [6.6966047],\n",
              "       [6.7159204],\n",
              "       [6.735236 ],\n",
              "       [6.754551 ],\n",
              "       [6.7738667],\n",
              "       [6.7931824],\n",
              "       [6.8124976],\n",
              "       [6.8318133],\n",
              "       [6.851129 ],\n",
              "       [6.870444 ],\n",
              "       [6.8897595],\n",
              "       [6.9090753],\n",
              "       [6.9283905],\n",
              "       [6.947706 ],\n",
              "       [6.9670215],\n",
              "       [6.9863367],\n",
              "       [7.0056524],\n",
              "       [7.024968 ],\n",
              "       [7.0442834],\n",
              "       [7.0635986],\n",
              "       [7.0829144],\n",
              "       [7.1022296],\n",
              "       [7.1215453],\n",
              "       [7.140861 ],\n",
              "       [7.160176 ],\n",
              "       [7.1794915],\n",
              "       [7.1988072],\n",
              "       [7.2181225],\n",
              "       [7.237438 ],\n",
              "       [7.2567534],\n",
              "       [7.2760687],\n",
              "       [7.2953844],\n",
              "       [7.3147   ],\n",
              "       [7.3340154],\n",
              "       [7.353331 ],\n",
              "       [7.3726463],\n",
              "       [7.3919616],\n",
              "       [7.4112773],\n",
              "       [7.4305925],\n",
              "       [7.4499083],\n",
              "       [7.4692235],\n",
              "       [7.4885387],\n",
              "       [7.5078545],\n",
              "       [7.52717  ],\n",
              "       [7.5464854],\n",
              "       [7.5658007],\n",
              "       [7.5851164],\n",
              "       [7.6044316],\n",
              "       [7.6237473],\n",
              "       [7.643063 ],\n",
              "       [7.662378 ],\n",
              "       [7.6816936],\n",
              "       [7.7010093],\n",
              "       [7.7203245],\n",
              "       [7.73964  ],\n",
              "       [7.758956 ],\n",
              "       [7.7782707],\n",
              "       [7.7975864],\n",
              "       [7.816902 ],\n",
              "       [7.8362174],\n",
              "       [7.855533 ],\n",
              "       [7.8748484],\n",
              "       [7.8941636],\n",
              "       [7.9134793]], dtype=float32)"
            ]
          },
          "metadata": {
            "tags": []
          },
          "execution_count": 19
        }
      ]
    },
    {
      "metadata": {
        "id": "RqTxfgw14HdB",
        "colab_type": "code",
        "outputId": "283b196c-32be-4db4-dfd5-150240154208",
        "colab": {
          "base_uri": "https://localhost:8080/",
          "height": 269
        }
      },
      "cell_type": "code",
      "source": [
        "plt.plot(x, predict, 'b', x, y, 'k.')\n",
        "# = plt.plot(x, predict, 'b') + plt.plot(x, y, 'k.')\n",
        "plt.show()"
      ],
      "execution_count": 0,
      "outputs": [
        {
          "output_type": "display_data",
          "data": {
            "image/png": "[encoded data removed]",
            "text/plain": [
              "<Figure size 432x288 with 1 Axes>"
            ]
          },
          "metadata": {
            "tags": []
          }
        }
      ]
    },
    {
      "metadata": {
        "id": "Vweg5Y6a41Sa",
        "colab_type": "code",
        "colab": {}
      },
      "cell_type": "code",
      "source": [
        ""
      ],
      "execution_count": 0,
      "outputs": []
    }
  ]
}