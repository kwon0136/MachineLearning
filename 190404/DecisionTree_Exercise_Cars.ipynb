{
  "nbformat": 4,
  "nbformat_minor": 0,
  "metadata": {
    "colab": {
      "name": "DecisionTree_Exercise_Cars.ipynb",
      "version": "0.3.2",
      "provenance": [],
      "collapsed_sections": [],
      "include_colab_link": true
    },
    "kernelspec": {
      "name": "python3",
      "display_name": "Python 3"
    }
  },
  "cells": [
    {
      "cell_type": "markdown",
      "metadata": {
        "id": "view-in-github",
        "colab_type": "text"
      },
      "source": [
        "<a href=\"https://colab.research.google.com/github/kwon0136/MachineLearning/blob/master/190404/DecisionTree_Exercise_Cars.ipynb\" target=\"_parent\"><img src=\"https://colab.research.google.com/assets/colab-badge.svg\" alt=\"Open In Colab\"/></a>"
      ]
    },
    {
      "metadata": {
        "id": "HfVWDjASpzvx",
        "colab_type": "code",
        "colab": {}
      },
      "cell_type": "code",
      "source": [
        "import numpy as np\n",
        "import pandas as pd\n",
        "import matplotlib.pyplot as plt\n",
        "\n",
        "from sklearn import tree\n",
        "from sklearn.model_selection import train_test_split\n",
        "from sklearn.tree import DecisionTreeClassifier"
      ],
      "execution_count": 0,
      "outputs": []
    },
    {
      "metadata": {
        "id": "G0uB6UrGpnYn",
        "colab_type": "code",
        "outputId": "e0b82cb0-ad2c-4832-cb66-37f0757ecfff",
        "colab": {
          "base_uri": "https://localhost:8080/",
          "height": 204
        }
      },
      "cell_type": "code",
      "source": [
        "data = pd.read_csv(\"Car.csv\")\n",
        "data.head()"
      ],
      "execution_count": 0,
      "outputs": [
        {
          "output_type": "execute_result",
          "data": {
            "text/html": [
              "<div>\n",
              "<style scoped>\n",
              "    .dataframe tbody tr th:only-of-type {\n",
              "        vertical-align: middle;\n",
              "    }\n",
              "\n",
              "    .dataframe tbody tr th {\n",
              "        vertical-align: top;\n",
              "    }\n",
              "\n",
              "    .dataframe thead th {\n",
              "        text-align: right;\n",
              "    }\n",
              "</style>\n",
              "<table border=\"1\" class=\"dataframe\">\n",
              "  <thead>\n",
              "    <tr style=\"text-align: right;\">\n",
              "      <th></th>\n",
              "      <th>buying</th>\n",
              "      <th>maint</th>\n",
              "      <th>doors</th>\n",
              "      <th>persons</th>\n",
              "      <th>lug_boot</th>\n",
              "      <th>safety</th>\n",
              "      <th>class</th>\n",
              "    </tr>\n",
              "  </thead>\n",
              "  <tbody>\n",
              "    <tr>\n",
              "      <th>0</th>\n",
              "      <td>vhigh</td>\n",
              "      <td>vhigh</td>\n",
              "      <td>2</td>\n",
              "      <td>2</td>\n",
              "      <td>small</td>\n",
              "      <td>low</td>\n",
              "      <td>unacc</td>\n",
              "    </tr>\n",
              "    <tr>\n",
              "      <th>1</th>\n",
              "      <td>vhigh</td>\n",
              "      <td>vhigh</td>\n",
              "      <td>2</td>\n",
              "      <td>2</td>\n",
              "      <td>small</td>\n",
              "      <td>med</td>\n",
              "      <td>unacc</td>\n",
              "    </tr>\n",
              "    <tr>\n",
              "      <th>2</th>\n",
              "      <td>vhigh</td>\n",
              "      <td>vhigh</td>\n",
              "      <td>2</td>\n",
              "      <td>2</td>\n",
              "      <td>small</td>\n",
              "      <td>high</td>\n",
              "      <td>unacc</td>\n",
              "    </tr>\n",
              "    <tr>\n",
              "      <th>3</th>\n",
              "      <td>vhigh</td>\n",
              "      <td>vhigh</td>\n",
              "      <td>2</td>\n",
              "      <td>2</td>\n",
              "      <td>med</td>\n",
              "      <td>low</td>\n",
              "      <td>unacc</td>\n",
              "    </tr>\n",
              "    <tr>\n",
              "      <th>4</th>\n",
              "      <td>vhigh</td>\n",
              "      <td>vhigh</td>\n",
              "      <td>2</td>\n",
              "      <td>2</td>\n",
              "      <td>med</td>\n",
              "      <td>med</td>\n",
              "      <td>unacc</td>\n",
              "    </tr>\n",
              "  </tbody>\n",
              "</table>\n",
              "</div>"
            ],
            "text/plain": [
              "  buying  maint doors persons lug_boot safety  class\n",
              "0  vhigh  vhigh     2       2    small    low  unacc\n",
              "1  vhigh  vhigh     2       2    small    med  unacc\n",
              "2  vhigh  vhigh     2       2    small   high  unacc\n",
              "3  vhigh  vhigh     2       2      med    low  unacc\n",
              "4  vhigh  vhigh     2       2      med    med  unacc"
            ]
          },
          "metadata": {
            "tags": []
          },
          "execution_count": 54
        }
      ]
    },
    {
      "metadata": {
        "id": "LOdC63r1zBbs",
        "colab_type": "code",
        "colab": {}
      },
      "cell_type": "code",
      "source": [
        "# Transform the column(string --> int) ******************************************************* string 불가능?? 이응..\n",
        "\n",
        "from sklearn import preprocessing\n",
        "\n",
        "le = preprocessing.LabelEncoder()\n",
        "\n",
        "data['buying'] = le.fit_transform(data.buying)\n",
        "data['maint'] = le.fit_transform(data.maint)\n",
        "data['lug_boot'] = le.fit_transform(data.lug_boot)\n",
        "data['safety'] = le.fit_transform(data.safety)\n",
        "data['doors'] = le.fit_transform(data.doors)\n",
        "data['persons'] = le.fit_transform(data.persons)"
      ],
      "execution_count": 0,
      "outputs": []
    },
    {
      "metadata": {
        "id": "8H5JL4VO_V67",
        "colab_type": "text"
      },
      "cell_type": "markdown",
      "source": [
        "---\n",
        "df['gender_factor'] = pd.factorize(df.gender)[0]\n",
        "\n",
        ">>> df\n",
        "   gender  gender_factor\n",
        "0  Female              0\n",
        "1    Male              1\n",
        "2    Male              1\n",
        "3    Male              1\n",
        "4  Female              0\n",
        "5  Female              0\n",
        "6    Male              1\n",
        "7  Female              0\n",
        "8  Female              0\n",
        "9  Female              0\n",
        "\n",
        "---"
      ]
    },
    {
      "metadata": {
        "id": "qAFmqwDe1J11",
        "colab_type": "code",
        "outputId": "64b05ec3-ee56-4047-f3c6-526adeecb75a",
        "colab": {
          "base_uri": "https://localhost:8080/",
          "height": 204
        }
      },
      "cell_type": "code",
      "source": [
        "data.head()"
      ],
      "execution_count": 0,
      "outputs": [
        {
          "output_type": "execute_result",
          "data": {
            "text/html": [
              "<div>\n",
              "<style scoped>\n",
              "    .dataframe tbody tr th:only-of-type {\n",
              "        vertical-align: middle;\n",
              "    }\n",
              "\n",
              "    .dataframe tbody tr th {\n",
              "        vertical-align: top;\n",
              "    }\n",
              "\n",
              "    .dataframe thead th {\n",
              "        text-align: right;\n",
              "    }\n",
              "</style>\n",
              "<table border=\"1\" class=\"dataframe\">\n",
              "  <thead>\n",
              "    <tr style=\"text-align: right;\">\n",
              "      <th></th>\n",
              "      <th>buying</th>\n",
              "      <th>maint</th>\n",
              "      <th>doors</th>\n",
              "      <th>persons</th>\n",
              "      <th>lug_boot</th>\n",
              "      <th>safety</th>\n",
              "      <th>class</th>\n",
              "    </tr>\n",
              "  </thead>\n",
              "  <tbody>\n",
              "    <tr>\n",
              "      <th>0</th>\n",
              "      <td>3</td>\n",
              "      <td>3</td>\n",
              "      <td>0</td>\n",
              "      <td>0</td>\n",
              "      <td>2</td>\n",
              "      <td>1</td>\n",
              "      <td>unacc</td>\n",
              "    </tr>\n",
              "    <tr>\n",
              "      <th>1</th>\n",
              "      <td>3</td>\n",
              "      <td>3</td>\n",
              "      <td>0</td>\n",
              "      <td>0</td>\n",
              "      <td>2</td>\n",
              "      <td>2</td>\n",
              "      <td>unacc</td>\n",
              "    </tr>\n",
              "    <tr>\n",
              "      <th>2</th>\n",
              "      <td>3</td>\n",
              "      <td>3</td>\n",
              "      <td>0</td>\n",
              "      <td>0</td>\n",
              "      <td>2</td>\n",
              "      <td>0</td>\n",
              "      <td>unacc</td>\n",
              "    </tr>\n",
              "    <tr>\n",
              "      <th>3</th>\n",
              "      <td>3</td>\n",
              "      <td>3</td>\n",
              "      <td>0</td>\n",
              "      <td>0</td>\n",
              "      <td>1</td>\n",
              "      <td>1</td>\n",
              "      <td>unacc</td>\n",
              "    </tr>\n",
              "    <tr>\n",
              "      <th>4</th>\n",
              "      <td>3</td>\n",
              "      <td>3</td>\n",
              "      <td>0</td>\n",
              "      <td>0</td>\n",
              "      <td>1</td>\n",
              "      <td>2</td>\n",
              "      <td>unacc</td>\n",
              "    </tr>\n",
              "  </tbody>\n",
              "</table>\n",
              "</div>"
            ],
            "text/plain": [
              "   buying  maint  doors  persons  lug_boot  safety  class\n",
              "0       3      3      0        0         2       1  unacc\n",
              "1       3      3      0        0         2       2  unacc\n",
              "2       3      3      0        0         2       0  unacc\n",
              "3       3      3      0        0         1       1  unacc\n",
              "4       3      3      0        0         1       2  unacc"
            ]
          },
          "metadata": {
            "tags": []
          },
          "execution_count": 60
        }
      ]
    },
    {
      "metadata": {
        "id": "ILMCIq0_v2V6",
        "colab_type": "code",
        "colab": {}
      },
      "cell_type": "code",
      "source": [
        "\n",
        "sel_names = ['buying', 'maint', 'doors', 'persons', 'lug_boot', 'safety']\n",
        "x = data[sel_names]\n",
        "y = data['class']"
      ],
      "execution_count": 0,
      "outputs": []
    },
    {
      "metadata": {
        "id": "4edBXkD7wjxi",
        "colab_type": "code",
        "outputId": "4e62e8ef-6fd1-4ec2-b0a6-91bab562cf06",
        "colab": {
          "base_uri": "https://localhost:8080/",
          "height": 35
        }
      },
      "cell_type": "code",
      "source": [
        "x.shape, y.shape"
      ],
      "execution_count": 0,
      "outputs": [
        {
          "output_type": "execute_result",
          "data": {
            "text/plain": [
              "((1728, 6), (1728,))"
            ]
          },
          "metadata": {
            "tags": []
          },
          "execution_count": 81
        }
      ]
    },
    {
      "metadata": {
        "id": "G4mqnAKgxZqM",
        "colab_type": "code",
        "outputId": "68bfa949-6691-43b3-9d55-f7e7ee574485",
        "colab": {
          "base_uri": "https://localhost:8080/",
          "height": 35
        }
      },
      "cell_type": "code",
      "source": [
        "type(x), type(y)"
      ],
      "execution_count": 0,
      "outputs": [
        {
          "output_type": "execute_result",
          "data": {
            "text/plain": [
              "(pandas.core.frame.DataFrame, pandas.core.series.Series)"
            ]
          },
          "metadata": {
            "tags": []
          },
          "execution_count": 82
        }
      ]
    },
    {
      "metadata": {
        "id": "lxcB7CDPxd6W",
        "colab_type": "code",
        "colab": {}
      },
      "cell_type": "code",
      "source": [
        "x1 = x.values\n",
        "y1 = y.values.reshape(-1,1)"
      ],
      "execution_count": 0,
      "outputs": []
    },
    {
      "metadata": {
        "id": "mx6OhyPMxnSV",
        "colab_type": "code",
        "outputId": "a088be67-0687-4f86-dbe5-2ff3c21b81fb",
        "colab": {
          "base_uri": "https://localhost:8080/",
          "height": 35
        }
      },
      "cell_type": "code",
      "source": [
        "x1.shape, y1.shape"
      ],
      "execution_count": 0,
      "outputs": [
        {
          "output_type": "execute_result",
          "data": {
            "text/plain": [
              "((1728, 6), (1728, 1))"
            ]
          },
          "metadata": {
            "tags": []
          },
          "execution_count": 84
        }
      ]
    },
    {
      "metadata": {
        "id": "_RgYHoLCxqbA",
        "colab_type": "code",
        "colab": {}
      },
      "cell_type": "code",
      "source": [
        "xtrain, xtest, ytrain, ytest = train_test_split(x1, y1, test_size=0.25, random_state=0)"
      ],
      "execution_count": 0,
      "outputs": []
    },
    {
      "metadata": {
        "id": "_7weZROwC3Iw",
        "colab_type": "code",
        "colab": {}
      },
      "cell_type": "code",
      "source": [
        "DecisionTreeClassifier?"
      ],
      "execution_count": 0,
      "outputs": []
    },
    {
      "metadata": {
        "id": "BECguWO-yexy",
        "colab_type": "code",
        "outputId": "17829bf7-25f1-4d64-af10-ad7ad7e6e764",
        "colab": {
          "base_uri": "https://localhost:8080/",
          "height": 125
        }
      },
      "cell_type": "code",
      "source": [
        "# DecisionTree\n",
        "\n",
        "dstClf = DecisionTreeClassifier(criterion=\"entropy\", max_depth=3, random_state=0)\n",
        "dstClf.fit(xtrain, ytrain)"
      ],
      "execution_count": 0,
      "outputs": [
        {
          "output_type": "execute_result",
          "data": {
            "text/plain": [
              "DecisionTreeClassifier(class_weight=None, criterion='entropy', max_depth=3,\n",
              "            max_features=None, max_leaf_nodes=None,\n",
              "            min_impurity_decrease=0.0, min_impurity_split=None,\n",
              "            min_samples_leaf=1, min_samples_split=2,\n",
              "            min_weight_fraction_leaf=0.0, presort=False, random_state=0,\n",
              "            splitter='best')"
            ]
          },
          "metadata": {
            "tags": []
          },
          "execution_count": 87
        }
      ]
    },
    {
      "metadata": {
        "id": "pd1y1FlDylO-",
        "colab_type": "code",
        "outputId": "a0a472ff-ad9d-4550-de93-31ec462b832c",
        "colab": {
          "base_uri": "https://localhost:8080/",
          "height": 1007
        }
      },
      "cell_type": "code",
      "source": [
        "yResult = dstClf.predict(xtest)\n",
        "yResult"
      ],
      "execution_count": 0,
      "outputs": [
        {
          "output_type": "execute_result",
          "data": {
            "text/plain": [
              "array(['acc', 'acc', 'unacc', 'unacc', 'unacc', 'acc', 'unacc', 'acc',\n",
              "       'acc', 'acc', 'unacc', 'unacc', 'acc', 'unacc', 'unacc', 'acc',\n",
              "       'acc', 'acc', 'acc', 'acc', 'acc', 'acc', 'acc', 'unacc', 'unacc',\n",
              "       'unacc', 'unacc', 'unacc', 'acc', 'unacc', 'acc', 'acc', 'unacc',\n",
              "       'acc', 'acc', 'unacc', 'acc', 'unacc', 'unacc', 'unacc', 'acc',\n",
              "       'unacc', 'acc', 'unacc', 'acc', 'unacc', 'acc', 'acc', 'unacc',\n",
              "       'unacc', 'unacc', 'acc', 'unacc', 'unacc', 'unacc', 'unacc',\n",
              "       'unacc', 'unacc', 'unacc', 'acc', 'acc', 'acc', 'unacc', 'acc',\n",
              "       'acc', 'unacc', 'unacc', 'unacc', 'unacc', 'unacc', 'unacc', 'acc',\n",
              "       'acc', 'acc', 'acc', 'acc', 'unacc', 'acc', 'acc', 'unacc', 'acc',\n",
              "       'acc', 'acc', 'acc', 'acc', 'unacc', 'unacc', 'acc', 'unacc',\n",
              "       'unacc', 'unacc', 'acc', 'acc', 'unacc', 'unacc', 'acc', 'unacc',\n",
              "       'acc', 'unacc', 'acc', 'unacc', 'acc', 'acc', 'unacc', 'acc',\n",
              "       'acc', 'unacc', 'acc', 'unacc', 'unacc', 'unacc', 'acc', 'acc',\n",
              "       'acc', 'unacc', 'acc', 'acc', 'unacc', 'unacc', 'unacc', 'unacc',\n",
              "       'unacc', 'acc', 'unacc', 'unacc', 'unacc', 'unacc', 'acc', 'acc',\n",
              "       'unacc', 'unacc', 'unacc', 'acc', 'unacc', 'acc', 'unacc', 'unacc',\n",
              "       'unacc', 'acc', 'unacc', 'unacc', 'unacc', 'unacc', 'acc', 'unacc',\n",
              "       'unacc', 'acc', 'unacc', 'acc', 'acc', 'acc', 'acc', 'unacc',\n",
              "       'unacc', 'unacc', 'acc', 'acc', 'unacc', 'unacc', 'unacc', 'acc',\n",
              "       'unacc', 'acc', 'unacc', 'acc', 'unacc', 'unacc', 'acc', 'unacc',\n",
              "       'unacc', 'unacc', 'unacc', 'unacc', 'acc', 'acc', 'unacc', 'unacc',\n",
              "       'unacc', 'unacc', 'unacc', 'unacc', 'acc', 'acc', 'acc', 'acc',\n",
              "       'unacc', 'acc', 'unacc', 'unacc', 'unacc', 'unacc', 'acc', 'unacc',\n",
              "       'unacc', 'unacc', 'unacc', 'unacc', 'acc', 'unacc', 'acc', 'unacc',\n",
              "       'acc', 'acc', 'acc', 'unacc', 'unacc', 'unacc', 'unacc', 'unacc',\n",
              "       'unacc', 'unacc', 'acc', 'unacc', 'unacc', 'unacc', 'unacc',\n",
              "       'unacc', 'acc', 'acc', 'unacc', 'unacc', 'acc', 'unacc', 'acc',\n",
              "       'unacc', 'unacc', 'unacc', 'acc', 'unacc', 'unacc', 'unacc',\n",
              "       'unacc', 'acc', 'unacc', 'acc', 'unacc', 'acc', 'acc', 'unacc',\n",
              "       'unacc', 'unacc', 'unacc', 'unacc', 'unacc', 'acc', 'unacc', 'acc',\n",
              "       'unacc', 'unacc', 'unacc', 'unacc', 'unacc', 'acc', 'acc', 'acc',\n",
              "       'acc', 'acc', 'unacc', 'unacc', 'unacc', 'acc', 'unacc', 'acc',\n",
              "       'acc', 'unacc', 'unacc', 'acc', 'unacc', 'acc', 'unacc', 'unacc',\n",
              "       'unacc', 'acc', 'unacc', 'acc', 'unacc', 'unacc', 'unacc', 'acc',\n",
              "       'unacc', 'unacc', 'unacc', 'acc', 'unacc', 'unacc', 'acc', 'unacc',\n",
              "       'acc', 'acc', 'unacc', 'unacc', 'unacc', 'unacc', 'acc', 'unacc',\n",
              "       'unacc', 'unacc', 'unacc', 'unacc', 'acc', 'unacc', 'acc', 'acc',\n",
              "       'acc', 'acc', 'unacc', 'acc', 'unacc', 'unacc', 'unacc', 'acc',\n",
              "       'acc', 'unacc', 'acc', 'acc', 'acc', 'acc', 'unacc', 'unacc',\n",
              "       'unacc', 'unacc', 'acc', 'acc', 'unacc', 'unacc', 'acc', 'acc',\n",
              "       'unacc', 'unacc', 'unacc', 'acc', 'unacc', 'acc', 'unacc', 'acc',\n",
              "       'unacc', 'acc', 'acc', 'acc', 'unacc', 'unacc', 'acc', 'unacc',\n",
              "       'unacc', 'unacc', 'acc', 'unacc', 'unacc', 'acc', 'unacc', 'acc',\n",
              "       'unacc', 'unacc', 'acc', 'acc', 'unacc', 'unacc', 'acc', 'acc',\n",
              "       'acc', 'unacc', 'acc', 'unacc', 'unacc', 'acc', 'acc', 'acc',\n",
              "       'acc', 'unacc', 'acc', 'unacc', 'unacc', 'unacc', 'acc', 'unacc',\n",
              "       'unacc', 'unacc', 'acc', 'acc', 'acc', 'acc', 'unacc', 'acc',\n",
              "       'unacc', 'unacc', 'unacc', 'acc', 'unacc', 'unacc', 'unacc',\n",
              "       'unacc', 'unacc', 'unacc', 'acc', 'unacc', 'unacc', 'acc', 'unacc',\n",
              "       'unacc', 'acc', 'acc', 'acc', 'unacc', 'unacc', 'acc', 'unacc',\n",
              "       'unacc', 'acc', 'acc', 'acc', 'unacc', 'unacc', 'acc', 'acc',\n",
              "       'unacc', 'acc', 'acc', 'acc', 'unacc', 'acc', 'unacc', 'acc',\n",
              "       'acc', 'unacc', 'unacc', 'unacc', 'acc', 'unacc', 'unacc', 'acc',\n",
              "       'unacc', 'acc'], dtype=object)"
            ]
          },
          "metadata": {
            "tags": []
          },
          "execution_count": 88
        }
      ]
    },
    {
      "metadata": {
        "id": "FfsljLk26DRA",
        "colab_type": "code",
        "outputId": "d2d6f684-37d5-4a45-aefe-6f054216166e",
        "colab": {
          "base_uri": "https://localhost:8080/",
          "height": 35
        }
      },
      "cell_type": "code",
      "source": [
        "from sklearn import metrics\n",
        "\n",
        "metrics.accuracy_score(ytest, yResult)"
      ],
      "execution_count": 0,
      "outputs": [
        {
          "output_type": "execute_result",
          "data": {
            "text/plain": [
              "0.7638888888888888"
            ]
          },
          "metadata": {
            "tags": []
          },
          "execution_count": 89
        }
      ]
    },
    {
      "metadata": {
        "id": "T64x2R02DaXy",
        "colab_type": "code",
        "colab": {}
      },
      "cell_type": "code",
      "source": [
        "#*********************************************************************************************************************\n",
        "import os\n",
        "import graphviz\n",
        "os.environ['PATH'] += os.pathsep + 'C:\\\\Program Files (x86)\\\\Graphviz2.38\\\\bin'"
      ],
      "execution_count": 0,
      "outputs": []
    },
    {
      "metadata": {
        "id": "exTWKp2xD00F",
        "colab_type": "code",
        "outputId": "30cd666b-4fb7-4866-c727-1fe86b9f1860",
        "colab": {
          "base_uri": "https://localhost:8080/",
          "height": 537
        }
      },
      "cell_type": "code",
      "source": [
        "dot_data = tree.export_graphviz(dstClf, out_file=None, filled=True, rounded=True,\n",
        "                               feature_names=list(data.columns.values[:-1]))\n",
        "graph = graphviz.Source(dot_data)\n",
        "graph"
      ],
      "execution_count": 0,
      "outputs": [
        {
          "output_type": "execute_result",
          "data": {
            "text/plain": [
              "<graphviz.files.Source at 0x7f8e2814acc0>"
            ],
            "image/svg+xml": "<?xml version=\"1.0\" encoding=\"UTF-8\" standalone=\"no\"?>\n<!DOCTYPE svg PUBLIC \"-//W3C//DTD SVG 1.1//EN\"\n \"http://www.w3.org/Graphics/SVG/1.1/DTD/svg11.dtd\">\n<!-- Generated by graphviz version 2.40.1 (20161225.0304)\n -->\n<!-- Title: Tree Pages: 1 -->\n<svg width=\"713pt\" height=\"373pt\"\n viewBox=\"0.00 0.00 713.00 373.00\" xmlns=\"http://www.w3.org/2000/svg\" xmlns:xlink=\"http://www.w3.org/1999/xlink\">\n<g id=\"graph0\" class=\"graph\" transform=\"scale(1 1) rotate(0) translate(4 369)\">\n<title>Tree</title>\n<polygon fill=\"#ffffff\" stroke=\"transparent\" points=\"-4,4 -4,-369 709,-369 709,4 -4,4\"/>\n<!-- 0 -->\n<g id=\"node1\" class=\"node\">\n<title>0</title>\n<path fill=\"#399de5\" fill-opacity=\"0.623529\" stroke=\"#000000\" d=\"M339,-365C339,-365 183,-365 183,-365 177,-365 171,-359 171,-353 171,-353 171,-309 171,-309 171,-303 177,-297 183,-297 183,-297 339,-297 339,-297 345,-297 351,-303 351,-309 351,-309 351,-353 351,-353 351,-359 345,-365 339,-365\"/>\n<text text-anchor=\"middle\" x=\"261\" y=\"-349.8\" font-family=\"Helvetica,sans-Serif\" font-size=\"14.00\" fill=\"#000000\">persons &lt;= 0.5</text>\n<text text-anchor=\"middle\" x=\"261\" y=\"-334.8\" font-family=\"Helvetica,sans-Serif\" font-size=\"14.00\" fill=\"#000000\">entropy = 1.191</text>\n<text text-anchor=\"middle\" x=\"261\" y=\"-319.8\" font-family=\"Helvetica,sans-Serif\" font-size=\"14.00\" fill=\"#000000\">samples = 1296</text>\n<text text-anchor=\"middle\" x=\"261\" y=\"-304.8\" font-family=\"Helvetica,sans-Serif\" font-size=\"14.00\" fill=\"#000000\">value = [285, 48, 914, 49]</text>\n</g>\n<!-- 1 -->\n<g id=\"node2\" class=\"node\">\n<title>1</title>\n<path fill=\"#399de5\" stroke=\"#000000\" d=\"M231.5,-253.5C231.5,-253.5 108.5,-253.5 108.5,-253.5 102.5,-253.5 96.5,-247.5 96.5,-241.5 96.5,-241.5 96.5,-212.5 96.5,-212.5 96.5,-206.5 102.5,-200.5 108.5,-200.5 108.5,-200.5 231.5,-200.5 231.5,-200.5 237.5,-200.5 243.5,-206.5 243.5,-212.5 243.5,-212.5 243.5,-241.5 243.5,-241.5 243.5,-247.5 237.5,-253.5 231.5,-253.5\"/>\n<text text-anchor=\"middle\" x=\"170\" y=\"-238.3\" font-family=\"Helvetica,sans-Serif\" font-size=\"14.00\" fill=\"#000000\">entropy = 0.0</text>\n<text text-anchor=\"middle\" x=\"170\" y=\"-223.3\" font-family=\"Helvetica,sans-Serif\" font-size=\"14.00\" fill=\"#000000\">samples = 435</text>\n<text text-anchor=\"middle\" x=\"170\" y=\"-208.3\" font-family=\"Helvetica,sans-Serif\" font-size=\"14.00\" fill=\"#000000\">value = [0, 0, 435, 0]</text>\n</g>\n<!-- 0&#45;&gt;1 -->\n<g id=\"edge1\" class=\"edge\">\n<title>0&#45;&gt;1</title>\n<path fill=\"none\" stroke=\"#000000\" d=\"M231.2032,-296.9465C221.1796,-285.491 209.9972,-272.711 199.961,-261.2412\"/>\n<polygon fill=\"#000000\" stroke=\"#000000\" points=\"202.4435,-258.7632 193.2244,-253.5422 197.1754,-263.3727 202.4435,-258.7632\"/>\n<text text-anchor=\"middle\" x=\"191.5614\" y=\"-274.7868\" font-family=\"Helvetica,sans-Serif\" font-size=\"14.00\" fill=\"#000000\">True</text>\n</g>\n<!-- 2 -->\n<g id=\"node3\" class=\"node\">\n<title>2</title>\n<path fill=\"#399de5\" fill-opacity=\"0.337255\" stroke=\"#000000\" d=\"M430,-261C430,-261 274,-261 274,-261 268,-261 262,-255 262,-249 262,-249 262,-205 262,-205 262,-199 268,-193 274,-193 274,-193 430,-193 430,-193 436,-193 442,-199 442,-205 442,-205 442,-249 442,-249 442,-255 436,-261 430,-261\"/>\n<text text-anchor=\"middle\" x=\"352\" y=\"-245.8\" font-family=\"Helvetica,sans-Serif\" font-size=\"14.00\" fill=\"#000000\">safety &lt;= 0.5</text>\n<text text-anchor=\"middle\" x=\"352\" y=\"-230.8\" font-family=\"Helvetica,sans-Serif\" font-size=\"14.00\" fill=\"#000000\">entropy = 1.466</text>\n<text text-anchor=\"middle\" x=\"352\" y=\"-215.8\" font-family=\"Helvetica,sans-Serif\" font-size=\"14.00\" fill=\"#000000\">samples = 861</text>\n<text text-anchor=\"middle\" x=\"352\" y=\"-200.8\" font-family=\"Helvetica,sans-Serif\" font-size=\"14.00\" fill=\"#000000\">value = [285, 48, 479, 49]</text>\n</g>\n<!-- 0&#45;&gt;2 -->\n<g id=\"edge2\" class=\"edge\">\n<title>0&#45;&gt;2</title>\n<path fill=\"none\" stroke=\"#000000\" d=\"M290.7968,-296.9465C298.653,-287.968 307.2212,-278.1758 315.3913,-268.8385\"/>\n<polygon fill=\"#000000\" stroke=\"#000000\" points=\"318.1852,-270.9606 322.1363,-261.13 312.9171,-266.351 318.1852,-270.9606\"/>\n<text text-anchor=\"middle\" x=\"323.7992\" y=\"-282.3746\" font-family=\"Helvetica,sans-Serif\" font-size=\"14.00\" fill=\"#000000\">False</text>\n</g>\n<!-- 3 -->\n<g id=\"node4\" class=\"node\">\n<title>3</title>\n<path fill=\"#e58139\" fill-opacity=\"0.400000\" stroke=\"#000000\" d=\"M331,-157C331,-157 183,-157 183,-157 177,-157 171,-151 171,-145 171,-145 171,-101 171,-101 171,-95 177,-89 183,-89 183,-89 331,-89 331,-89 337,-89 343,-95 343,-101 343,-101 343,-145 343,-145 343,-151 337,-157 331,-157\"/>\n<text text-anchor=\"middle\" x=\"257\" y=\"-141.8\" font-family=\"Helvetica,sans-Serif\" font-size=\"14.00\" fill=\"#000000\">buying &lt;= 2.5</text>\n<text text-anchor=\"middle\" x=\"257\" y=\"-126.8\" font-family=\"Helvetica,sans-Serif\" font-size=\"14.00\" fill=\"#000000\">entropy = 1.679</text>\n<text text-anchor=\"middle\" x=\"257\" y=\"-111.8\" font-family=\"Helvetica,sans-Serif\" font-size=\"14.00\" fill=\"#000000\">samples = 285</text>\n<text text-anchor=\"middle\" x=\"257\" y=\"-96.8\" font-family=\"Helvetica,sans-Serif\" font-size=\"14.00\" fill=\"#000000\">value = [152, 21, 63, 49]</text>\n</g>\n<!-- 2&#45;&gt;3 -->\n<g id=\"edge3\" class=\"edge\">\n<title>2&#45;&gt;3</title>\n<path fill=\"none\" stroke=\"#000000\" d=\"M320.8934,-192.9465C312.6099,-183.8782 303.5682,-173.9799 294.9621,-164.5585\"/>\n<polygon fill=\"#000000\" stroke=\"#000000\" points=\"297.505,-162.1528 288.1764,-157.13 292.3367,-166.8739 297.505,-162.1528\"/>\n</g>\n<!-- 6 -->\n<g id=\"node7\" class=\"node\">\n<title>6</title>\n<path fill=\"#399de5\" fill-opacity=\"0.639216\" stroke=\"#000000\" d=\"M521,-157C521,-157 373,-157 373,-157 367,-157 361,-151 361,-145 361,-145 361,-101 361,-101 361,-95 367,-89 373,-89 373,-89 521,-89 521,-89 527,-89 533,-95 533,-101 533,-101 533,-145 533,-145 533,-151 527,-157 521,-157\"/>\n<text text-anchor=\"middle\" x=\"447\" y=\"-141.8\" font-family=\"Helvetica,sans-Serif\" font-size=\"14.00\" fill=\"#000000\">safety &lt;= 1.5</text>\n<text text-anchor=\"middle\" x=\"447\" y=\"-126.8\" font-family=\"Helvetica,sans-Serif\" font-size=\"14.00\" fill=\"#000000\">entropy = 1.034</text>\n<text text-anchor=\"middle\" x=\"447\" y=\"-111.8\" font-family=\"Helvetica,sans-Serif\" font-size=\"14.00\" fill=\"#000000\">samples = 576</text>\n<text text-anchor=\"middle\" x=\"447\" y=\"-96.8\" font-family=\"Helvetica,sans-Serif\" font-size=\"14.00\" fill=\"#000000\">value = [133, 27, 416, 0]</text>\n</g>\n<!-- 2&#45;&gt;6 -->\n<g id=\"edge6\" class=\"edge\">\n<title>2&#45;&gt;6</title>\n<path fill=\"none\" stroke=\"#000000\" d=\"M383.1066,-192.9465C391.3901,-183.8782 400.4318,-173.9799 409.0379,-164.5585\"/>\n<polygon fill=\"#000000\" stroke=\"#000000\" points=\"411.6633,-166.8739 415.8236,-157.13 406.495,-162.1528 411.6633,-166.8739\"/>\n</g>\n<!-- 4 -->\n<g id=\"node5\" class=\"node\">\n<title>4</title>\n<path fill=\"#e58139\" fill-opacity=\"0.407843\" stroke=\"#000000\" d=\"M160,-53C160,-53 12,-53 12,-53 6,-53 0,-47 0,-41 0,-41 0,-12 0,-12 0,-6 6,0 12,0 12,0 160,0 160,0 166,0 172,-6 172,-12 172,-12 172,-41 172,-41 172,-47 166,-53 160,-53\"/>\n<text text-anchor=\"middle\" x=\"86\" y=\"-37.8\" font-family=\"Helvetica,sans-Serif\" font-size=\"14.00\" fill=\"#000000\">entropy = 1.66</text>\n<text text-anchor=\"middle\" x=\"86\" y=\"-22.8\" font-family=\"Helvetica,sans-Serif\" font-size=\"14.00\" fill=\"#000000\">samples = 208</text>\n<text text-anchor=\"middle\" x=\"86\" y=\"-7.8\" font-family=\"Helvetica,sans-Serif\" font-size=\"14.00\" fill=\"#000000\">value = [114, 21, 24, 49]</text>\n</g>\n<!-- 3&#45;&gt;4 -->\n<g id=\"edge4\" class=\"edge\">\n<title>3&#45;&gt;4</title>\n<path fill=\"none\" stroke=\"#000000\" d=\"M196.7118,-88.9777C178.9432,-78.9504 159.5792,-68.0228 142.0859,-58.1508\"/>\n<polygon fill=\"#000000\" stroke=\"#000000\" points=\"143.5561,-54.9616 133.1269,-53.095 140.1157,-61.0579 143.5561,-54.9616\"/>\n</g>\n<!-- 5 -->\n<g id=\"node6\" class=\"node\">\n<title>5</title>\n<path fill=\"#399de5\" fill-opacity=\"0.027451\" stroke=\"#000000\" d=\"M325.5,-53C325.5,-53 202.5,-53 202.5,-53 196.5,-53 190.5,-47 190.5,-41 190.5,-41 190.5,-12 190.5,-12 190.5,-6 196.5,0 202.5,0 202.5,0 325.5,0 325.5,0 331.5,0 337.5,-6 337.5,-12 337.5,-12 337.5,-41 337.5,-41 337.5,-47 331.5,-53 325.5,-53\"/>\n<text text-anchor=\"middle\" x=\"264\" y=\"-37.8\" font-family=\"Helvetica,sans-Serif\" font-size=\"14.00\" fill=\"#000000\">entropy = 1.0</text>\n<text text-anchor=\"middle\" x=\"264\" y=\"-22.8\" font-family=\"Helvetica,sans-Serif\" font-size=\"14.00\" fill=\"#000000\">samples = 77</text>\n<text text-anchor=\"middle\" x=\"264\" y=\"-7.8\" font-family=\"Helvetica,sans-Serif\" font-size=\"14.00\" fill=\"#000000\">value = [38, 0, 39, 0]</text>\n</g>\n<!-- 3&#45;&gt;5 -->\n<g id=\"edge5\" class=\"edge\">\n<title>3&#45;&gt;5</title>\n<path fill=\"none\" stroke=\"#000000\" d=\"M259.4679,-88.9777C260.0724,-80.6449 260.722,-71.6903 261.3352,-63.2364\"/>\n<polygon fill=\"#000000\" stroke=\"#000000\" points=\"264.8269,-63.4755 262.0597,-53.2485 257.8453,-62.969 264.8269,-63.4755\"/>\n</g>\n<!-- 7 -->\n<g id=\"node8\" class=\"node\">\n<title>7</title>\n<path fill=\"#399de5\" stroke=\"#000000\" d=\"M502.5,-53C502.5,-53 379.5,-53 379.5,-53 373.5,-53 367.5,-47 367.5,-41 367.5,-41 367.5,-12 367.5,-12 367.5,-6 373.5,0 379.5,0 379.5,0 502.5,0 502.5,0 508.5,0 514.5,-6 514.5,-12 514.5,-12 514.5,-41 514.5,-41 514.5,-47 508.5,-53 502.5,-53\"/>\n<text text-anchor=\"middle\" x=\"441\" y=\"-37.8\" font-family=\"Helvetica,sans-Serif\" font-size=\"14.00\" fill=\"#000000\">entropy = 0.0</text>\n<text text-anchor=\"middle\" x=\"441\" y=\"-22.8\" font-family=\"Helvetica,sans-Serif\" font-size=\"14.00\" fill=\"#000000\">samples = 297</text>\n<text text-anchor=\"middle\" x=\"441\" y=\"-7.8\" font-family=\"Helvetica,sans-Serif\" font-size=\"14.00\" fill=\"#000000\">value = [0, 0, 297, 0]</text>\n</g>\n<!-- 6&#45;&gt;7 -->\n<g id=\"edge7\" class=\"edge\">\n<title>6&#45;&gt;7</title>\n<path fill=\"none\" stroke=\"#000000\" d=\"M444.8846,-88.9777C444.3665,-80.6449 443.8098,-71.6903 443.2841,-63.2364\"/>\n<polygon fill=\"#000000\" stroke=\"#000000\" points=\"446.777,-63.012 442.6631,-53.2485 439.7905,-63.4464 446.777,-63.012\"/>\n</g>\n<!-- 8 -->\n<g id=\"node9\" class=\"node\">\n<title>8</title>\n<path fill=\"#e58139\" fill-opacity=\"0.086275\" stroke=\"#000000\" d=\"M693,-53C693,-53 545,-53 545,-53 539,-53 533,-47 533,-41 533,-41 533,-12 533,-12 533,-6 539,0 545,0 545,0 693,0 693,0 699,0 705,-6 705,-12 705,-12 705,-41 705,-41 705,-47 699,-53 693,-53\"/>\n<text text-anchor=\"middle\" x=\"619\" y=\"-37.8\" font-family=\"Helvetica,sans-Serif\" font-size=\"14.00\" fill=\"#000000\">entropy = 1.36</text>\n<text text-anchor=\"middle\" x=\"619\" y=\"-22.8\" font-family=\"Helvetica,sans-Serif\" font-size=\"14.00\" fill=\"#000000\">samples = 279</text>\n<text text-anchor=\"middle\" x=\"619\" y=\"-7.8\" font-family=\"Helvetica,sans-Serif\" font-size=\"14.00\" fill=\"#000000\">value = [133, 27, 119, 0]</text>\n</g>\n<!-- 6&#45;&gt;8 -->\n<g id=\"edge8\" class=\"edge\">\n<title>6&#45;&gt;8</title>\n<path fill=\"none\" stroke=\"#000000\" d=\"M507.6408,-88.9777C525.5133,-78.9504 544.9905,-68.0228 562.5861,-58.1508\"/>\n<polygon fill=\"#000000\" stroke=\"#000000\" points=\"564.5888,-61.0405 571.5975,-53.095 561.1637,-54.9356 564.5888,-61.0405\"/>\n</g>\n</g>\n</svg>\n"
          },
          "metadata": {
            "tags": []
          },
          "execution_count": 100
        }
      ]
    },
    {
      "metadata": {
        "id": "eSB4FKSTEJi7",
        "colab_type": "code",
        "colab": {}
      },
      "cell_type": "code",
      "source": [
        ""
      ],
      "execution_count": 0,
      "outputs": []
    }
  ]
}