{
  "nbformat": 4,
  "nbformat_minor": 0,
  "metadata": {
    "colab": {
      "name": "RandomForest.ipynb",
      "version": "0.3.2",
      "provenance": [],
      "collapsed_sections": [],
      "include_colab_link": true
    },
    "kernelspec": {
      "name": "python3",
      "display_name": "Python 3"
    }
  },
  "cells": [
    {
      "cell_type": "markdown",
      "metadata": {
        "id": "view-in-github",
        "colab_type": "text"
      },
      "source": [
        "<a href=\"https://colab.research.google.com/github/kwon0136/MachineLearning/blob/master/190405/RandomForest.ipynb\" target=\"_parent\"><img src=\"https://colab.research.google.com/assets/colab-badge.svg\" alt=\"Open In Colab\"/></a>"
      ]
    },
    {
      "metadata": {
        "id": "1fYGAbO_66Tm",
        "colab_type": "text"
      },
      "cell_type": "markdown",
      "source": [
        "##모형 결합\n",
        "* 모형 결합(model combining) 방법은 앙상블 방법론(ensemble methods)이라고도 한다. 이는 특정한 하나의 예측 방법이 아니라 복수의 예측 모형을 결합하여 더 나은 성능의 예측을 하려는 시도이다.\n",
        "\n",
        "* 모형 결합 방법을 사용하면 일반적으로 계산량은 증가하지만 다음과 같은 효과가 있다.\n",
        "\n",
        "  * 단일 모형을 사용할 때 보다 성능 분산이 감소하고, 즉 과최적화를 방지한다.\n",
        "  * 개별 모형이 성능이 안좋을 경우에는 결합 모형의 성능이 더 향상된다.\n",
        "* 모형 결합 방법은 크게 나누어 취합(aggregation) 방법론과 부스팅(boosting) 방법론으로 나눌 수 있다.\n",
        "\n",
        "  * 취합 방법론은 사용할 모형의 집합이 이미 결정되어 있지만\n",
        "   * 다수결 (Majority Voting)\n",
        "   * 배깅 (Bagging)\n",
        "   * 랜덤포레스트 (Random Forests)\n",
        "  * 부스팅 방법론은 사용할 모형을 점진적으로 늘려간다.\n",
        "   * 에이다부스트 (AdaBoost)\n",
        "   * 그레디언트 부스트 (Gradient Boost)"
      ]
    },
    {
      "metadata": {
        "id": "f-0uXB147dzb",
        "colab_type": "text"
      },
      "cell_type": "markdown",
      "source": [
        "###랜덤포레스트\n",
        "* 의사 결정 나무(Decision Tree)를 개별 모형으로 사용하는 모형 결합 방법\n",
        "\n",
        "* 데이터 특징차원의 일부만 선택하여 사용\n",
        "* 하지만 노드 분리시 모든 독립 변수들을 비교하여 최선의 독립 변수를 선택하는 것이 아니라 독립 변수 차원을 랜덤하게 감소시킨 다음 그 중에서 독립 변수를 선택\n",
        "* 이렇게 하면 개별 모형들 사이의 상관관계가 줄어들기 때문에 모형 성능의 변동이 감소하는 효과가 있다.\n",
        "* 이러한 방법을 극단적으로 적용한 것이 Extremely Randomized Trees 모형으로 이 경우에는 각 노드에서 랜덤하게 독립 변수를 선택한다.\n",
        "![대체 텍스트](https://datascienceschool.net/upfiles/79eb26f875f045ee82e823c09fbe980e.png)\n",
        "\n",
        "그림 이해 가능하신분...?"
      ]
    },
    {
      "metadata": {
        "id": "KowL97km0Xjz",
        "colab_type": "code",
        "colab": {}
      },
      "cell_type": "code",
      "source": [
        "from sklearn import datasets\n",
        "from sklearn.ensemble import RandomForestClassifier\n",
        "from sklearn.model_selection import train_test_split\n",
        "from sklearn.model_selection import cross_val_score\n",
        "from sklearn import metrics\n",
        "import pandas as pd\n",
        "import numpy as np"
      ],
      "execution_count": 0,
      "outputs": []
    },
    {
      "metadata": {
        "id": "0PUISRkZ0xdy",
        "colab_type": "code",
        "colab": {}
      },
      "cell_type": "code",
      "source": [
        "# data load\n",
        "\n",
        "iris = datasets.load_iris()"
      ],
      "execution_count": 0,
      "outputs": []
    },
    {
      "metadata": {
        "id": "X8wUo8LC01so",
        "colab_type": "code",
        "outputId": "425cebda-6511-4594-9052-59437c522df2",
        "colab": {
          "base_uri": "https://localhost:8080/",
          "height": 35
        }
      },
      "cell_type": "code",
      "source": [
        "iris.target_names"
      ],
      "execution_count": 0,
      "outputs": [
        {
          "output_type": "execute_result",
          "data": {
            "text/plain": [
              "array(['setosa', 'versicolor', 'virginica'], dtype='<U10')"
            ]
          },
          "metadata": {
            "tags": []
          },
          "execution_count": 3
        }
      ]
    },
    {
      "metadata": {
        "id": "E_FmzSsp03UU",
        "colab_type": "code",
        "outputId": "a87bd906-9531-482f-d7a3-f36f65d3424e",
        "colab": {
          "base_uri": "https://localhost:8080/",
          "height": 89
        }
      },
      "cell_type": "code",
      "source": [
        "iris.feature_names"
      ],
      "execution_count": 0,
      "outputs": [
        {
          "output_type": "execute_result",
          "data": {
            "text/plain": [
              "['sepal length (cm)',\n",
              " 'sepal width (cm)',\n",
              " 'petal length (cm)',\n",
              " 'petal width (cm)']"
            ]
          },
          "metadata": {
            "tags": []
          },
          "execution_count": 4
        }
      ]
    },
    {
      "metadata": {
        "id": "6SRqbmMK08Qi",
        "colab_type": "code",
        "outputId": "f93ceecb-e779-4d1a-d2e2-d0b2910e9c93",
        "colab": {
          "base_uri": "https://localhost:8080/",
          "height": 35
        }
      },
      "cell_type": "code",
      "source": [
        "type(iris.data), type(iris.target)"
      ],
      "execution_count": 0,
      "outputs": [
        {
          "output_type": "execute_result",
          "data": {
            "text/plain": [
              "(numpy.ndarray, numpy.ndarray)"
            ]
          },
          "metadata": {
            "tags": []
          },
          "execution_count": 7
        }
      ]
    },
    {
      "metadata": {
        "id": "nsfF4HLd1eLU",
        "colab_type": "code",
        "outputId": "32d19ca6-7552-4197-b744-d0cfb3a369c1",
        "colab": {
          "base_uri": "https://localhost:8080/",
          "height": 35
        }
      },
      "cell_type": "code",
      "source": [
        "iris.data.shape, iris.target.shape"
      ],
      "execution_count": 0,
      "outputs": [
        {
          "output_type": "execute_result",
          "data": {
            "text/plain": [
              "((150, 4), (150,))"
            ]
          },
          "metadata": {
            "tags": []
          },
          "execution_count": 8
        }
      ]
    },
    {
      "metadata": {
        "id": "NDQPjrHh1IV2",
        "colab_type": "code",
        "colab": {}
      },
      "cell_type": "code",
      "source": [
        "# datda. target 설정\n",
        "\n",
        "x = iris.data\n",
        "y = iris.target.reshape(-1,1)"
      ],
      "execution_count": 0,
      "outputs": []
    },
    {
      "metadata": {
        "id": "_0gA3joc1lyE",
        "colab_type": "code",
        "colab": {}
      },
      "cell_type": "code",
      "source": [
        "# train, test set 설정\n",
        "\n",
        "xtrain, xtest, ytrain, ytest = train_test_split(x, y, test_size=0.4)"
      ],
      "execution_count": 0,
      "outputs": []
    },
    {
      "metadata": {
        "id": "ZlWxKrJI1w3z",
        "colab_type": "code",
        "colab": {}
      },
      "cell_type": "code",
      "source": [
        "# randomforest calss 생성\n",
        "# 트리 수 10개\n",
        "rdClf = RandomForestClassifier(n_estimators=10)"
      ],
      "execution_count": 0,
      "outputs": []
    },
    {
      "metadata": {
        "id": "PEDi8_qP16aE",
        "colab_type": "code",
        "outputId": "dd36621b-5e43-472e-952b-6e758f6acfe9",
        "colab": {
          "base_uri": "https://localhost:8080/",
          "height": 199
        }
      },
      "cell_type": "code",
      "source": [
        "# trainning\n",
        "\n",
        "rdClf.fit(xtrain, ytrain)"
      ],
      "execution_count": 0,
      "outputs": [
        {
          "output_type": "stream",
          "text": [
            "/usr/local/lib/python3.6/dist-packages/ipykernel_launcher.py:2: DataConversionWarning: A column-vector y was passed when a 1d array was expected. Please change the shape of y to (n_samples,), for example using ravel().\n",
            "  \n"
          ],
          "name": "stderr"
        },
        {
          "output_type": "execute_result",
          "data": {
            "text/plain": [
              "RandomForestClassifier(bootstrap=True, class_weight=None, criterion='gini',\n",
              "            max_depth=None, max_features='auto', max_leaf_nodes=None,\n",
              "            min_impurity_decrease=0.0, min_impurity_split=None,\n",
              "            min_samples_leaf=1, min_samples_split=2,\n",
              "            min_weight_fraction_leaf=0.0, n_estimators=10, n_jobs=None,\n",
              "            oob_score=False, random_state=None, verbose=0,\n",
              "            warm_start=False)"
            ]
          },
          "metadata": {
            "tags": []
          },
          "execution_count": 19
        }
      ]
    },
    {
      "metadata": {
        "id": "3YvWlBqY2CBv",
        "colab_type": "code",
        "colab": {}
      },
      "cell_type": "code",
      "source": [
        "# prediction\n",
        "\n",
        "rResult = rdClf.predict(xtest)"
      ],
      "execution_count": 0,
      "outputs": []
    },
    {
      "metadata": {
        "id": "vvBKzkJT-hsk",
        "colab_type": "text"
      },
      "cell_type": "markdown",
      "source": [
        "##그럼 이 rResult는 여러 DecisionTree중에서 성능이 가장 좋은 모델의 예측값??"
      ]
    },
    {
      "metadata": {
        "id": "wxvcRWv62J2e",
        "colab_type": "code",
        "outputId": "597b8d93-2420-45ed-8996-397a3c7bb719",
        "colab": {
          "base_uri": "https://localhost:8080/",
          "height": 71
        }
      },
      "cell_type": "code",
      "source": [
        "rResult"
      ],
      "execution_count": 0,
      "outputs": [
        {
          "output_type": "execute_result",
          "data": {
            "text/plain": [
              "array([2, 0, 0, 1, 0, 0, 1, 2, 0, 1, 1, 0, 2, 0, 0, 2, 0, 1, 2, 1, 2, 2,\n",
              "       2, 0, 2, 0, 2, 1, 1, 1, 1, 1, 2, 1, 0, 0, 2, 1, 2, 0, 0, 0, 2, 0,\n",
              "       0, 2, 1, 2, 0, 1, 0, 1, 0, 2, 2, 1, 0, 1, 0, 0])"
            ]
          },
          "metadata": {
            "tags": []
          },
          "execution_count": 16
        }
      ]
    },
    {
      "metadata": {
        "id": "tA8XkQFD2g7B",
        "colab_type": "code",
        "colab": {}
      },
      "cell_type": "code",
      "source": [
        ""
      ],
      "execution_count": 0,
      "outputs": []
    }
  ]
}