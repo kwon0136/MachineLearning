{
  "nbformat": 4,
  "nbformat_minor": 0,
  "metadata": {
    "colab": {
      "name": "Question04Answer04.ipynb",
      "version": "0.3.2",
      "provenance": [],
      "include_colab_link": true
    },
    "language_info": {
      "codemirror_mode": {
        "name": "ipython",
        "version": 3
      },
      "file_extension": ".py",
      "mimetype": "text/x-python",
      "name": "python",
      "nbconvert_exporter": "python",
      "pygments_lexer": "ipython3",
      "version": "3.7.1"
    },
    "kernelspec": {
      "display_name": "Python 3",
      "language": "python",
      "name": "python3"
    }
  },
  "cells": [
    {
      "cell_type": "markdown",
      "metadata": {
        "id": "view-in-github",
        "colab_type": "text"
      },
      "source": [
        "<a href=\"https://colab.research.google.com/github/kwon0136/MachineLearning/blob/master/190424/Question04Answer04.ipynb\" target=\"_parent\"><img src=\"https://colab.research.google.com/assets/colab-badge.svg\" alt=\"Open In Colab\"/></a>"
      ]
    },
    {
      "metadata": {
        "id": "N9o-gdk94M5f",
        "colab_type": "code",
        "colab": {},
        "outputId": "d3611380-44a6-4c54-b7dc-63ce82e20b2a"
      },
      "cell_type": "code",
      "source": [
        "#1\n",
        "from sklearn.cluster import KMeans\n",
        "from sklearn import metrics\n",
        "from scipy.spatial.distance import cdist\n",
        "import pandas as pd\n",
        "import numpy as np\n",
        "import matplotlib.pyplot as plt\n",
        "from sklearn.preprocessing import MinMaxScaler\n",
        "from sklearn.preprocessing import LabelEncoder\n",
        "import seaborn as sns\n",
        "train = pd.read_csv(\"train.csv\")\n",
        "test = pd.read_csv(\"test.csv\")\n",
        "train.fillna(train.mean(), inplace=True)\n",
        "test.fillna(test.mean(), inplace=True)\n",
        "# Pclass, Survived\n",
        "# groupby\n",
        "data_temp = \\\n",
        "    train[['Pclass', 'Survived']].groupby(['Pclass'], as_index=False).mean()\n",
        "data_temp\n",
        "# Sex, Survived\n",
        "data_temp2 = \\\n",
        "    train[['Sex', 'Survived']].groupby(['Sex'], as_index=False).mean()\n",
        "data_temp2\n",
        "# sibsp : 함께 탑승한 형제 또는 배우자 수\n",
        "data_temp2 = \\\n",
        "    train[['SibSp', 'Survived']].groupby(['SibSp'], as_index=False).mean()\n",
        "data_temp2\n",
        "g = sns.FacetGrid(train, col='Survived')\n",
        "g.map(plt.hist, 'Age', bins=20)\n",
        "grid = sns.FacetGrid(train, col='Survived', row='Pclass', size=2.2, \\\n",
        "                    aspect=1.6)\n",
        "grid.map(plt.hist, 'Age', alpha=0.5, bins=20)\n",
        "grid.add_legend()\n"
      ],
      "execution_count": 0,
      "outputs": [
        {
          "output_type": "stream",
          "text": [
            "C:\\Users\\Administrator\\Anaconda3\\lib\\site-packages\\seaborn\\axisgrid.py:230: UserWarning: The `size` paramter has been renamed to `height`; please update your code.\n",
            "  warnings.warn(msg, UserWarning)\n"
          ],
          "name": "stderr"
        },
        {
          "output_type": "execute_result",
          "data": {
            "text/plain": [
              "<seaborn.axisgrid.FacetGrid at 0x2316f944d68>"
            ]
          },
          "metadata": {
            "tags": []
          },
          "execution_count": 7
        },
        {
          "output_type": "display_data",
          "data": {
            "image/png": "[encoded data removed]",
            "text/plain": [
              "<Figure size 432x216 with 2 Axes>"
            ]
          },
          "metadata": {
            "tags": [],
            "needs_background": "light"
          }
        },
        {
          "output_type": "display_data",
          "data": {
            "image/png": "[encoded data removed]",
            "text/plain": [
              "<Figure size 514.88x475.2 with 6 Axes>"
            ]
          },
          "metadata": {
            "tags": [],
            "needs_background": "light"
          }
        }
      ]
    },
    {
      "metadata": {
        "id": "6lAzW8TP4M5q",
        "colab_type": "code",
        "colab": {}
      },
      "cell_type": "code",
      "source": [
        "train = train.drop(['Name', 'Ticket', 'Cabin', 'Embarked'], axis=1)\n",
        "test = test.drop(['Name', 'Ticket', 'Cabin', 'Embarked'], axis=1)\n",
        "labelSex = LabelEncoder()\n",
        "labelSex.fit(train['Sex'])\n",
        "labelSex.fit(test['Sex'])\n",
        "train['Sex'] = labelSex.transform(train['Sex'])\n",
        "test['Sex'] = labelSex.transform(test['Sex'])"
      ],
      "execution_count": 0,
      "outputs": []
    },
    {
      "metadata": {
        "id": "QFtK-RUQ4M5t",
        "colab_type": "code",
        "colab": {}
      },
      "cell_type": "code",
      "source": [
        "x = np.array(train.drop(['Survived'], 1).astype(float))\n",
        "y = np.array(train['Survived'])"
      ],
      "execution_count": 0,
      "outputs": []
    },
    {
      "metadata": {
        "id": "aZpa1CCs4M5w",
        "colab_type": "code",
        "colab": {},
        "outputId": "264a938d-5a47-44b4-b149-a2df8045150e"
      },
      "cell_type": "code",
      "source": [
        "kmeans = KMeans(n_clusters=2, max_iter=900, algorithm=\"auto\")\n",
        "kmeans.fit(x)\n",
        "correct = 0\n",
        "for i in range(len(x)):\n",
        "    predict_m = np.array(x[i].astype(float))\n",
        "    predict_m = predict_m.reshape(-1, len(predict_m))\n",
        "    prediction = kmeans.predict(predict_m)\n",
        "    if prediction[0] == y[i]:\n",
        "        correct += 1\n",
        "        \n",
        "print(correct/len(x))"
      ],
      "execution_count": 0,
      "outputs": [
        {
          "output_type": "stream",
          "text": [
            "0.49158249158249157\n"
          ],
          "name": "stdout"
        }
      ]
    },
    {
      "metadata": {
        "id": "FdsY-nVp4M5z",
        "colab_type": "code",
        "colab": {},
        "outputId": "166da088-3853-4212-a2ad-0a6635cc590a"
      },
      "cell_type": "code",
      "source": [
        "#2\n",
        "from sklearn import datasets\n",
        "from sklearn import metrics\n",
        "import pandas as pd\n",
        "import numpy as np\n",
        "import matplotlib.pyplot as plt\n",
        "data = pd.read_csv(\"Sample01-k-means.csv\")\n",
        "plt.scatter(data['x'], data['y'])\n",
        "plt.show()\n",
        "from sklearn.cluster import KMeans\n",
        "kmeans = KMeans(n_clusters=2).fit(data)\n",
        "centroids = kmeans.cluster_centers_\n",
        "centroids"
      ],
      "execution_count": 0,
      "outputs": [
        {
          "output_type": "display_data",
          "data": {
            "image/png": "[encoded data removed]",
            "text/plain": [
              "<Figure size 432x288 with 1 Axes>"
            ]
          },
          "metadata": {
            "tags": [],
            "needs_background": "light"
          }
        },
        {
          "output_type": "execute_result",
          "data": {
            "text/plain": [
              "array([[38.75      , 61.625     ],\n",
              "       [47.07142857, 22.14285714]])"
            ]
          },
          "metadata": {
            "tags": []
          },
          "execution_count": 16
        }
      ]
    },
    {
      "metadata": {
        "id": "C-hr8zSa4M52",
        "colab_type": "code",
        "colab": {},
        "outputId": "bb1ed180-aa7d-48ee-c569-8239a1fb6dfa"
      },
      "cell_type": "code",
      "source": [
        "plt.scatter(data['x'], data['y'], c=kmeans.labels_.astype(float), s=50, alpha=0.5)\n",
        "plt.scatter(centroids[:,0], centroids[:,1], c='red', s=50)\n",
        "plt.show()"
      ],
      "execution_count": 0,
      "outputs": [
        {
          "output_type": "display_data",
          "data": {
            "image/png": "[encoded data removed]",
            "text/plain": [
              "<Figure size 432x288 with 1 Axes>"
            ]
          },
          "metadata": {
            "tags": [],
            "needs_background": "light"
          }
        }
      ]
    },
    {
      "metadata": {
        "id": "SAfBYFkU4M55",
        "colab_type": "code",
        "colab": {},
        "outputId": "cf134e7c-d331-4b27-f9b5-c6c2b661462d"
      },
      "cell_type": "code",
      "source": [
        "from scipy.spatial.distance import cdist\n",
        "def testFunc(x, y):\n",
        "    x1 = x\n",
        "    y1 = y\n",
        "    data2 = np.array(list(zip(x1, y1))).reshape(len(x1),2)\n",
        "    data3 = []\n",
        "    K = range(1,10)\n",
        "    for k in K:\n",
        "        kmeanModel = KMeans(n_clusters=k).fit(data2)\n",
        "        kmeanModel.fit(data2)\n",
        "        d = cdist(data2, kmeanModel.cluster_centers_, 'euclidean') #\n",
        "        d2 = sum(np.min(d, axis=1)) / data2.shape[0] #\n",
        "        data3.append(d2)\n",
        "    \n",
        "    return data3\n",
        "\n",
        "test = testFunc(data['x'], data['y'])\n",
        "plt.plot(range(1,10), test, 'bx-')\n",
        "plt.show()"
      ],
      "execution_count": 0,
      "outputs": [
        {
          "output_type": "display_data",
          "data": {
            "image/png": "[encoded data removed]",
            "text/plain": [
              "<Figure size 432x288 with 1 Axes>"
            ]
          },
          "metadata": {
            "tags": [],
            "needs_background": "light"
          }
        }
      ]
    },
    {
      "metadata": {
        "id": "75x--hPS4M58",
        "colab_type": "code",
        "colab": {}
      },
      "cell_type": "code",
      "source": [
        ""
      ],
      "execution_count": 0,
      "outputs": []
    }
  ]
}