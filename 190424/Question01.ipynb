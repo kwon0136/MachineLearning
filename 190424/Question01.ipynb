{
  "nbformat": 4,
  "nbformat_minor": 0,
  "metadata": {
    "colab": {
      "name": "Question01.ipynb",
      "version": "0.3.2",
      "provenance": [],
      "collapsed_sections": [],
      "include_colab_link": true
    },
    "kernelspec": {
      "name": "python3",
      "display_name": "Python 3"
    }
  },
  "cells": [
    {
      "cell_type": "markdown",
      "metadata": {
        "id": "view-in-github",
        "colab_type": "text"
      },
      "source": [
        "<a href=\"https://colab.research.google.com/github/kwon0136/MachineLearning/blob/master/190424/Question01.ipynb\" target=\"_parent\"><img src=\"https://colab.research.google.com/assets/colab-badge.svg\" alt=\"Open In Colab\"/></a>"
      ]
    },
    {
      "metadata": {
        "id": "4bWARArMuqWl",
        "colab_type": "text"
      },
      "cell_type": "markdown",
      "source": [
        "* salary.csv를 사용하여 YearsExperience와 Salary를 사용하여 linear regression model을 생성하고 그래프를 출력하고 \n",
        "임의의 값으로 테스트하시오.\n",
        "\n",
        "* weather.csv를 사용하여 MinTemp, MaxTemp를 사용하요 linear regression model을 생성하고 테스트하시오.\n",
        "\n",
        "* Diabetes.csv를 사용하여 Outcome을 예측하시오.(Logistics Regression)"
      ]
    },
    {
      "metadata": {
        "id": "gm4xFjgpuv5z",
        "colab_type": "code",
        "colab": {}
      },
      "cell_type": "code",
      "source": [
        "# salary.csv를 사용하여 YearsExperience와 Salary를 사용하여 linear regression model을 생성하고 그래프를 출력하고 임의의 값으로 테스트하시오.\n",
        "\n",
        "# library import\n",
        "import numpy as np\n",
        "import pandas as pd\n",
        "import matplotlib.pyplot as plt\n",
        "from sklearn.model_selection import train_test_split\n",
        "from sklearn.linear_model import LinearRegression"
      ],
      "execution_count": 0,
      "outputs": []
    },
    {
      "metadata": {
        "id": "hnHTAm-jwMQ1",
        "colab_type": "code",
        "colab": {}
      },
      "cell_type": "code",
      "source": [
        "# data import\n",
        "\n",
        "dataset = pd.read_csv(\"salary.csv\")"
      ],
      "execution_count": 0,
      "outputs": []
    },
    {
      "metadata": {
        "id": "ThJ7C1DxwlGr",
        "colab_type": "code",
        "colab": {}
      },
      "cell_type": "code",
      "source": [
        "# data, target 설정\n",
        "\n",
        "x = dataset['YearsExperience'].values.reshape(-1,1)\n",
        "y = dataset['Salary'].values.reshape(-1,1)"
      ],
      "execution_count": 0,
      "outputs": []
    },
    {
      "metadata": {
        "id": "UjNCwQbuw0-O",
        "colab_type": "code",
        "colab": {}
      },
      "cell_type": "code",
      "source": [
        "# train, test data split\n",
        "\n",
        "xTrain, xTest, yTrain, yTest = train_test_split(x, y, test_size=0.2, random_state=0)"
      ],
      "execution_count": 0,
      "outputs": []
    },
    {
      "metadata": {
        "id": "UEmIPh98xbE1",
        "colab_type": "code",
        "colab": {}
      },
      "cell_type": "code",
      "source": [
        "# LinearRegression class 생성\n",
        "\n",
        "linearTest = LinearRegression()"
      ],
      "execution_count": 0,
      "outputs": []
    },
    {
      "metadata": {
        "id": "aDmTGNufxjf1",
        "colab_type": "code",
        "colab": {
          "base_uri": "https://localhost:8080/",
          "height": 53
        },
        "outputId": "ead28106-f743-4de2-aaa8-7fcba3012986"
      },
      "cell_type": "code",
      "source": [
        "# trainning\n",
        "\n",
        "linearTest.fit(xTrain, yTrain)\n"
      ],
      "execution_count": 14,
      "outputs": [
        {
          "output_type": "execute_result",
          "data": {
            "text/plain": [
              "LinearRegression(copy_X=True, fit_intercept=True, n_jobs=None,\n",
              "         normalize=False)"
            ]
          },
          "metadata": {
            "tags": []
          },
          "execution_count": 14
        }
      ]
    },
    {
      "metadata": {
        "id": "Ynx5SHwfxs71",
        "colab_type": "code",
        "colab": {}
      },
      "cell_type": "code",
      "source": [
        "# 새로운 입력 데이터에 대한 출력 데이터 예측\n",
        "\n",
        "yPrediction = linearTest.predict(xTest)"
      ],
      "execution_count": 0,
      "outputs": []
    },
    {
      "metadata": {
        "id": "jD33gRSRx3lW",
        "colab_type": "code",
        "colab": {
          "base_uri": "https://localhost:8080/",
          "height": 313
        },
        "outputId": "ba308980-b792-48df-ccba-e02189bad684"
      },
      "cell_type": "code",
      "source": [
        "# 그래프 출력\n",
        "\n",
        "plt.scatter(x, y, color='blue')\n",
        "plt.title(\"Experience / Salary\")\n",
        "plt.xlabel(\"Experience\")\n",
        "plt.ylabel(\"Salary\")\n"
      ],
      "execution_count": 16,
      "outputs": [
        {
          "output_type": "execute_result",
          "data": {
            "text/plain": [
              "Text(0, 0.5, 'Salary')"
            ]
          },
          "metadata": {
            "tags": []
          },
          "execution_count": 16
        },
        {
          "output_type": "display_data",
          "data": {
            "image/png": "[encoded data removed]",
            "text/plain": [
              "<Figure size 432x288 with 1 Axes>"
            ]
          },
          "metadata": {
            "tags": []
          }
        }
      ]
    },
    {
      "metadata": {
        "id": "jwhC5LbkyNRG",
        "colab_type": "code",
        "colab": {
          "base_uri": "https://localhost:8080/",
          "height": 35
        },
        "outputId": "ee37298f-2ef1-45a7-c91d-249692178979"
      },
      "cell_type": "code",
      "source": [
        "# 임의의 YearsExperience값으로 Salary 예측\n",
        "\n",
        "linearTest.predict([[4]])"
      ],
      "execution_count": 19,
      "outputs": [
        {
          "output_type": "execute_result",
          "data": {
            "text/plain": [
              "array([[64030.39965754]])"
            ]
          },
          "metadata": {
            "tags": []
          },
          "execution_count": 19
        }
      ]
    },
    {
      "metadata": {
        "id": "mfqeqyRJycM-",
        "colab_type": "code",
        "colab": {}
      },
      "cell_type": "code",
      "source": [
        "# weather.csv를 사용하여 MinTemp, MaxTemp를 사용하요 linear regression model을 생성하고 테스트하시오.\n",
        "\n",
        "# library import\n",
        "\n",
        "import numpy as np\n",
        "import matplotlib.pyplot as plt\n",
        "import pandas as pd\n",
        "from sklearn.model_selection import train_test_split\n",
        "from sklearn.linear_model import LinearRegression"
      ],
      "execution_count": 0,
      "outputs": []
    },
    {
      "metadata": {
        "id": "DOQJGmOnztVj",
        "colab_type": "code",
        "colab": {
          "base_uri": "https://localhost:8080/",
          "height": 73
        },
        "outputId": "14e4601a-a9f6-4f08-a918-064170cc3725"
      },
      "cell_type": "code",
      "source": [
        "# data import\n",
        "\n",
        "dataset2 = pd.read_csv(\"Weather.csv\")"
      ],
      "execution_count": 22,
      "outputs": [
        {
          "output_type": "stream",
          "text": [
            "/usr/local/lib/python3.6/dist-packages/IPython/core/interactiveshell.py:2718: DtypeWarning: Columns (7,8,18,25) have mixed types. Specify dtype option on import or set low_memory=False.\n",
            "  interactivity=interactivity, compiler=compiler, result=result)\n"
          ],
          "name": "stderr"
        }
      ]
    },
    {
      "metadata": {
        "id": "nmT5pFOVz0ME",
        "colab_type": "code",
        "colab": {}
      },
      "cell_type": "code",
      "source": [
        "# data, target 설정\n",
        "\n",
        "x = dataset2[\"MinTemp\"].values.reshape(-1,1)\n",
        "y = dataset2[\"MaxTemp\"].values.reshape(-1,1)"
      ],
      "execution_count": 0,
      "outputs": []
    },
    {
      "metadata": {
        "id": "r1MTKfgd0Idc",
        "colab_type": "code",
        "colab": {}
      },
      "cell_type": "code",
      "source": [
        "# train, test data split\n",
        "\n",
        "xtrain, xtest, ytrain, ytest = train_test_split(x, y, test_size=0.2, random_state=0)"
      ],
      "execution_count": 0,
      "outputs": []
    },
    {
      "metadata": {
        "id": "D5ipA1Vu0S9C",
        "colab_type": "code",
        "colab": {}
      },
      "cell_type": "code",
      "source": [
        "# linearregression class 생성\n",
        "\n",
        "linearTest2 = LinearRegression()"
      ],
      "execution_count": 0,
      "outputs": []
    },
    {
      "metadata": {
        "id": "3SLdSDSW0eAo",
        "colab_type": "code",
        "colab": {
          "base_uri": "https://localhost:8080/",
          "height": 53
        },
        "outputId": "135e38ab-d7c7-480c-8be5-61dc8f40b848"
      },
      "cell_type": "code",
      "source": [
        "# trainning\n",
        "\n",
        "linearTest2.fit(xtrain, ytrain)"
      ],
      "execution_count": 26,
      "outputs": [
        {
          "output_type": "execute_result",
          "data": {
            "text/plain": [
              "LinearRegression(copy_X=True, fit_intercept=True, n_jobs=None,\n",
              "         normalize=False)"
            ]
          },
          "metadata": {
            "tags": []
          },
          "execution_count": 26
        }
      ]
    },
    {
      "metadata": {
        "id": "aHp2mCkM0hkV",
        "colab_type": "code",
        "colab": {}
      },
      "cell_type": "code",
      "source": [
        "# xtest값 예측\n",
        "\n",
        "rResult = linearTest2.predict(xtest)"
      ],
      "execution_count": 0,
      "outputs": []
    },
    {
      "metadata": {
        "id": "_ML3XJ9Z0tsA",
        "colab_type": "code",
        "colab": {
          "base_uri": "https://localhost:8080/",
          "height": 1969
        },
        "outputId": "509b40ca-57cc-4506-a276-7320e6b1bb07"
      },
      "cell_type": "code",
      "source": [
        "# xtest 예측값과 실제 ytest값 비교\n",
        "\n",
        "df_temp = pd.DataFrame({'ytest':ytest.flatten(), 'prd':rResult.flatten()})\n",
        "df_temp"
      ],
      "execution_count": 28,
      "outputs": [
        {
          "output_type": "execute_result",
          "data": {
            "text/html": [
              "<div>\n",
              "<style scoped>\n",
              "    .dataframe tbody tr th:only-of-type {\n",
              "        vertical-align: middle;\n",
              "    }\n",
              "\n",
              "    .dataframe tbody tr th {\n",
              "        vertical-align: top;\n",
              "    }\n",
              "\n",
              "    .dataframe thead th {\n",
              "        text-align: right;\n",
              "    }\n",
              "</style>\n",
              "<table border=\"1\" class=\"dataframe\">\n",
              "  <thead>\n",
              "    <tr style=\"text-align: right;\">\n",
              "      <th></th>\n",
              "      <th>ytest</th>\n",
              "      <th>prd</th>\n",
              "    </tr>\n",
              "  </thead>\n",
              "  <tbody>\n",
              "    <tr>\n",
              "      <th>0</th>\n",
              "      <td>28.888889</td>\n",
              "      <td>33.670351</td>\n",
              "    </tr>\n",
              "    <tr>\n",
              "      <th>1</th>\n",
              "      <td>31.111111</td>\n",
              "      <td>30.091251</td>\n",
              "    </tr>\n",
              "    <tr>\n",
              "      <th>2</th>\n",
              "      <td>27.222222</td>\n",
              "      <td>26.512151</td>\n",
              "    </tr>\n",
              "    <tr>\n",
              "      <th>3</th>\n",
              "      <td>28.888889</td>\n",
              "      <td>31.113851</td>\n",
              "    </tr>\n",
              "    <tr>\n",
              "      <th>4</th>\n",
              "      <td>23.333333</td>\n",
              "      <td>15.774852</td>\n",
              "    </tr>\n",
              "    <tr>\n",
              "      <th>5</th>\n",
              "      <td>37.222222</td>\n",
              "      <td>30.602551</td>\n",
              "    </tr>\n",
              "    <tr>\n",
              "      <th>6</th>\n",
              "      <td>22.222222</td>\n",
              "      <td>11.684452</td>\n",
              "    </tr>\n",
              "    <tr>\n",
              "      <th>7</th>\n",
              "      <td>35.555556</td>\n",
              "      <td>33.670351</td>\n",
              "    </tr>\n",
              "    <tr>\n",
              "      <th>8</th>\n",
              "      <td>30.555556</td>\n",
              "      <td>30.602551</td>\n",
              "    </tr>\n",
              "    <tr>\n",
              "      <th>9</th>\n",
              "      <td>28.888889</td>\n",
              "      <td>32.647751</td>\n",
              "    </tr>\n",
              "    <tr>\n",
              "      <th>10</th>\n",
              "      <td>24.444444</td>\n",
              "      <td>29.068651</td>\n",
              "    </tr>\n",
              "    <tr>\n",
              "      <th>11</th>\n",
              "      <td>22.777778</td>\n",
              "      <td>23.955652</td>\n",
              "    </tr>\n",
              "    <tr>\n",
              "      <th>12</th>\n",
              "      <td>30.555556</td>\n",
              "      <td>30.091251</td>\n",
              "    </tr>\n",
              "    <tr>\n",
              "      <th>13</th>\n",
              "      <td>26.111111</td>\n",
              "      <td>26.000851</td>\n",
              "    </tr>\n",
              "    <tr>\n",
              "      <th>14</th>\n",
              "      <td>27.222222</td>\n",
              "      <td>29.068651</td>\n",
              "    </tr>\n",
              "    <tr>\n",
              "      <th>15</th>\n",
              "      <td>30.555556</td>\n",
              "      <td>32.647751</td>\n",
              "    </tr>\n",
              "    <tr>\n",
              "      <th>16</th>\n",
              "      <td>10.555556</td>\n",
              "      <td>15.774852</td>\n",
              "    </tr>\n",
              "    <tr>\n",
              "      <th>17</th>\n",
              "      <td>32.222222</td>\n",
              "      <td>32.136451</td>\n",
              "    </tr>\n",
              "    <tr>\n",
              "      <th>18</th>\n",
              "      <td>29.444444</td>\n",
              "      <td>29.579951</td>\n",
              "    </tr>\n",
              "    <tr>\n",
              "      <th>19</th>\n",
              "      <td>23.333333</td>\n",
              "      <td>18.842652</td>\n",
              "    </tr>\n",
              "    <tr>\n",
              "      <th>20</th>\n",
              "      <td>30.555556</td>\n",
              "      <td>26.000851</td>\n",
              "    </tr>\n",
              "    <tr>\n",
              "      <th>21</th>\n",
              "      <td>43.333333</td>\n",
              "      <td>31.113851</td>\n",
              "    </tr>\n",
              "    <tr>\n",
              "      <th>22</th>\n",
              "      <td>27.222222</td>\n",
              "      <td>30.091251</td>\n",
              "    </tr>\n",
              "    <tr>\n",
              "      <th>23</th>\n",
              "      <td>33.333333</td>\n",
              "      <td>33.159051</td>\n",
              "    </tr>\n",
              "    <tr>\n",
              "      <th>24</th>\n",
              "      <td>31.111111</td>\n",
              "      <td>22.421752</td>\n",
              "    </tr>\n",
              "    <tr>\n",
              "      <th>25</th>\n",
              "      <td>30.000000</td>\n",
              "      <td>31.113851</td>\n",
              "    </tr>\n",
              "    <tr>\n",
              "      <th>26</th>\n",
              "      <td>33.333333</td>\n",
              "      <td>30.602551</td>\n",
              "    </tr>\n",
              "    <tr>\n",
              "      <th>27</th>\n",
              "      <td>31.111111</td>\n",
              "      <td>30.602551</td>\n",
              "    </tr>\n",
              "    <tr>\n",
              "      <th>28</th>\n",
              "      <td>33.333333</td>\n",
              "      <td>35.204251</td>\n",
              "    </tr>\n",
              "    <tr>\n",
              "      <th>29</th>\n",
              "      <td>36.111111</td>\n",
              "      <td>30.091251</td>\n",
              "    </tr>\n",
              "    <tr>\n",
              "      <th>...</th>\n",
              "      <td>...</td>\n",
              "      <td>...</td>\n",
              "    </tr>\n",
              "    <tr>\n",
              "      <th>23778</th>\n",
              "      <td>4.444444</td>\n",
              "      <td>9.639252</td>\n",
              "    </tr>\n",
              "    <tr>\n",
              "      <th>23779</th>\n",
              "      <td>31.111111</td>\n",
              "      <td>32.136451</td>\n",
              "    </tr>\n",
              "    <tr>\n",
              "      <th>23780</th>\n",
              "      <td>30.000000</td>\n",
              "      <td>32.136451</td>\n",
              "    </tr>\n",
              "    <tr>\n",
              "      <th>23781</th>\n",
              "      <td>34.444444</td>\n",
              "      <td>30.091251</td>\n",
              "    </tr>\n",
              "    <tr>\n",
              "      <th>23782</th>\n",
              "      <td>28.888889</td>\n",
              "      <td>32.647751</td>\n",
              "    </tr>\n",
              "    <tr>\n",
              "      <th>23783</th>\n",
              "      <td>32.222222</td>\n",
              "      <td>29.068651</td>\n",
              "    </tr>\n",
              "    <tr>\n",
              "      <th>23784</th>\n",
              "      <td>25.000000</td>\n",
              "      <td>15.774852</td>\n",
              "    </tr>\n",
              "    <tr>\n",
              "      <th>23785</th>\n",
              "      <td>26.666667</td>\n",
              "      <td>30.091251</td>\n",
              "    </tr>\n",
              "    <tr>\n",
              "      <th>23786</th>\n",
              "      <td>35.000000</td>\n",
              "      <td>32.136451</td>\n",
              "    </tr>\n",
              "    <tr>\n",
              "      <th>23787</th>\n",
              "      <td>15.000000</td>\n",
              "      <td>12.195752</td>\n",
              "    </tr>\n",
              "    <tr>\n",
              "      <th>23788</th>\n",
              "      <td>19.444444</td>\n",
              "      <td>22.421752</td>\n",
              "    </tr>\n",
              "    <tr>\n",
              "      <th>23789</th>\n",
              "      <td>15.000000</td>\n",
              "      <td>19.865252</td>\n",
              "    </tr>\n",
              "    <tr>\n",
              "      <th>23790</th>\n",
              "      <td>33.333333</td>\n",
              "      <td>25.489551</td>\n",
              "    </tr>\n",
              "    <tr>\n",
              "      <th>23791</th>\n",
              "      <td>27.777778</td>\n",
              "      <td>26.000851</td>\n",
              "    </tr>\n",
              "    <tr>\n",
              "      <th>23792</th>\n",
              "      <td>31.666667</td>\n",
              "      <td>30.091251</td>\n",
              "    </tr>\n",
              "    <tr>\n",
              "      <th>23793</th>\n",
              "      <td>31.666667</td>\n",
              "      <td>31.625151</td>\n",
              "    </tr>\n",
              "    <tr>\n",
              "      <th>23794</th>\n",
              "      <td>29.444444</td>\n",
              "      <td>31.113851</td>\n",
              "    </tr>\n",
              "    <tr>\n",
              "      <th>23795</th>\n",
              "      <td>29.444444</td>\n",
              "      <td>33.670351</td>\n",
              "    </tr>\n",
              "    <tr>\n",
              "      <th>23796</th>\n",
              "      <td>16.666667</td>\n",
              "      <td>17.820052</td>\n",
              "    </tr>\n",
              "    <tr>\n",
              "      <th>23797</th>\n",
              "      <td>20.000000</td>\n",
              "      <td>21.399152</td>\n",
              "    </tr>\n",
              "    <tr>\n",
              "      <th>23798</th>\n",
              "      <td>28.888889</td>\n",
              "      <td>32.136451</td>\n",
              "    </tr>\n",
              "    <tr>\n",
              "      <th>23799</th>\n",
              "      <td>31.111111</td>\n",
              "      <td>30.091251</td>\n",
              "    </tr>\n",
              "    <tr>\n",
              "      <th>23800</th>\n",
              "      <td>44.444444</td>\n",
              "      <td>35.715551</td>\n",
              "    </tr>\n",
              "    <tr>\n",
              "      <th>23801</th>\n",
              "      <td>36.666667</td>\n",
              "      <td>36.226851</td>\n",
              "    </tr>\n",
              "    <tr>\n",
              "      <th>23802</th>\n",
              "      <td>29.444444</td>\n",
              "      <td>33.159051</td>\n",
              "    </tr>\n",
              "    <tr>\n",
              "      <th>23803</th>\n",
              "      <td>32.777778</td>\n",
              "      <td>32.136451</td>\n",
              "    </tr>\n",
              "    <tr>\n",
              "      <th>23804</th>\n",
              "      <td>32.222222</td>\n",
              "      <td>29.068651</td>\n",
              "    </tr>\n",
              "    <tr>\n",
              "      <th>23805</th>\n",
              "      <td>31.111111</td>\n",
              "      <td>32.647751</td>\n",
              "    </tr>\n",
              "    <tr>\n",
              "      <th>23806</th>\n",
              "      <td>31.111111</td>\n",
              "      <td>30.602551</td>\n",
              "    </tr>\n",
              "    <tr>\n",
              "      <th>23807</th>\n",
              "      <td>36.666667</td>\n",
              "      <td>31.625151</td>\n",
              "    </tr>\n",
              "  </tbody>\n",
              "</table>\n",
              "<p>23808 rows × 2 columns</p>\n",
              "</div>"
            ],
            "text/plain": [
              "           ytest        prd\n",
              "0      28.888889  33.670351\n",
              "1      31.111111  30.091251\n",
              "2      27.222222  26.512151\n",
              "3      28.888889  31.113851\n",
              "4      23.333333  15.774852\n",
              "5      37.222222  30.602551\n",
              "6      22.222222  11.684452\n",
              "7      35.555556  33.670351\n",
              "8      30.555556  30.602551\n",
              "9      28.888889  32.647751\n",
              "10     24.444444  29.068651\n",
              "11     22.777778  23.955652\n",
              "12     30.555556  30.091251\n",
              "13     26.111111  26.000851\n",
              "14     27.222222  29.068651\n",
              "15     30.555556  32.647751\n",
              "16     10.555556  15.774852\n",
              "17     32.222222  32.136451\n",
              "18     29.444444  29.579951\n",
              "19     23.333333  18.842652\n",
              "20     30.555556  26.000851\n",
              "21     43.333333  31.113851\n",
              "22     27.222222  30.091251\n",
              "23     33.333333  33.159051\n",
              "24     31.111111  22.421752\n",
              "25     30.000000  31.113851\n",
              "26     33.333333  30.602551\n",
              "27     31.111111  30.602551\n",
              "28     33.333333  35.204251\n",
              "29     36.111111  30.091251\n",
              "...          ...        ...\n",
              "23778   4.444444   9.639252\n",
              "23779  31.111111  32.136451\n",
              "23780  30.000000  32.136451\n",
              "23781  34.444444  30.091251\n",
              "23782  28.888889  32.647751\n",
              "23783  32.222222  29.068651\n",
              "23784  25.000000  15.774852\n",
              "23785  26.666667  30.091251\n",
              "23786  35.000000  32.136451\n",
              "23787  15.000000  12.195752\n",
              "23788  19.444444  22.421752\n",
              "23789  15.000000  19.865252\n",
              "23790  33.333333  25.489551\n",
              "23791  27.777778  26.000851\n",
              "23792  31.666667  30.091251\n",
              "23793  31.666667  31.625151\n",
              "23794  29.444444  31.113851\n",
              "23795  29.444444  33.670351\n",
              "23796  16.666667  17.820052\n",
              "23797  20.000000  21.399152\n",
              "23798  28.888889  32.136451\n",
              "23799  31.111111  30.091251\n",
              "23800  44.444444  35.715551\n",
              "23801  36.666667  36.226851\n",
              "23802  29.444444  33.159051\n",
              "23803  32.777778  32.136451\n",
              "23804  32.222222  29.068651\n",
              "23805  31.111111  32.647751\n",
              "23806  31.111111  30.602551\n",
              "23807  36.666667  31.625151\n",
              "\n",
              "[23808 rows x 2 columns]"
            ]
          },
          "metadata": {
            "tags": []
          },
          "execution_count": 28
        }
      ]
    },
    {
      "metadata": {
        "id": "oUewhivv1DVb",
        "colab_type": "code",
        "colab": {
          "base_uri": "https://localhost:8080/",
          "height": 598
        },
        "outputId": "cce3dab3-f807-4e02-c0fb-a9c66707485f"
      },
      "cell_type": "code",
      "source": [
        "# 그래프로 비교\n",
        "\n",
        "df2 = df_temp.head(15)\n",
        "df2.plot(kind='bar', figsize=(16,10))\n",
        "plt.show()"
      ],
      "execution_count": 29,
      "outputs": [
        {
          "output_type": "display_data",
          "data": {
            "image/png": "[encoded data removed]",
            "text/plain": [
              "<Figure size 1152x720 with 1 Axes>"
            ]
          },
          "metadata": {
            "tags": []
          }
        }
      ]
    },
    {
      "metadata": {
        "id": "yjCfycEs1XDA",
        "colab_type": "code",
        "colab": {}
      },
      "cell_type": "code",
      "source": [
        "# Diabetes.csv를 사용하여 Outcome을 예측하시오.(Logistics Regression)\n",
        "\n",
        "# library import\n",
        "\n",
        "import numpy as np\n",
        "import matplotlib.pyplot as plt\n",
        "import pandas as pd\n",
        "from sklearn.model_selection import train_test_split\n",
        "from sklearn.linear_model import LogisticRegression"
      ],
      "execution_count": 0,
      "outputs": []
    },
    {
      "metadata": {
        "id": "LHAIp6rR1x2p",
        "colab_type": "code",
        "colab": {}
      },
      "cell_type": "code",
      "source": [
        "# data import\n",
        "\n",
        "dataset3 = pd.read_csv(\"Diabetes.csv\")"
      ],
      "execution_count": 0,
      "outputs": []
    },
    {
      "metadata": {
        "id": "fWJH7fse14cQ",
        "colab_type": "code",
        "colab": {}
      },
      "cell_type": "code",
      "source": [
        "# data, target 설정\n",
        "\n",
        "select_cols = ['Pregnancies', 'Insulin', 'BMI', 'Age', 'Glucose', 'BloodPressure', 'DiabetesPedigreeFunction']\n",
        "x = dataset3[select_cols].values\n",
        "y = dataset3['Outcome'].values.reshape(-1,1)"
      ],
      "execution_count": 0,
      "outputs": []
    },
    {
      "metadata": {
        "id": "uxzrSqUq2LWd",
        "colab_type": "code",
        "colab": {}
      },
      "cell_type": "code",
      "source": [
        "# train, test data split\n",
        "\n",
        "xtrain, xtest, ytrain, ytest = train_test_split(x, y, test_size=0.2, random_state=0)"
      ],
      "execution_count": 0,
      "outputs": []
    },
    {
      "metadata": {
        "id": "oFgapBpQ2Wsj",
        "colab_type": "code",
        "colab": {}
      },
      "cell_type": "code",
      "source": [
        "# LogisticRegression class 생성\n",
        "\n",
        "logisticTest = LogisticRegression()"
      ],
      "execution_count": 0,
      "outputs": []
    },
    {
      "metadata": {
        "id": "3EOa0UkT2g7Z",
        "colab_type": "code",
        "colab": {
          "base_uri": "https://localhost:8080/",
          "height": 181
        },
        "outputId": "806ac9a9-fe3c-4123-ee01-13c4986caa5b"
      },
      "cell_type": "code",
      "source": [
        "# trainning\n",
        "\n",
        "logisticTest.fit(xtrain, ytrain)"
      ],
      "execution_count": 36,
      "outputs": [
        {
          "output_type": "stream",
          "text": [
            "/usr/local/lib/python3.6/dist-packages/sklearn/linear_model/logistic.py:433: FutureWarning: Default solver will be changed to 'lbfgs' in 0.22. Specify a solver to silence this warning.\n",
            "  FutureWarning)\n",
            "/usr/local/lib/python3.6/dist-packages/sklearn/utils/validation.py:761: DataConversionWarning: A column-vector y was passed when a 1d array was expected. Please change the shape of y to (n_samples, ), for example using ravel().\n",
            "  y = column_or_1d(y, warn=True)\n"
          ],
          "name": "stderr"
        },
        {
          "output_type": "execute_result",
          "data": {
            "text/plain": [
              "LogisticRegression(C=1.0, class_weight=None, dual=False, fit_intercept=True,\n",
              "          intercept_scaling=1, max_iter=100, multi_class='warn',\n",
              "          n_jobs=None, penalty='l2', random_state=None, solver='warn',\n",
              "          tol=0.0001, verbose=0, warm_start=False)"
            ]
          },
          "metadata": {
            "tags": []
          },
          "execution_count": 36
        }
      ]
    },
    {
      "metadata": {
        "id": "CoT061He2ko7",
        "colab_type": "code",
        "colab": {
          "base_uri": "https://localhost:8080/",
          "height": 143
        },
        "outputId": "e7eaf078-0d82-4699-bc68-faeb6d6f15b1"
      },
      "cell_type": "code",
      "source": [
        "# xtest 예측\n",
        "\n",
        "preResult = logisticTest.predict(xtest)\n",
        "preResult"
      ],
      "execution_count": 38,
      "outputs": [
        {
          "output_type": "execute_result",
          "data": {
            "text/plain": [
              "array([1, 0, 0, 1, 0, 0, 1, 1, 0, 0, 1, 1, 0, 0, 0, 0, 1, 0, 0, 0, 1, 0,\n",
              "       0, 0, 0, 0, 0, 1, 0, 0, 0, 0, 0, 0, 0, 1, 0, 0, 0, 1, 0, 0, 0, 1,\n",
              "       1, 0, 0, 0, 0, 0, 0, 0, 1, 0, 0, 0, 0, 0, 0, 0, 1, 0, 0, 1, 1, 1,\n",
              "       1, 0, 0, 0, 0, 1, 0, 1, 1, 0, 0, 1, 0, 0, 0, 0, 0, 0, 0, 0, 0, 0,\n",
              "       1, 0, 0, 0, 0, 0, 1, 0, 0, 0, 1, 0, 0, 0, 0, 0, 1, 0, 0, 0, 0, 1,\n",
              "       0, 0, 1, 0, 1, 1, 0, 1, 0, 1, 0, 0, 0, 0, 0, 0, 0, 0, 0, 0, 0, 0,\n",
              "       0, 1, 0, 0, 0, 0, 1, 0, 0, 1, 0, 0, 0, 0, 0, 0, 0, 0, 0, 1, 0, 0])"
            ]
          },
          "metadata": {
            "tags": []
          },
          "execution_count": 38
        }
      ]
    }
  ]
}