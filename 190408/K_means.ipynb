{
  "nbformat": 4,
  "nbformat_minor": 0,
  "metadata": {
    "colab": {
      "name": "K-means.ipynb",
      "version": "0.3.2",
      "provenance": [],
      "collapsed_sections": [],
      "include_colab_link": true
    },
    "kernelspec": {
      "display_name": "Python 3",
      "language": "python",
      "name": "python3"
    }
  },
  "cells": [
    {
      "cell_type": "markdown",
      "metadata": {
        "id": "view-in-github",
        "colab_type": "text"
      },
      "source": [
        "<a href=\"https://colab.research.google.com/github/kwon0136/MachineLearning/blob/master/190408/K_means.ipynb\" target=\"_parent\"><img src=\"https://colab.research.google.com/assets/colab-badge.svg\" alt=\"Open In Colab\"/></a>"
      ]
    },
    {
      "metadata": {
        "id": "1sExGzV5T43w",
        "colab_type": "text"
      },
      "cell_type": "markdown",
      "source": [
        "##K-means Clustering\n",
        "* 목적함수 값이 최소화될 때까지 클러스터의 중심(centroid) 위치와 각 데이터가 소속될 클러스터를 반복해서 찾는다. 이 값을 inertia라고도 한다.\n",
        "\n",
        "* J=∑k=1K∑i∈Ckd(xi,μk)\n",
        "  *   K: 클러스터의 갯수\n",
        "  * Ck: k 번째 클러스터에 속하는 데이터의 집합\n",
        "  * μk: k 번째 클러스터의 중심위치\n",
        "  * d: xi, μk  두 데이터사이의 거리 \n",
        "  * d(xi,μk) = ||xi−μk||2\n",
        "  \n",
        "  \n",
        "* 세부 알고리즘\n",
        " 1.   임의의 중심값  μk  를 고른다. 보통 데이터 샘플 중에서  K 개를 선택\n",
        " 2.   중심에서 각 데이터까지의 거리를 계산\n",
        " 3.  각 데이터에서 가장 가까운 중심을 선택하여 클러스터 갱신\n",
        " 4.  다시 만들어진 클러스터에 대해 중심을 다시 계산하고 1 ~ 4를 반복\n",
        "\n",
        "* scikit-learn의 cluster 서브패키지는 KMeans 클러스터링을 위한 KMeans 클래스를 제공\n",
        "  * n_clusters: 클러스터의 갯수\n",
        "  * init: 초기화 방법. \"random\"이면 무작위, \"k-means++\"이면 K-Means++ 방법. 또는 각 데이터의 클러스터 라벨.\n",
        "  * n_init: 초기 중심값 시도 횟수. 디폴트는 10이고 10개의 무작위 중심값 목록 중 가장 좋은 값을 선택\n",
        "  * max_iter: 최대 반복 횟수.\n",
        "  * random_state: 시드값.\n",
        "\n",
        "\n",
        "https://astralworld58.tistory.com/59\n",
        "https://www.slideshare.net/JeonghunYoon/05-k-means-clustering-kmeans"
      ]
    },
    {
      "metadata": {
        "id": "tKiDtOWILNGJ",
        "colab_type": "code",
        "colab": {}
      },
      "cell_type": "code",
      "source": [
        "from sklearn import datasets\n",
        "#from sklearn.tree import DecisionTreeClassifier\n",
        "#from sklearn.linear_model import LogisticRegression\n",
        "#from sklearn.neighbors import KNeighborsClassifier\n",
        "#from sklearn.model_selection import train_test_split\n",
        "#from sklearn.model_selection import cross_val_score\n",
        "from sklearn import metrics\n",
        "import pandas as pd\n",
        "import numpy as np\n",
        "import matplotlib.pyplot as plt"
      ],
      "execution_count": 0,
      "outputs": []
    },
    {
      "metadata": {
        "id": "LbSCpJThLNGQ",
        "colab_type": "code",
        "outputId": "e521835c-302e-4c48-9e7d-a827e5e58b3d",
        "colab": {
          "base_uri": "https://localhost:8080/",
          "height": 80
        }
      },
      "cell_type": "code",
      "source": [
        "data = pd.read_csv(\"Sample01-k-means.csv\")\n",
        "data.head(1)"
      ],
      "execution_count": 0,
      "outputs": [
        {
          "output_type": "execute_result",
          "data": {
            "text/html": [
              "<div>\n",
              "<style scoped>\n",
              "    .dataframe tbody tr th:only-of-type {\n",
              "        vertical-align: middle;\n",
              "    }\n",
              "\n",
              "    .dataframe tbody tr th {\n",
              "        vertical-align: top;\n",
              "    }\n",
              "\n",
              "    .dataframe thead th {\n",
              "        text-align: right;\n",
              "    }\n",
              "</style>\n",
              "<table border=\"1\" class=\"dataframe\">\n",
              "  <thead>\n",
              "    <tr style=\"text-align: right;\">\n",
              "      <th></th>\n",
              "      <th>x</th>\n",
              "      <th>y</th>\n",
              "    </tr>\n",
              "  </thead>\n",
              "  <tbody>\n",
              "    <tr>\n",
              "      <th>0</th>\n",
              "      <td>25</td>\n",
              "      <td>79</td>\n",
              "    </tr>\n",
              "  </tbody>\n",
              "</table>\n",
              "</div>"
            ],
            "text/plain": [
              "    x   y\n",
              "0  25  79"
            ]
          },
          "metadata": {
            "tags": []
          },
          "execution_count": 2
        }
      ]
    },
    {
      "metadata": {
        "id": "u_jmN45tLNGW",
        "colab_type": "code",
        "outputId": "ffabc29c-166e-4cdd-dd04-3a103480e55b",
        "colab": {
          "base_uri": "https://localhost:8080/",
          "height": 347
        }
      },
      "cell_type": "code",
      "source": [
        "plt.scatter(data['x'], data['y'])\n",
        "plt.show()"
      ],
      "execution_count": 0,
      "outputs": [
        {
          "output_type": "display_data",
          "data": {
            "image/png": "[encoded data removed]",
            "text/plain": [
              "<Figure size 576x396 with 1 Axes>"
            ]
          },
          "metadata": {
            "tags": []
          }
        }
      ]
    },
    {
      "metadata": {
        "id": "C99SIeuRLNGa",
        "colab_type": "code",
        "colab": {}
      },
      "cell_type": "code",
      "source": [
        "# KMeans library load\n",
        "\n",
        "from sklearn.cluster import KMeans"
      ],
      "execution_count": 0,
      "outputs": []
    },
    {
      "metadata": {
        "id": "Dnfgh76oLNGd",
        "colab_type": "code",
        "colab": {}
      },
      "cell_type": "code",
      "source": [
        "# KMeans class 생성\n",
        "\n",
        "kmeans = KMeans(n_clusters=2).fit(data)\n",
        "centroids = kmeans.cluster_centers_"
      ],
      "execution_count": 0,
      "outputs": []
    },
    {
      "metadata": {
        "id": "DNAfK6g8LNGf",
        "colab_type": "code",
        "outputId": "b68c6fc7-7485-4316-dd6c-8f02fdc56887",
        "colab": {
          "base_uri": "https://localhost:8080/",
          "height": 53
        }
      },
      "cell_type": "code",
      "source": [
        "# 중심값 (!= dataset의 값 중 하나)\n",
        "\n",
        "centroids"
      ],
      "execution_count": 0,
      "outputs": [
        {
          "output_type": "execute_result",
          "data": {
            "text/plain": [
              "array([[38.75      , 61.625     ],\n",
              "       [47.07142857, 22.14285714]])"
            ]
          },
          "metadata": {
            "tags": []
          },
          "execution_count": 9
        }
      ]
    },
    {
      "metadata": {
        "id": "9iYtz_szOx_x",
        "colab_type": "code",
        "outputId": "601caae9-7404-469e-b3f8-224000efaf5f",
        "colab": {
          "base_uri": "https://localhost:8080/",
          "height": 53
        }
      },
      "cell_type": "code",
      "source": [
        "#**************************************************************************\n",
        "\n",
        "kmeans.labels_.astype(float)"
      ],
      "execution_count": 0,
      "outputs": [
        {
          "output_type": "execute_result",
          "data": {
            "text/plain": [
              "array([0., 0., 0., 0., 0., 0., 0., 0., 0., 0., 0., 1., 1., 0., 0., 1., 1.,\n",
              "       0., 0., 0., 1., 1., 1., 1., 1., 1., 1., 1., 1., 1.])"
            ]
          },
          "metadata": {
            "tags": []
          },
          "execution_count": 10
        }
      ]
    },
    {
      "metadata": {
        "id": "KDbbxTnCLNGj",
        "colab_type": "code",
        "outputId": "9cf690b8-c667-4303-acaa-bb2c22cbb67f",
        "colab": {
          "base_uri": "https://localhost:8080/",
          "height": 347
        }
      },
      "cell_type": "code",
      "source": [
        "# dataset (c, s: 점 크기, alpha: 색 진하기)\n",
        "plt.scatter(data['x'], data['y'], c=kmeans.labels_.astype(float), s=50, alpha=0.5)\n",
        "\n",
        "# 중심점\n",
        "plt.scatter(centroids[:,0], centroids[:,1], c='red', s=50)\n",
        "\n",
        "# 그래프 출력\n",
        "plt.show()"
      ],
      "execution_count": 0,
      "outputs": [
        {
          "output_type": "display_data",
          "data": {
            "image/png": "[encoded data removed]",
            "text/plain": [
              "<Figure size 576x396 with 1 Axes>"
            ]
          },
          "metadata": {
            "tags": []
          }
        }
      ]
    },
    {
      "metadata": {
        "id": "PutkX7-EPw81",
        "colab_type": "text"
      },
      "cell_type": "markdown",
      "source": [
        "###scipy.spatial.distance import cdist\n",
        "\n",
        "Computes distance between each pair of the two collections of inputs"
      ]
    },
    {
      "metadata": {
        "id": "frRf58PyLNGm",
        "colab_type": "code",
        "colab": {}
      },
      "cell_type": "code",
      "source": [
        "# K값 찾기********************************************************************************************\n",
        "\n",
        "from scipy.spatial.distance import cdist\n",
        "def testFunc(x, y):\n",
        "    x1 = x\n",
        "    y1 = y\n",
        "    data2 = np.array(list(zip(x1, y1))).reshape(len(x1),2) #************************************************\n",
        "    data3 = []\n",
        "    K = range(1,10)\n",
        "    for k in K:\n",
        "        kmeanModel = KMeans(n_clusters=k).fit(data2)\n",
        "        \n",
        "        # kmeansModel 에 fit 2번??***************************************************************************\n",
        "        kmeanModel.fit(data2)\n",
        "\n",
        "        #  kmeanModel.cluster_centers_, 'euclidean': \"ordinary\" straight-line distance between two points\n",
        "        d = cdist(data2, kmeanModel.cluster_centers_, 'euclidean') \n",
        "        d2 = sum(np.min(d, axis=1)) / data2.shape[0] #**********************************************************\n",
        "        data3.append(d2)\n",
        "    \n",
        "    return data3\n"
      ],
      "execution_count": 0,
      "outputs": []
    },
    {
      "metadata": {
        "id": "0NbHghSQLNGp",
        "colab_type": "code",
        "outputId": "ff3d6574-182b-4c5e-ef2f-f3fa25537d7e",
        "colab": {
          "base_uri": "https://localhost:8080/",
          "height": 179
        }
      },
      "cell_type": "code",
      "source": [
        "test = testFunc(data['x'], data['y'])\n",
        "test"
      ],
      "execution_count": 0,
      "outputs": [
        {
          "output_type": "execute_result",
          "data": {
            "text/plain": [
              "[23.693201938148384,\n",
              " 14.455398125748394,\n",
              " 10.574911476191717,\n",
              " 8.763082712451988,\n",
              " 7.4850203876301915,\n",
              " 6.060632821706659,\n",
              " 5.120189656566015,\n",
              " 4.261941024585835,\n",
              " 3.7908030797645904]"
            ]
          },
          "metadata": {
            "tags": []
          },
          "execution_count": 25
        }
      ]
    },
    {
      "metadata": {
        "id": "BvokUeFDLNGt",
        "colab_type": "code",
        "outputId": "50afcb92-afe0-40bf-d1b3-5158b26e50d6",
        "colab": {
          "base_uri": "https://localhost:8080/",
          "height": 347
        }
      },
      "cell_type": "code",
      "source": [
        "plt.plot(range(1,10), test, 'bx-')\n",
        "plt.show()"
      ],
      "execution_count": 0,
      "outputs": [
        {
          "output_type": "display_data",
          "data": {
            "image/png": "[encoded data removed]",
            "text/plain": [
              "<Figure size 576x396 with 1 Axes>"
            ]
          },
          "metadata": {
            "tags": []
          }
        }
      ]
    },
    {
      "metadata": {
        "id": "ypQdLS5ALNGy",
        "colab_type": "code",
        "colab": {}
      },
      "cell_type": "code",
      "source": [
        ""
      ],
      "execution_count": 0,
      "outputs": []
    }
  ]
}