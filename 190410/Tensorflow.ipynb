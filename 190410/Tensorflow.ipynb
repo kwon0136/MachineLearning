{
  "nbformat": 4,
  "nbformat_minor": 0,
  "metadata": {
    "colab": {
      "name": "Tensorflow.ipynb",
      "version": "0.3.2",
      "provenance": [],
      "collapsed_sections": [],
      "include_colab_link": true
    },
    "kernelspec": {
      "name": "python3",
      "display_name": "Python 3"
    }
  },
  "cells": [
    {
      "cell_type": "markdown",
      "metadata": {
        "id": "view-in-github",
        "colab_type": "text"
      },
      "source": [
        "<a href=\"https://colab.research.google.com/github/kwon0136/MachineLearning/blob/master/190410/Tensorflow.ipynb\" target=\"_parent\"><img src=\"https://colab.research.google.com/assets/colab-badge.svg\" alt=\"Open In Colab\"/></a>"
      ]
    },
    {
      "metadata": {
        "id": "Px0ZTcK30IKV",
        "colab_type": "code",
        "colab": {}
      },
      "cell_type": "code",
      "source": [
        "import tensorflow as tf"
      ],
      "execution_count": 0,
      "outputs": []
    },
    {
      "metadata": {
        "id": "BZs_KMMY0Lo-",
        "colab_type": "code",
        "colab": {}
      },
      "cell_type": "code",
      "source": [
        "xtrain = [1, 2, 3]\n",
        "ytrain = [1, 2, 3]"
      ],
      "execution_count": 0,
      "outputs": []
    },
    {
      "metadata": {
        "id": "wuxwZ33C0nNL",
        "colab_type": "code",
        "outputId": "072935e5-2486-4601-bbb0-484f820b5bea",
        "colab": {
          "base_uri": "https://localhost:8080/",
          "height": 91
        }
      },
      "cell_type": "code",
      "source": [
        "# y = x * W + b\n",
        "W = tf.Variable(tf.random_normal([1]), name='weight')\n",
        "b = tf.Variable(tf.random_normal([1]), name='bias')"
      ],
      "execution_count": 0,
      "outputs": [
        {
          "output_type": "stream",
          "text": [
            "WARNING:tensorflow:From /usr/local/lib/python3.6/dist-packages/tensorflow/python/framework/op_def_library.py:263: colocate_with (from tensorflow.python.framework.ops) is deprecated and will be removed in a future version.\n",
            "Instructions for updating:\n",
            "Colocations handled automatically by placer.\n"
          ],
          "name": "stdout"
        }
      ]
    },
    {
      "metadata": {
        "id": "ZBwo6Zfh0npV",
        "colab_type": "code",
        "colab": {}
      },
      "cell_type": "code",
      "source": [
        "hypothesis = xtrain * W + b\n",
        "\n",
        "# reduce_mean(): 평균\n",
        "cost = tf.reduce_mean(tf.square(hypothesis - ytrain))"
      ],
      "execution_count": 0,
      "outputs": []
    },
    {
      "metadata": {
        "id": "_egjr4-x0xWL",
        "colab_type": "code",
        "colab": {}
      },
      "cell_type": "code",
      "source": [
        "# optimizer\n",
        "\n",
        "train = tf.train.GradientDescentOptimizer(learning_rate=0.01).minimize(cost)"
      ],
      "execution_count": 0,
      "outputs": []
    },
    {
      "metadata": {
        "id": "YLk_AsBf1L4r",
        "colab_type": "code",
        "colab": {}
      },
      "cell_type": "code",
      "source": [
        "sess = tf.Session()\n",
        "sess.run(tf.global_variables_initializer())"
      ],
      "execution_count": 0,
      "outputs": []
    },
    {
      "metadata": {
        "id": "iUYR0nNk1Ue2",
        "colab_type": "code",
        "outputId": "40db3464-dec0-4f01-fdc4-d5f9410b1ac9",
        "colab": {
          "base_uri": "https://localhost:8080/",
          "height": 197
        }
      },
      "cell_type": "code",
      "source": [
        "for s in range(200):\n",
        "  _, cost_val, W_val, b_val = sess.run([train, cost, W, b])\n",
        "  #print(cost_val, W_val, b_val)\n",
        "  if s % 20 ==0:\n",
        "    print(s,cost_val, W_val,b_val)"
      ],
      "execution_count": 0,
      "outputs": [
        {
          "output_type": "stream",
          "text": [
            "0 0.010255068 [0.88266706] [0.2667254]\n",
            "20 0.009313825 [0.88818127] [0.2541903]\n",
            "40 0.008458951 [0.8934363] [0.2422443]\n",
            "60 0.0076825726 [0.8984445] [0.23085973]\n",
            "80 0.00697743 [0.9032172] [0.22001015]\n",
            "100 0.006337009 [0.90776557] [0.20967047]\n",
            "120 0.0057553705 [0.91210026] [0.19981675]\n",
            "140 0.0052271266 [0.9162313] [0.19042608]\n",
            "160 0.0047473647 [0.92016804] [0.18147677]\n",
            "180 0.0043116226 [0.9239199] [0.17294802]\n"
          ],
          "name": "stdout"
        }
      ]
    },
    {
      "metadata": {
        "id": "VTiTmARG13qL",
        "colab_type": "code",
        "colab": {}
      },
      "cell_type": "code",
      "source": [
        ""
      ],
      "execution_count": 0,
      "outputs": []
    }
  ]
}