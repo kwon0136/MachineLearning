{
  "nbformat": 4,
  "nbformat_minor": 0,
  "metadata": {
    "colab": {
      "name": "TensorFlowSample04.ipynb",
      "version": "0.3.2",
      "provenance": [],
      "include_colab_link": true
    },
    "language_info": {
      "codemirror_mode": {
        "name": "ipython",
        "version": 3
      },
      "file_extension": ".py",
      "mimetype": "text/x-python",
      "name": "python",
      "nbconvert_exporter": "python",
      "pygments_lexer": "ipython3",
      "version": "3.7.3"
    },
    "kernelspec": {
      "display_name": "Python 3",
      "language": "python",
      "name": "python3"
    }
  },
  "cells": [
    {
      "cell_type": "markdown",
      "metadata": {
        "id": "view-in-github",
        "colab_type": "text"
      },
      "source": [
        "<a href=\"https://colab.research.google.com/github/kwon0136/MachineLearning/blob/master/190410/TensorFlowSample04.ipynb\" target=\"_parent\"><img src=\"https://colab.research.google.com/assets/colab-badge.svg\" alt=\"Open In Colab\"/></a>"
      ]
    },
    {
      "metadata": {
        "id": "fwriJelSp6Ry",
        "colab_type": "code",
        "colab": {}
      },
      "cell_type": "code",
      "source": [
        "import numpy as np\n",
        "import tensorflow as tf\n",
        "import matplotlib.pyplot as plt"
      ],
      "execution_count": 0,
      "outputs": []
    },
    {
      "metadata": {
        "id": "IySKha5Tp6R3",
        "colab_type": "code",
        "colab": {}
      },
      "cell_type": "code",
      "source": [
        "features = 2\n",
        "iter = 2000\n",
        "learning_rate = 0.01"
      ],
      "execution_count": 0,
      "outputs": []
    },
    {
      "metadata": {
        "id": "W4k0vwh3p6R6",
        "colab_type": "code",
        "outputId": "af3421bb-57fa-4a4a-fcec-be2c3d21a601",
        "colab": {}
      },
      "cell_type": "code",
      "source": [
        "x = np.array([\n",
        "    [0,0],\n",
        "    [1,0],\n",
        "    [0,1],\n",
        "    [1,1]\n",
        "], np.float32) # 4x2\n",
        "y = np.array([0,0,0,1]) # 4x1 -> AND\n",
        "W = np.zeros(features, np.float32) # 2x1\n",
        "b = np.zeros(1, np.float32) # 1x1\n",
        "N, d = np.shape(x)\n",
        "N, d"
      ],
      "execution_count": 0,
      "outputs": [
        {
          "output_type": "execute_result",
          "data": {
            "text/plain": [
              "(4, 2)"
            ]
          },
          "metadata": {
            "tags": []
          },
          "execution_count": 30
        }
      ]
    },
    {
      "metadata": {
        "id": "oT_S_MiZp6SA",
        "colab_type": "code",
        "colab": {}
      },
      "cell_type": "code",
      "source": [
        "for k in range(iter):\n",
        "    for j in range(N): \n",
        "        #print(x[j:, :])# 1x2, 2x1\n",
        "        yHat_j = x[j, :].dot(W)    \n",
        "        yHat_j = 1.0 / (1.0 + np.exp(-yHat_j))   \n",
        "        err = y[j] - yHat_j\n",
        "        deltaW = err * x[j, :]\n",
        "        deltaB = err\n",
        "        W = W + learning_rate * deltaW\n",
        "        b = b + learning_rate * deltaB\n",
        "    \n",
        "plot_x = np.array([np.min(x[:, 0] - 0.2), np.max(x[:, 1] + 0.2)])\n",
        "plot_y = -1 /W[1] * (W[0] * plot_x + b)"
      ],
      "execution_count": 0,
      "outputs": []
    },
    {
      "metadata": {
        "id": "4EMZStGbp6SD",
        "colab_type": "code",
        "outputId": "a2c3ba78-31f2-4718-aa3a-2687f393ecf5",
        "colab": {}
      },
      "cell_type": "code",
      "source": [
        "plt.scatter(x[:,0], x[:,1], c=y, s=100, cmap='viridis')\n",
        "#plt.plot(plot_x, plot_y, color='k', linewidth=2)\n",
        "plt.xlim([-0.2, 1.2])\n",
        "plt.ylim([-0.2, 1.25])\n",
        "plt.show()"
      ],
      "execution_count": 0,
      "outputs": [
        {
          "output_type": "display_data",
          "data": {
            "image/png": "[encoded data removed]",
            "text/plain": [
              "<Figure size 432x288 with 1 Axes>"
            ]
          },
          "metadata": {
            "tags": [],
            "needs_background": "light"
          }
        }
      ]
    }
  ]
}