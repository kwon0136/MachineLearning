{
  "nbformat": 4,
  "nbformat_minor": 0,
  "metadata": {
    "colab": {
      "name": "SinglePerceptronLayer.ipynb",
      "version": "0.3.2",
      "provenance": [],
      "collapsed_sections": [],
      "include_colab_link": true
    },
    "kernelspec": {
      "name": "python3",
      "display_name": "Python 3"
    }
  },
  "cells": [
    {
      "cell_type": "markdown",
      "metadata": {
        "id": "view-in-github",
        "colab_type": "text"
      },
      "source": [
        "<a href=\"https://colab.research.google.com/github/kwon0136/MachineLearning/blob/master/190410/SinglePerceptronLayer.ipynb\" target=\"_parent\"><img src=\"https://colab.research.google.com/assets/colab-badge.svg\" alt=\"Open In Colab\"/></a>"
      ]
    },
    {
      "metadata": {
        "id": "vDhpajMFsIIU",
        "colab_type": "text"
      },
      "cell_type": "markdown",
      "source": [
        "Single Perceptron Layer: AND/ OR\n",
        "\n",
        "Multi Perceptron Layer: XOR"
      ]
    },
    {
      "metadata": {
        "id": "MZLVQy76ceup",
        "colab_type": "code",
        "colab": {}
      },
      "cell_type": "code",
      "source": [
        "import numpy as np\n",
        "import tensorflow as tf\n",
        "import matplotlib.pyplot as plt"
      ],
      "execution_count": 0,
      "outputs": []
    },
    {
      "metadata": {
        "id": "qA78gqxgjYHt",
        "colab_type": "code",
        "colab": {}
      },
      "cell_type": "code",
      "source": [
        "features = 2\n",
        "iter = 2000\n",
        "learning_rate = 0.01"
      ],
      "execution_count": 0,
      "outputs": []
    },
    {
      "metadata": {
        "id": "Wa7LuiPfjhlB",
        "colab_type": "code",
        "colab": {}
      },
      "cell_type": "code",
      "source": [
        "x = np.array([\n",
        "    [0,0],\n",
        "    [1,0],\n",
        "    [0,1],\n",
        "    [1,1]\n",
        "], np.float32) # 4x2\n",
        "y = np.array([0,0,0,1]) # 4x1, AND"
      ],
      "execution_count": 0,
      "outputs": []
    },
    {
      "metadata": {
        "id": "9OBqK7Dujtle",
        "colab_type": "code",
        "colab": {}
      },
      "cell_type": "code",
      "source": [
        "W = np.zeros(features, np.float32) # 2x1\n",
        "b = np.zeros(1, np.float32) # 1x1\n",
        "N, d = np.shape(x)"
      ],
      "execution_count": 0,
      "outputs": []
    },
    {
      "metadata": {
        "id": "qd8Ec5i_kasj",
        "colab_type": "code",
        "colab": {}
      },
      "cell_type": "code",
      "source": [
        "for k in range(iter):\n",
        "    for j in range(N): \n",
        "        #print(x[j:, :])# 1x2, 2x1\n",
        "        yHat_j = x[j, :].dot(W)    \n",
        "        yHat_j = 1.0 / (1.0 + np.exp(-yHat_j))   \n",
        "        err = y[j] - yHat_j\n",
        "        deltaW = err * x[j, :]\n",
        "        deltaB = err\n",
        "        W = W + learning_rate * deltaW\n",
        "        b = b + learning_rate * deltaB\n",
        "    \n",
        "plot_x = np.array([np.min(x[:, 0] - 0.2), np.max(x[:, 1] + 0.2)])\n",
        "plot_y = -1 /W[1] * (W[0] * plot_x + b)"
      ],
      "execution_count": 0,
      "outputs": []
    },
    {
      "metadata": {
        "id": "aEuyfuD7l9Ro",
        "colab_type": "code",
        "outputId": "f3d9f161-3664-4eec-ff9a-35896ea42fde",
        "colab": {
          "base_uri": "https://localhost:8080/",
          "height": 269
        }
      },
      "cell_type": "code",
      "source": [
        "plt.scatter(x[:,0], x[:,1], c=y, s=100, cmap='viridis')\n",
        "#plt.plot(plot_x, plot_y, color='k', linewidth=2)\n",
        "plt.xlim([-0.2, 1.2])\n",
        "plt.ylim([-0.2, 1.25])\n",
        "plt.show()"
      ],
      "execution_count": 0,
      "outputs": [
        {
          "output_type": "display_data",
          "data": {
            "image/png": "[encoded data removed]",
            "text/plain": [
              "<Figure size 432x288 with 1 Axes>"
            ]
          },
          "metadata": {
            "tags": []
          }
        }
      ]
    },
    {
      "metadata": {
        "id": "Wnt-efDgl_gf",
        "colab_type": "code",
        "colab": {}
      },
      "cell_type": "code",
      "source": [
        ""
      ],
      "execution_count": 0,
      "outputs": []
    }
  ]
}