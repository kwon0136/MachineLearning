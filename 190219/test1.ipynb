{
  "nbformat": 4,
  "nbformat_minor": 0,
  "metadata": {
    "colab": {
      "name": "test1.ipynb",
      "version": "0.3.2",
      "provenance": [],
      "include_colab_link": true
    },
    "kernelspec": {
      "display_name": "Python 3",
      "language": "python",
      "name": "python3"
    }
  },
  "cells": [
    {
      "cell_type": "markdown",
      "metadata": {
        "id": "view-in-github",
        "colab_type": "text"
      },
      "source": [
        "<a href=\"https://colab.research.google.com/github/kwon0136/MachineLearning/blob/master/190219/test1.ipynb\" target=\"_parent\"><img src=\"https://colab.research.google.com/assets/colab-badge.svg\" alt=\"Open In Colab\"/></a>"
      ]
    },
    {
      "metadata": {
        "id": "ay972UX61hhs",
        "colab_type": "code",
        "colab": {},
        "outputId": "b1d7d444-85d5-4cd7-cf53-d5f33d3263e6"
      },
      "cell_type": "code",
      "source": [
        "print(\"Hello\")"
      ],
      "execution_count": 0,
      "outputs": [
        {
          "output_type": "stream",
          "text": [
            "Hello\n"
          ],
          "name": "stdout"
        }
      ]
    },
    {
      "metadata": {
        "id": "58EGAFDA1hh3",
        "colab_type": "code",
        "colab": {},
        "outputId": "0c9f8e53-fe71-46fe-af29-261cab3dd98b"
      },
      "cell_type": "code",
      "source": [
        "name = \"이순신\"\n",
        "#print(name)\n",
        "name"
      ],
      "execution_count": 0,
      "outputs": [
        {
          "output_type": "execute_result",
          "data": {
            "text/plain": [
              "'이순신'"
            ]
          },
          "metadata": {
            "tags": []
          },
          "execution_count": 8
        }
      ]
    },
    {
      "metadata": {
        "id": "kz8OBQWq1hh9",
        "colab_type": "code",
        "colab": {},
        "outputId": "58a774f5-315c-47d2-a721-3eca88f241fb"
      },
      "cell_type": "code",
      "source": [
        "name = input(\"입력 : \")\n",
        "print(name)"
      ],
      "execution_count": 0,
      "outputs": [
        {
          "output_type": "stream",
          "text": [
            "입력 : 홍길동\n",
            "홍길동\n"
          ],
          "name": "stdout"
        }
      ]
    },
    {
      "metadata": {
        "id": "ih-s1EzA1hiC",
        "colab_type": "code",
        "colab": {},
        "outputId": "6ac767da-9cf2-4544-b9ea-eebe17a46172"
      },
      "cell_type": "code",
      "source": [
        "name = input(\"이름을 입력해주세요 : \")\n",
        "age = input(\"나이를 입력해주세요 : \")\n",
        "print(\"%s, %s\" %(name, age))"
      ],
      "execution_count": 0,
      "outputs": [
        {
          "output_type": "stream",
          "text": [
            "이름을 입력해주세요 : 이순신\n",
            "나이를 입력해주세요 : 20\n",
            "이순신, 20\n"
          ],
          "name": "stdout"
        }
      ]
    },
    {
      "metadata": {
        "id": "1a3472OY1hiF",
        "colab_type": "code",
        "colab": {},
        "outputId": "756b16f9-3b68-4b65-c7a1-9a4ae221da4c"
      },
      "cell_type": "code",
      "source": [
        "#산술연산자\n",
        "print(3 +10)\n",
        "print(3 ** 10)\n",
        "print(3 % 10)\n",
        "print(3 / 2)"
      ],
      "execution_count": 0,
      "outputs": [
        {
          "output_type": "stream",
          "text": [
            "13\n",
            "59049\n",
            "3\n",
            "1.5\n"
          ],
          "name": "stdout"
        }
      ]
    },
    {
      "metadata": {
        "id": "ThVfxQ3F1hiI",
        "colab_type": "code",
        "colab": {},
        "outputId": "8312ed33-f500-4578-8683-720cc627960d"
      },
      "cell_type": "code",
      "source": [
        "#비교연산자\n",
        "print(10 >= 3)\n",
        "print(10 <= 3)\n",
        "print(10 == 3)\n",
        "print(10 != 3)\n",
        "print(3 % 2 == 1)"
      ],
      "execution_count": 0,
      "outputs": [
        {
          "output_type": "stream",
          "text": [
            "True\n",
            "False\n",
            "False\n",
            "True\n",
            "True\n"
          ],
          "name": "stdout"
        }
      ]
    },
    {
      "metadata": {
        "id": "BOJ-GJZO1hiM",
        "colab_type": "code",
        "colab": {},
        "outputId": "19d27b92-5a56-4417-8640-08481591272c"
      },
      "cell_type": "code",
      "source": [
        "#논리연산자\n",
        "print(1 == 1 and 2 != 1)\n",
        "print(10 % 2 != 0 and 1 + 1 > 0)\n",
        "print(10 % 2 != 0 or 1 + 1 > 0)\n",
        "print(not True)\n",
        "print(not 0)"
      ],
      "execution_count": 0,
      "outputs": [
        {
          "output_type": "stream",
          "text": [
            "True\n",
            "False\n",
            "True\n",
            "False\n",
            "True\n"
          ],
          "name": "stdout"
        }
      ]
    },
    {
      "metadata": {
        "id": "gcnDstvT1hiP",
        "colab_type": "code",
        "colab": {},
        "outputId": "69b56694-2ffe-4555-9f5a-04e98d63ab3d"
      },
      "cell_type": "code",
      "source": [
        "import random\n",
        "print(random.randint(1,6))"
      ],
      "execution_count": 0,
      "outputs": [
        {
          "output_type": "stream",
          "text": [
            "5\n"
          ],
          "name": "stdout"
        }
      ]
    },
    {
      "metadata": {
        "id": "DZbrUn491hiT",
        "colab_type": "code",
        "colab": {},
        "outputId": "7bf48176-fff5-4097-d471-6fe5719a15f3"
      },
      "cell_type": "code",
      "source": [
        "for name in [1,2,3,4]:\n",
        "    print(name)"
      ],
      "execution_count": 0,
      "outputs": [
        {
          "output_type": "stream",
          "text": [
            "1\n",
            "2\n",
            "3\n",
            "4\n"
          ],
          "name": "stdout"
        }
      ]
    },
    {
      "metadata": {
        "id": "1kKiRZyN1hiX",
        "colab_type": "code",
        "colab": {},
        "outputId": "6839881a-bd42-4c47-ca3c-927f6901b5ea"
      },
      "cell_type": "code",
      "source": [
        "for i in range(0, 10):\n",
        "    print(i)"
      ],
      "execution_count": 0,
      "outputs": [
        {
          "output_type": "stream",
          "text": [
            "0\n",
            "1\n",
            "2\n",
            "3\n",
            "4\n",
            "5\n",
            "6\n",
            "7\n",
            "8\n",
            "9\n"
          ],
          "name": "stdout"
        }
      ]
    },
    {
      "metadata": {
        "id": "9bPzoFs51hia",
        "colab_type": "code",
        "colab": {},
        "outputId": "4c50aa0f-d597-441e-a73a-3b2403996a5c"
      },
      "cell_type": "code",
      "source": [
        "for i in range(2, 10):\n",
        "    for j in range(1, 10):\n",
        "        print(\"%d X %d = %d\" %(i,j, i*j))"
      ],
      "execution_count": 0,
      "outputs": [
        {
          "output_type": "stream",
          "text": [
            "2 X 1 = 2\n",
            "2 X 2 = 4\n",
            "2 X 3 = 6\n",
            "2 X 4 = 8\n",
            "2 X 5 = 10\n",
            "2 X 6 = 12\n",
            "2 X 7 = 14\n",
            "2 X 8 = 16\n",
            "2 X 9 = 18\n",
            "3 X 1 = 3\n",
            "3 X 2 = 6\n",
            "3 X 3 = 9\n",
            "3 X 4 = 12\n",
            "3 X 5 = 15\n",
            "3 X 6 = 18\n",
            "3 X 7 = 21\n",
            "3 X 8 = 24\n",
            "3 X 9 = 27\n",
            "4 X 1 = 4\n",
            "4 X 2 = 8\n",
            "4 X 3 = 12\n",
            "4 X 4 = 16\n",
            "4 X 5 = 20\n",
            "4 X 6 = 24\n",
            "4 X 7 = 28\n",
            "4 X 8 = 32\n",
            "4 X 9 = 36\n",
            "5 X 1 = 5\n",
            "5 X 2 = 10\n",
            "5 X 3 = 15\n",
            "5 X 4 = 20\n",
            "5 X 5 = 25\n",
            "5 X 6 = 30\n",
            "5 X 7 = 35\n",
            "5 X 8 = 40\n",
            "5 X 9 = 45\n",
            "6 X 1 = 6\n",
            "6 X 2 = 12\n",
            "6 X 3 = 18\n",
            "6 X 4 = 24\n",
            "6 X 5 = 30\n",
            "6 X 6 = 36\n",
            "6 X 7 = 42\n",
            "6 X 8 = 48\n",
            "6 X 9 = 54\n",
            "7 X 1 = 7\n",
            "7 X 2 = 14\n",
            "7 X 3 = 21\n",
            "7 X 4 = 28\n",
            "7 X 5 = 35\n",
            "7 X 6 = 42\n",
            "7 X 7 = 49\n",
            "7 X 8 = 56\n",
            "7 X 9 = 63\n",
            "8 X 1 = 8\n",
            "8 X 2 = 16\n",
            "8 X 3 = 24\n",
            "8 X 4 = 32\n",
            "8 X 5 = 40\n",
            "8 X 6 = 48\n",
            "8 X 7 = 56\n",
            "8 X 8 = 64\n",
            "8 X 9 = 72\n",
            "9 X 1 = 9\n",
            "9 X 2 = 18\n",
            "9 X 3 = 27\n",
            "9 X 4 = 36\n",
            "9 X 5 = 45\n",
            "9 X 6 = 54\n",
            "9 X 7 = 63\n",
            "9 X 8 = 72\n",
            "9 X 9 = 81\n"
          ],
          "name": "stdout"
        }
      ]
    },
    {
      "metadata": {
        "id": "j_swFwZN1hid",
        "colab_type": "code",
        "colab": {},
        "outputId": "465f97a5-ef41-4aa8-9428-2f34cd3f3b8b"
      },
      "cell_type": "code",
      "source": [
        "name = \"john\"\n",
        "for s in name:\n",
        "    print(s)"
      ],
      "execution_count": 0,
      "outputs": [
        {
          "output_type": "stream",
          "text": [
            "j\n",
            "o\n",
            "h\n",
            "n\n"
          ],
          "name": "stdout"
        }
      ]
    },
    {
      "metadata": {
        "id": "LW8bnJai1hig",
        "colab_type": "code",
        "colab": {},
        "outputId": "e76d0a3d-0657-45aa-88c7-367efa034794"
      },
      "cell_type": "code",
      "source": [
        "a = 0\n",
        "while a < 100:\n",
        "    print(a, end=\" \")\n",
        "    a += 1"
      ],
      "execution_count": 0,
      "outputs": [
        {
          "output_type": "stream",
          "text": [
            "0 1 2 3 4 5 6 7 8 9 10 11 12 13 14 15 16 17 18 19 20 21 22 23 24 25 26 27 28 29 30 31 32 33 34 35 36 37 38 39 40 41 42 43 44 45 46 47 48 49 50 51 52 53 54 55 56 57 58 59 60 61 62 63 64 65 66 67 68 69 70 71 72 73 74 75 76 77 78 79 80 81 82 83 84 85 86 87 88 89 90 91 92 93 94 95 96 97 98 99 "
          ],
          "name": "stdout"
        }
      ]
    },
    {
      "metadata": {
        "id": "9TbC_NMD1hik",
        "colab_type": "code",
        "colab": {},
        "outputId": "7220a110-18f0-4254-fc68-fe5173b12b69"
      },
      "cell_type": "code",
      "source": [
        "names = ['인천', '송도', '연수', '남동']\n",
        "print(names)\n",
        "names.append('동추')\n",
        "print(names)\n",
        "print(len(names))\n",
        "print(names[0], names[3])\n",
        "print(names[-1])\n",
        "print(names[1:3])\n",
        "print(names[:])"
      ],
      "execution_count": 0,
      "outputs": [
        {
          "output_type": "stream",
          "text": [
            "['인천', '송도', '연수', '남동']\n",
            "['인천', '송도', '연수', '남동', '동추']\n",
            "5\n",
            "인천 남동\n",
            "동추\n",
            "['송도', '연수']\n",
            "['인천', '송도', '연수', '남동', '동추']\n"
          ],
          "name": "stdout"
        }
      ]
    },
    {
      "metadata": {
        "id": "ckZeIWXt1hio",
        "colab_type": "code",
        "colab": {},
        "outputId": "652ed94d-9870-4df5-e432-2967f363aa4a"
      },
      "cell_type": "code",
      "source": [
        "names = ('이순신', '강감찬', '권율')\n",
        "print(names[0])"
      ],
      "execution_count": 0,
      "outputs": [
        {
          "output_type": "stream",
          "text": [
            "이순신\n"
          ],
          "name": "stdout"
        }
      ]
    },
    {
      "metadata": {
        "id": "R4RhZfzs1hir",
        "colab_type": "code",
        "colab": {},
        "outputId": "a777c378-7a63-4999-d177-d9c2f6e52ed6"
      },
      "cell_type": "code",
      "source": [
        "print(names)"
      ],
      "execution_count": 0,
      "outputs": [
        {
          "output_type": "stream",
          "text": [
            "('이순신', '강감찬', '권율')\n"
          ],
          "name": "stdout"
        }
      ]
    },
    {
      "metadata": {
        "id": "om5z_eGb1hiv",
        "colab_type": "code",
        "colab": {}
      },
      "cell_type": "code",
      "source": [
        "#del names[0]"
      ],
      "execution_count": 0,
      "outputs": []
    },
    {
      "metadata": {
        "id": "HFmdCer71hiy",
        "colab_type": "code",
        "colab": {},
        "outputId": "2fcfe9c3-7d5b-4057-8a1e-a67c01cd952b"
      },
      "cell_type": "code",
      "source": [
        "menus = {'카페라떼':2500, '아이스라떼':3000, '핫초코':2000}\n",
        "print(menus)\n",
        "print(menus['카페라떼'])\n"
      ],
      "execution_count": 0,
      "outputs": [
        {
          "output_type": "stream",
          "text": [
            "{'카페라떼': 2500, '아이스라떼': 3000, '핫초코': 2000}\n",
            "2500\n"
          ],
          "name": "stdout"
        }
      ]
    },
    {
      "metadata": {
        "id": "z2qYWwlz1hi2",
        "colab_type": "code",
        "colab": {},
        "outputId": "69f294d8-92b2-48c7-a43d-cdc394317839"
      },
      "cell_type": "code",
      "source": [
        "menu = input(\"원하는 메뉴 입력 : \")\n",
        "print(menus[menu])"
      ],
      "execution_count": 0,
      "outputs": [
        {
          "output_type": "stream",
          "text": [
            "원하는 메뉴 입력 : 아이스라떼\n",
            "3000\n"
          ],
          "name": "stdout"
        }
      ]
    },
    {
      "metadata": {
        "id": "cS3C6cmw1hi5",
        "colab_type": "code",
        "colab": {}
      },
      "cell_type": "code",
      "source": [
        ""
      ],
      "execution_count": 0,
      "outputs": []
    }
  ]
}