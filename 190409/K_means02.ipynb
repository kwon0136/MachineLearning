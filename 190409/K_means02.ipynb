{
  "nbformat": 4,
  "nbformat_minor": 0,
  "metadata": {
    "colab": {
      "name": "K-means02.ipynb",
      "version": "0.3.2",
      "provenance": [],
      "collapsed_sections": [],
      "include_colab_link": true
    },
    "kernelspec": {
      "display_name": "Python 3",
      "language": "python",
      "name": "python3"
    }
  },
  "cells": [
    {
      "cell_type": "markdown",
      "metadata": {
        "id": "view-in-github",
        "colab_type": "text"
      },
      "source": [
        "<a href=\"https://colab.research.google.com/github/kwon0136/MachineLearning/blob/master/190409/K_means02.ipynb\" target=\"_parent\"><img src=\"https://colab.research.google.com/assets/colab-badge.svg\" alt=\"Open In Colab\"/></a>"
      ]
    },
    {
      "metadata": {
        "id": "MmlcwIbDTDxf",
        "colab_type": "code",
        "colab": {}
      },
      "cell_type": "code",
      "source": [
        "from sklearn.cluster import KMeans\n",
        "from sklearn import metrics\n",
        "from scipy.spatial.distance import cdist\n",
        "import pandas as pd\n",
        "import numpy as np\n",
        "import matplotlib.pyplot as plt"
      ],
      "execution_count": 0,
      "outputs": []
    },
    {
      "metadata": {
        "id": "5KHfeedITDxj",
        "colab_type": "code",
        "outputId": "c5e93450-2163-4626-908b-715ed3ffba76",
        "colab": {
          "base_uri": "https://localhost:8080/",
          "height": 576
        }
      },
      "cell_type": "code",
      "source": [
        "data = pd.read_csv(\"Sample02-k-means.csv\")\n",
        "data"
      ],
      "execution_count": 0,
      "outputs": [
        {
          "output_type": "execute_result",
          "data": {
            "text/html": [
              "<div>\n",
              "<style scoped>\n",
              "    .dataframe tbody tr th:only-of-type {\n",
              "        vertical-align: middle;\n",
              "    }\n",
              "\n",
              "    .dataframe tbody tr th {\n",
              "        vertical-align: top;\n",
              "    }\n",
              "\n",
              "    .dataframe thead th {\n",
              "        text-align: right;\n",
              "    }\n",
              "</style>\n",
              "<table border=\"1\" class=\"dataframe\">\n",
              "  <thead>\n",
              "    <tr style=\"text-align: right;\">\n",
              "      <th></th>\n",
              "      <th>x</th>\n",
              "      <th>y</th>\n",
              "    </tr>\n",
              "  </thead>\n",
              "  <tbody>\n",
              "    <tr>\n",
              "      <th>0</th>\n",
              "      <td>3</td>\n",
              "      <td>5</td>\n",
              "    </tr>\n",
              "    <tr>\n",
              "      <th>1</th>\n",
              "      <td>1</td>\n",
              "      <td>4</td>\n",
              "    </tr>\n",
              "    <tr>\n",
              "      <th>2</th>\n",
              "      <td>1</td>\n",
              "      <td>5</td>\n",
              "    </tr>\n",
              "    <tr>\n",
              "      <th>3</th>\n",
              "      <td>2</td>\n",
              "      <td>6</td>\n",
              "    </tr>\n",
              "    <tr>\n",
              "      <th>4</th>\n",
              "      <td>1</td>\n",
              "      <td>5</td>\n",
              "    </tr>\n",
              "    <tr>\n",
              "      <th>5</th>\n",
              "      <td>6</td>\n",
              "      <td>8</td>\n",
              "    </tr>\n",
              "    <tr>\n",
              "      <th>6</th>\n",
              "      <td>6</td>\n",
              "      <td>6</td>\n",
              "    </tr>\n",
              "    <tr>\n",
              "      <th>7</th>\n",
              "      <td>6</td>\n",
              "      <td>7</td>\n",
              "    </tr>\n",
              "    <tr>\n",
              "      <th>8</th>\n",
              "      <td>5</td>\n",
              "      <td>6</td>\n",
              "    </tr>\n",
              "    <tr>\n",
              "      <th>9</th>\n",
              "      <td>6</td>\n",
              "      <td>7</td>\n",
              "    </tr>\n",
              "    <tr>\n",
              "      <th>10</th>\n",
              "      <td>7</td>\n",
              "      <td>1</td>\n",
              "    </tr>\n",
              "    <tr>\n",
              "      <th>11</th>\n",
              "      <td>8</td>\n",
              "      <td>2</td>\n",
              "    </tr>\n",
              "    <tr>\n",
              "      <th>12</th>\n",
              "      <td>9</td>\n",
              "      <td>1</td>\n",
              "    </tr>\n",
              "    <tr>\n",
              "      <th>13</th>\n",
              "      <td>8</td>\n",
              "      <td>2</td>\n",
              "    </tr>\n",
              "    <tr>\n",
              "      <th>14</th>\n",
              "      <td>9</td>\n",
              "      <td>3</td>\n",
              "    </tr>\n",
              "    <tr>\n",
              "      <th>15</th>\n",
              "      <td>9</td>\n",
              "      <td>2</td>\n",
              "    </tr>\n",
              "    <tr>\n",
              "      <th>16</th>\n",
              "      <td>8</td>\n",
              "      <td>3</td>\n",
              "    </tr>\n",
              "  </tbody>\n",
              "</table>\n",
              "</div>"
            ],
            "text/plain": [
              "    x  y\n",
              "0   3  5\n",
              "1   1  4\n",
              "2   1  5\n",
              "3   2  6\n",
              "4   1  5\n",
              "5   6  8\n",
              "6   6  6\n",
              "7   6  7\n",
              "8   5  6\n",
              "9   6  7\n",
              "10  7  1\n",
              "11  8  2\n",
              "12  9  1\n",
              "13  8  2\n",
              "14  9  3\n",
              "15  9  2\n",
              "16  8  3"
            ]
          },
          "metadata": {
            "tags": []
          },
          "execution_count": 4
        }
      ]
    },
    {
      "metadata": {
        "id": "CW_js-7bTDxl",
        "colab_type": "code",
        "outputId": "ab4d89ec-7ba0-4355-f802-271c99d10535",
        "colab": {
          "base_uri": "https://localhost:8080/",
          "height": 347
        }
      },
      "cell_type": "code",
      "source": [
        "plt.scatter(data['x'], data['y']) \n",
        "plt.show()\n",
        "# elbow"
      ],
      "execution_count": 0,
      "outputs": [
        {
          "output_type": "display_data",
          "data": {
            "image/png": "[encoded data removed]",
            "text/plain": [
              "<Figure size 576x396 with 1 Axes>"
            ]
          },
          "metadata": {
            "tags": []
          }
        }
      ]
    },
    {
      "metadata": {
        "scrolled": true,
        "id": "ImaFoGegTDxq",
        "colab_type": "code",
        "outputId": "b72836b9-8dc9-4e5b-e8ed-df6c1d3fc137",
        "colab": {
          "base_uri": "https://localhost:8080/",
          "height": 503
        }
      },
      "cell_type": "code",
      "source": [
        "# vlaues************************************************************************\n",
        "x1 = data['x'].values\n",
        "y1 = data['y'].values\n",
        "data2 = np.array(list(zip(x1, y1))).reshape(len(x1),2)\n",
        "data3 = []\n",
        "K = range(1,10)\n",
        "for k in K:\n",
        "    kmeanModel = KMeans(n_clusters=k).fit(data2)\n",
        "    kmeanModel.fit(data2)\n",
        "    print(kmeanModel)\n",
        "    d = cdist(data2, kmeanModel.cluster_centers_, 'euclidean') #\n",
        "    d2 = sum(np.min(d, axis=1)) / data2.shape[0] #\n",
        "    # k-평균 알고리즘(Elbow)\n",
        "    data3.append(d2)"
      ],
      "execution_count": 0,
      "outputs": [
        {
          "output_type": "stream",
          "text": [
            "KMeans(algorithm='auto', copy_x=True, init='k-means++', max_iter=300,\n",
            "    n_clusters=1, n_init=10, n_jobs=None, precompute_distances='auto',\n",
            "    random_state=None, tol=0.0001, verbose=0)\n",
            "KMeans(algorithm='auto', copy_x=True, init='k-means++', max_iter=300,\n",
            "    n_clusters=2, n_init=10, n_jobs=None, precompute_distances='auto',\n",
            "    random_state=None, tol=0.0001, verbose=0)\n",
            "KMeans(algorithm='auto', copy_x=True, init='k-means++', max_iter=300,\n",
            "    n_clusters=3, n_init=10, n_jobs=None, precompute_distances='auto',\n",
            "    random_state=None, tol=0.0001, verbose=0)\n",
            "KMeans(algorithm='auto', copy_x=True, init='k-means++', max_iter=300,\n",
            "    n_clusters=4, n_init=10, n_jobs=None, precompute_distances='auto',\n",
            "    random_state=None, tol=0.0001, verbose=0)\n",
            "KMeans(algorithm='auto', copy_x=True, init='k-means++', max_iter=300,\n",
            "    n_clusters=5, n_init=10, n_jobs=None, precompute_distances='auto',\n",
            "    random_state=None, tol=0.0001, verbose=0)\n",
            "KMeans(algorithm='auto', copy_x=True, init='k-means++', max_iter=300,\n",
            "    n_clusters=6, n_init=10, n_jobs=None, precompute_distances='auto',\n",
            "    random_state=None, tol=0.0001, verbose=0)\n",
            "KMeans(algorithm='auto', copy_x=True, init='k-means++', max_iter=300,\n",
            "    n_clusters=7, n_init=10, n_jobs=None, precompute_distances='auto',\n",
            "    random_state=None, tol=0.0001, verbose=0)\n",
            "KMeans(algorithm='auto', copy_x=True, init='k-means++', max_iter=300,\n",
            "    n_clusters=8, n_init=10, n_jobs=None, precompute_distances='auto',\n",
            "    random_state=None, tol=0.0001, verbose=0)\n",
            "KMeans(algorithm='auto', copy_x=True, init='k-means++', max_iter=300,\n",
            "    n_clusters=9, n_init=10, n_jobs=None, precompute_distances='auto',\n",
            "    random_state=None, tol=0.0001, verbose=0)\n"
          ],
          "name": "stdout"
        }
      ]
    },
    {
      "metadata": {
        "id": "oOovq53vTDxu",
        "colab_type": "code",
        "outputId": "02dd24e8-3a3c-4da6-881c-0704e007d4a6",
        "colab": {
          "base_uri": "https://localhost:8080/",
          "height": 347
        }
      },
      "cell_type": "code",
      "source": [
        "plt.plot(K, data3, 'bx-')\n",
        "plt.show()"
      ],
      "execution_count": 0,
      "outputs": [
        {
          "output_type": "display_data",
          "data": {
            "image/png": "[encoded data removed]",
            "text/plain": [
              "<Figure size 576x396 with 1 Axes>"
            ]
          },
          "metadata": {
            "tags": []
          }
        }
      ]
    },
    {
      "metadata": {
        "id": "hf4LwqYdTDxx",
        "colab_type": "code",
        "colab": {}
      },
      "cell_type": "code",
      "source": [
        ""
      ],
      "execution_count": 0,
      "outputs": []
    }
  ]
}