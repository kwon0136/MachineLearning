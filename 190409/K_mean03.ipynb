{
  "nbformat": 4,
  "nbformat_minor": 0,
  "metadata": {
    "colab": {
      "name": "K-mean03.ipynb",
      "version": "0.3.2",
      "provenance": [],
      "collapsed_sections": [],
      "include_colab_link": true
    },
    "kernelspec": {
      "display_name": "Python 3",
      "language": "python",
      "name": "python3"
    }
  },
  "cells": [
    {
      "cell_type": "markdown",
      "metadata": {
        "id": "view-in-github",
        "colab_type": "text"
      },
      "source": [
        "<a href=\"https://colab.research.google.com/github/kwon0136/MachineLearning/blob/master/190409/K_mean03.ipynb\" target=\"_parent\"><img src=\"https://colab.research.google.com/assets/colab-badge.svg\" alt=\"Open In Colab\"/></a>"
      ]
    },
    {
      "metadata": {
        "id": "U2vQsHUVk9zH",
        "colab_type": "text"
      },
      "cell_type": "markdown",
      "source": [
        "##Scikit-Learn의 전처리 기능\n",
        "###스케일링\n",
        "* 자료 집합에 적용되는 전처리 과정으로 모든 자료에 선형 변환을 적용하여 전체 자료의 분포를 평균 0, 분산 1이 되도록 만드는 과정\n",
        "* 스케일링은 자료의 오버플로우(overflow)나 언더플로우(underflow)를 방지하고 독립 변수의 공분산 행렬의 조건수(condition number)를 감소시켜 최적화 과정에서의 안정성 및 수렴 속도를 향상\n",
        "  * scale(X): 기본 스케일. 평균과 표준편차 사용\n",
        "  * robust_scale(X): 중앙값(median)과 IQR(interquartile range) 사용. 아웃라이어의 영향을 최소화\n",
        "  * minmax_scale(X): 최대/최소값이 각각 1, 0이 되도록 스케일링\n",
        "  * maxabs_scale(X): 최대절대값과 0이 각각 1, 0이 되도록 스케일링"
      ]
    },
    {
      "metadata": {
        "id": "S_BrIoPVlKou",
        "colab_type": "text"
      },
      "cell_type": "markdown",
      "source": [
        "##Seaborn을 사용한 데이터 분포 시각화\n",
        "* Seaborn은 Matplotlib을 기반으로 다양한 색상 테마와 통계용 차트 등의 기능을 추가한 시각화 패키지\n",
        "* 기본적인 시각화 기능은 Matplotlib 패키지에 의존하며 통계 기능은 Statsmodels 패키지에 의존"
      ]
    },
    {
      "metadata": {
        "id": "1XvqftY3jSrE",
        "colab_type": "code",
        "colab": {}
      },
      "cell_type": "code",
      "source": [
        "from sklearn.cluster import KMeans\n",
        "from sklearn import metrics\n",
        "from scipy.spatial.distance import cdist\n",
        "import pandas as pd\n",
        "import numpy as np\n",
        "import matplotlib.pyplot as plt\n",
        "from sklearn.preprocessing import MinMaxScaler\n",
        "from sklearn.preprocessing import LabelEncoder\n",
        "import seaborn as sns"
      ],
      "execution_count": 0,
      "outputs": []
    },
    {
      "metadata": {
        "id": "xn9lRmjAjSrJ",
        "colab_type": "code",
        "colab": {}
      },
      "cell_type": "code",
      "source": [
        "train = pd.read_csv(\"train.csv\")\n",
        "test = pd.read_csv(\"test.csv\")"
      ],
      "execution_count": 0,
      "outputs": []
    },
    {
      "metadata": {
        "id": "LMt3J1XWjSrL",
        "colab_type": "code",
        "colab": {}
      },
      "cell_type": "code",
      "source": [
        "#train.describe()\n",
        "\n",
        "# 결측치를 평균으로 대체\n",
        "train.fillna(train.mean(), inplace=True)"
      ],
      "execution_count": 0,
      "outputs": []
    },
    {
      "metadata": {
        "id": "f48F7hQ-jSrO",
        "colab_type": "code",
        "colab": {}
      },
      "cell_type": "code",
      "source": [
        "#train.isna().sum()"
      ],
      "execution_count": 0,
      "outputs": []
    },
    {
      "metadata": {
        "id": "20-kJN45jSrQ",
        "colab_type": "code",
        "colab": {}
      },
      "cell_type": "code",
      "source": [
        "#test.describe()\n",
        "test.fillna(test.mean(), inplace=True)\n",
        "#test.isna().sum()"
      ],
      "execution_count": 0,
      "outputs": []
    },
    {
      "metadata": {
        "id": "weXay_dkjSrT",
        "colab_type": "code",
        "colab": {}
      },
      "cell_type": "code",
      "source": [
        "#train['Ticket'].head() \n",
        "#train['Cabin'].head()"
      ],
      "execution_count": 0,
      "outputs": []
    },
    {
      "metadata": {
        "id": "Y7hccy9EjSrW",
        "colab_type": "code",
        "outputId": "6fa7e0dc-1e60-4e77-9909-c4711eac7371",
        "colab": {}
      },
      "cell_type": "code",
      "source": [
        "# Pclass, Survived\n",
        "# groupby\n",
        "data_temp = \\\n",
        "    train[['Pclass', 'Survived']].groupby(['Pclass'], as_index=False).mean()\n",
        "data_temp\n",
        "# Sex, Survived\n",
        "data_temp2 = \\\n",
        "    train[['Sex', 'Survived']].groupby(['Sex'], as_index=False).mean()\n",
        "data_temp2\n",
        "# sibsp : 함께 탑승한 형제 또는 배우자 수\n",
        "data_temp2 = \\\n",
        "    train[['SibSp', 'Survived']].groupby(['SibSp'], as_index=False).mean()\n",
        "data_temp2\n",
        "g = sns.FacetGrid(train, col='Survived')\n",
        "g.map(plt.hist, 'Age', bins=20)\n",
        "grid = sns.FacetGrid(train, col='Survived', row='Pclass', size=2.2, \\\n",
        "                    aspect=1.6)\n",
        "grid.map(plt.hist, 'Age', alpha=0.5, bins=20)\n",
        "grid.add_legend()"
      ],
      "execution_count": 0,
      "outputs": [
        {
          "output_type": "stream",
          "text": [
            "C:\\Users\\Administrator\\Anaconda3\\lib\\site-packages\\seaborn\\axisgrid.py:230: UserWarning: The `size` paramter has been renamed to `height`; please update your code.\n",
            "  warnings.warn(msg, UserWarning)\n"
          ],
          "name": "stderr"
        },
        {
          "output_type": "execute_result",
          "data": {
            "text/plain": [
              "<seaborn.axisgrid.FacetGrid at 0x1f0fc4bd940>"
            ]
          },
          "metadata": {
            "tags": []
          },
          "execution_count": 95
        },
        {
          "output_type": "display_data",
          "data": {
            "image/png": "[encoded data removed]",
            "text/plain": [
              "<Figure size 432x216 with 2 Axes>"
            ]
          },
          "metadata": {
            "tags": [],
            "needs_background": "light"
          }
        },
        {
          "output_type": "display_data",
          "data": {
            "image/png": "[encoded data removed]",
            "text/plain": [
              "<Figure size 514.88x475.2 with 6 Axes>"
            ]
          },
          "metadata": {
            "tags": [],
            "needs_background": "light"
          }
        }
      ]
    },
    {
      "metadata": {
        "id": "W9OP5nbpjSrb",
        "colab_type": "code",
        "colab": {}
      },
      "cell_type": "code",
      "source": [
        "#train.info()\n",
        "# Name, Sex, Ticket, Cabin, Embarked\n",
        "# Name, Ticket, Cabin(선실번호), Embarked(탑승한곳)\n",
        "#train = train.drop(['Name', 'Ticket', 'Cabin', 'Embarked'], axis=1)\n",
        "#test = test.drop(['Name', 'Ticket', 'Cabin', 'Embarked'], axis=1)"
      ],
      "execution_count": 0,
      "outputs": []
    },
    {
      "metadata": {
        "id": "dH4-BmGkkw5u",
        "colab_type": "text"
      },
      "cell_type": "markdown",
      "source": [
        "###Label Encoder\n",
        "* 독립 변수가 아닌 종속 변수(라벨)에 대해 사용\n",
        "* 문자열이나 정수로된 라벨 값을  0  ~  K−1 까지의 정수로 변환\n",
        "* 변환된 규칙은 classes_ 속성에서 확인\n",
        "* 예측 결과에 적용할 수 있도록 역변환을 위한 inverse_transform 메서드도 지원"
      ]
    },
    {
      "metadata": {
        "id": "l8xAc0FujSre",
        "colab_type": "code",
        "colab": {}
      },
      "cell_type": "code",
      "source": [
        "labelSex = LabelEncoder()\n",
        "labelSex.fit(train['Sex'])\n",
        "labelSex.fit(test['Sex'])\n",
        "train['Sex'] = labelSex.transform(train['Sex'])\n",
        "test['Sex'] = labelSex.transform(test['Sex'])"
      ],
      "execution_count": 0,
      "outputs": []
    },
    {
      "metadata": {
        "id": "SckSL2JHjSrg",
        "colab_type": "code",
        "colab": {}
      },
      "cell_type": "code",
      "source": [
        "x = np.array(train.drop(['Survived'], 1).astype(float))"
      ],
      "execution_count": 0,
      "outputs": []
    },
    {
      "metadata": {
        "id": "lPAHVuMPjSrj",
        "colab_type": "code",
        "colab": {}
      },
      "cell_type": "code",
      "source": [
        "y = np.array(train['Survived'])"
      ],
      "execution_count": 0,
      "outputs": []
    },
    {
      "metadata": {
        "id": "kqarVxIgjSrl",
        "colab_type": "code",
        "outputId": "0fd123be-7d74-4dad-d434-b05f8951dacd",
        "colab": {}
      },
      "cell_type": "code",
      "source": [
        "x.shape, y.shape"
      ],
      "execution_count": 0,
      "outputs": [
        {
          "output_type": "execute_result",
          "data": {
            "text/plain": [
              "((891, 7), (891,))"
            ]
          },
          "metadata": {
            "tags": []
          },
          "execution_count": 136
        }
      ]
    },
    {
      "metadata": {
        "id": "LIyZ1K9rjSrp",
        "colab_type": "code",
        "outputId": "1e125cdd-2961-4376-f92f-a7f11fd1c4b9",
        "colab": {}
      },
      "cell_type": "code",
      "source": [
        "#kmeans = KMeans(n_clusters=2)\n",
        "kmeans = KMeans(n_clusters=2, max_iter=900, algorithm=\"auto\")\n",
        "kmeans.fit(x)"
      ],
      "execution_count": 0,
      "outputs": [
        {
          "output_type": "execute_result",
          "data": {
            "text/plain": [
              "KMeans(algorithm='auto', copy_x=True, init='k-means++', max_iter=900,\n",
              "    n_clusters=2, n_init=10, n_jobs=None, precompute_distances='auto',\n",
              "    random_state=None, tol=0.0001, verbose=0)"
            ]
          },
          "metadata": {
            "tags": []
          },
          "execution_count": 137
        }
      ]
    },
    {
      "metadata": {
        "id": "G95_7ZjYjSrs",
        "colab_type": "code",
        "colab": {}
      },
      "cell_type": "code",
      "source": [
        "correct = 0\n",
        "for i in range(len(x)):\n",
        "    predict_m = np.array(x[i].astype(float))\n",
        "    predict_m = predict_m.reshape(-1, len(predict_m))\n",
        "    prediction = kmeans.predict(predict_m)\n",
        "    if prediction[0] == y[i]:\n",
        "        correct += 1"
      ],
      "execution_count": 0,
      "outputs": []
    },
    {
      "metadata": {
        "id": "mwFvEawbjSru",
        "colab_type": "code",
        "outputId": "2757e223-f6ed-4a76-aea8-91354f31c110",
        "colab": {}
      },
      "cell_type": "code",
      "source": [
        "print(correct/len(x))"
      ],
      "execution_count": 0,
      "outputs": [
        {
          "output_type": "stream",
          "text": [
            "0.49158249158249157\n"
          ],
          "name": "stdout"
        }
      ]
    },
    {
      "metadata": {
        "id": "w4wiFUEdjSrz",
        "colab_type": "code",
        "outputId": "030e5491-ddda-4726-9be9-dd7e0549e273",
        "colab": {}
      },
      "cell_type": "code",
      "source": [
        "x.shape"
      ],
      "execution_count": 0,
      "outputs": [
        {
          "output_type": "execute_result",
          "data": {
            "text/plain": [
              "(891, 7)"
            ]
          },
          "metadata": {
            "tags": []
          },
          "execution_count": 151
        }
      ]
    },
    {
      "metadata": {
        "scrolled": true,
        "id": "audJzmyjjSr2",
        "colab_type": "code",
        "colab": {}
      },
      "cell_type": "code",
      "source": [
        "scaler = MinMaxScaler()\n",
        "x_scaled = scaler.fit_transform(x)"
      ],
      "execution_count": 0,
      "outputs": []
    },
    {
      "metadata": {
        "id": "NGPH6j0XjSr5",
        "colab_type": "code",
        "outputId": "c4a86ce8-0ace-42e3-9cb7-605f97406eeb",
        "colab": {}
      },
      "cell_type": "code",
      "source": [
        "x_scaled.shape\n",
        "#x_scaled"
      ],
      "execution_count": 0,
      "outputs": [
        {
          "output_type": "execute_result",
          "data": {
            "text/plain": [
              "(891, 7)"
            ]
          },
          "metadata": {
            "tags": []
          },
          "execution_count": 155
        }
      ]
    },
    {
      "metadata": {
        "id": "gx25Fqm3jSr9",
        "colab_type": "code",
        "colab": {}
      },
      "cell_type": "code",
      "source": [
        "correct = 0\n",
        "for i in range(len(x_scaled)):\n",
        "    predict_m = np.array(x_scaled[i].astype(float))\n",
        "    predict_m = predict_m.reshape(-1, len(predict_m))\n",
        "    prediction = kmeans.predict(predict_m)\n",
        "    if prediction[0] == y[i]:\n",
        "        correct += 1"
      ],
      "execution_count": 0,
      "outputs": []
    },
    {
      "metadata": {
        "id": "w569eMpJjSsA",
        "colab_type": "code",
        "outputId": "e581b5f3-0189-4275-ee3d-b80fda6bb787",
        "colab": {}
      },
      "cell_type": "code",
      "source": [
        "print(correct/len(x))"
      ],
      "execution_count": 0,
      "outputs": [
        {
          "output_type": "stream",
          "text": [
            "0.6161616161616161\n"
          ],
          "name": "stdout"
        }
      ]
    },
    {
      "metadata": {
        "id": "g7Zw_ZAjjSsE",
        "colab_type": "code",
        "colab": {}
      },
      "cell_type": "code",
      "source": [
        ""
      ],
      "execution_count": 0,
      "outputs": []
    }
  ]
}