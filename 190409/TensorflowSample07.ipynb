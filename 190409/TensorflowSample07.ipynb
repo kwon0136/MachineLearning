{
  "nbformat": 4,
  "nbformat_minor": 0,
  "metadata": {
    "colab": {
      "name": "TensorflowSample07.ipynb",
      "version": "0.3.2",
      "provenance": [],
      "include_colab_link": true
    },
    "kernelspec": {
      "display_name": "Python 3",
      "language": "python",
      "name": "python3"
    }
  },
  "cells": [
    {
      "cell_type": "markdown",
      "metadata": {
        "id": "view-in-github",
        "colab_type": "text"
      },
      "source": [
        "<a href=\"https://colab.research.google.com/github/kwon0136/MachineLearning/blob/master/190409/TensorflowSample07.ipynb\" target=\"_parent\"><img src=\"https://colab.research.google.com/assets/colab-badge.svg\" alt=\"Open In Colab\"/></a>"
      ]
    },
    {
      "metadata": {
        "id": "Rf-7lzzYJeTr",
        "colab_type": "code",
        "colab": {}
      },
      "cell_type": "code",
      "source": [
        "#Nearest Neighbers\n",
        "#!pip install pillow\n",
        "import numpy as np\n",
        "import PIL.Image as pil\n",
        "from tensorflow.examples.tutorials.mnist import input_data"
      ],
      "execution_count": 0,
      "outputs": []
    },
    {
      "metadata": {
        "scrolled": true,
        "id": "DLDxs3U7JeTy",
        "colab_type": "code",
        "colab": {
          "base_uri": "https://localhost:8080/",
          "height": 559
        },
        "outputId": "46b4c97e-a207-4781-bf60-069e4878fd70"
      },
      "cell_type": "code",
      "source": [
        "mnist = input_data.read_data_sets('./tmp/data/', one_hot=True)"
      ],
      "execution_count": 2,
      "outputs": [
        {
          "output_type": "stream",
          "text": [
            "WARNING:tensorflow:From <ipython-input-2-8a44496fd237>:1: read_data_sets (from tensorflow.contrib.learn.python.learn.datasets.mnist) is deprecated and will be removed in a future version.\n",
            "Instructions for updating:\n",
            "Please use alternatives such as official/mnist/dataset.py from tensorflow/models.\n",
            "WARNING:tensorflow:From /usr/local/lib/python3.6/dist-packages/tensorflow/contrib/learn/python/learn/datasets/mnist.py:260: maybe_download (from tensorflow.contrib.learn.python.learn.datasets.base) is deprecated and will be removed in a future version.\n",
            "Instructions for updating:\n",
            "Please write your own downloading logic.\n",
            "WARNING:tensorflow:From /usr/local/lib/python3.6/dist-packages/tensorflow/contrib/learn/python/learn/datasets/base.py:252: _internal_retry.<locals>.wrap.<locals>.wrapped_fn (from tensorflow.contrib.learn.python.learn.datasets.base) is deprecated and will be removed in a future version.\n",
            "Instructions for updating:\n",
            "Please use urllib or similar directly.\n",
            "Successfully downloaded train-images-idx3-ubyte.gz 9912422 bytes.\n",
            "WARNING:tensorflow:From /usr/local/lib/python3.6/dist-packages/tensorflow/contrib/learn/python/learn/datasets/mnist.py:262: extract_images (from tensorflow.contrib.learn.python.learn.datasets.mnist) is deprecated and will be removed in a future version.\n",
            "Instructions for updating:\n",
            "Please use tf.data to implement this functionality.\n",
            "Extracting ./tmp/data/train-images-idx3-ubyte.gz\n",
            "Successfully downloaded train-labels-idx1-ubyte.gz 28881 bytes.\n",
            "WARNING:tensorflow:From /usr/local/lib/python3.6/dist-packages/tensorflow/contrib/learn/python/learn/datasets/mnist.py:267: extract_labels (from tensorflow.contrib.learn.python.learn.datasets.mnist) is deprecated and will be removed in a future version.\n",
            "Instructions for updating:\n",
            "Please use tf.data to implement this functionality.\n",
            "Extracting ./tmp/data/train-labels-idx1-ubyte.gz\n",
            "WARNING:tensorflow:From /usr/local/lib/python3.6/dist-packages/tensorflow/contrib/learn/python/learn/datasets/mnist.py:110: dense_to_one_hot (from tensorflow.contrib.learn.python.learn.datasets.mnist) is deprecated and will be removed in a future version.\n",
            "Instructions for updating:\n",
            "Please use tf.one_hot on tensors.\n",
            "Successfully downloaded t10k-images-idx3-ubyte.gz 1648877 bytes.\n",
            "Extracting ./tmp/data/t10k-images-idx3-ubyte.gz\n",
            "Successfully downloaded t10k-labels-idx1-ubyte.gz 4542 bytes.\n",
            "Extracting ./tmp/data/t10k-labels-idx1-ubyte.gz\n",
            "WARNING:tensorflow:From /usr/local/lib/python3.6/dist-packages/tensorflow/contrib/learn/python/learn/datasets/mnist.py:290: DataSet.__init__ (from tensorflow.contrib.learn.python.learn.datasets.mnist) is deprecated and will be removed in a future version.\n",
            "Instructions for updating:\n",
            "Please use alternatives such as official/mnist/dataset.py from tensorflow/models.\n"
          ],
          "name": "stdout"
        }
      ]
    },
    {
      "metadata": {
        "id": "6rFazWNbJeT6",
        "colab_type": "code",
        "colab": {}
      },
      "cell_type": "code",
      "source": [
        "testImage = (np.array(mnist.test.images[0], dtype='float')).reshape(28,28)"
      ],
      "execution_count": 0,
      "outputs": []
    },
    {
      "metadata": {
        "id": "fQCUd407JeT-",
        "colab_type": "code",
        "colab": {}
      },
      "cell_type": "code",
      "source": [
        "img = pil.fromarray(np.uint8(testImage * 255), 'L')"
      ],
      "execution_count": 0,
      "outputs": []
    },
    {
      "metadata": {
        "id": "VT-58079JeUC",
        "colab_type": "code",
        "colab": {}
      },
      "cell_type": "code",
      "source": [
        "#img.show()\n",
        "import tensorflow as tf"
      ],
      "execution_count": 0,
      "outputs": []
    },
    {
      "metadata": {
        "id": "SaYXDyjoJeUF",
        "colab_type": "code",
        "colab": {}
      },
      "cell_type": "code",
      "source": [
        "Xtrain, Ytrain = mnist.train.next_batch(5000)\n",
        "Xtest, Ytest = mnist.test.next_batch(200)"
      ],
      "execution_count": 0,
      "outputs": []
    },
    {
      "metadata": {
        "id": "4aVqAbxOJeUI",
        "colab_type": "code",
        "colab": {}
      },
      "cell_type": "code",
      "source": [
        "xtr = tf.placeholder('float', [None, 784])\n",
        "xte = tf.placeholder('float', [784])"
      ],
      "execution_count": 0,
      "outputs": []
    },
    {
      "metadata": {
        "id": "3DH13KjjJeUL",
        "colab_type": "code",
        "colab": {}
      },
      "cell_type": "code",
      "source": [
        "distance = tf.reduce_sum(tf.abs(tf.add(xtr, tf.negative(xte))), \\\n",
        "                        reduction_indices=1)"
      ],
      "execution_count": 0,
      "outputs": []
    },
    {
      "metadata": {
        "id": "jkF5UDa9JeUO",
        "colab_type": "code",
        "colab": {
          "base_uri": "https://localhost:8080/",
          "height": 71
        },
        "outputId": "85d19985-1854-4b21-e52e-7b74638d0438"
      },
      "cell_type": "code",
      "source": [
        "pred = tf.arg_min(distance, 0)\n",
        "accuarcy = 0.\n",
        "init = tf.global_variables_initializer()"
      ],
      "execution_count": 9,
      "outputs": [
        {
          "output_type": "stream",
          "text": [
            "WARNING:tensorflow:From <ipython-input-9-d38e60d61826>:1: arg_min (from tensorflow.python.ops.gen_math_ops) is deprecated and will be removed in a future version.\n",
            "Instructions for updating:\n",
            "Use `tf.math.argmin` instead\n"
          ],
          "name": "stdout"
        }
      ]
    },
    {
      "metadata": {
        "id": "MAfKLRCrJeUR",
        "colab_type": "code",
        "colab": {}
      },
      "cell_type": "code",
      "source": [
        "sess = tf.Session()\n",
        "sess.run(init)"
      ],
      "execution_count": 0,
      "outputs": []
    },
    {
      "metadata": {
        "id": "Btd4ZRatJeUU",
        "colab_type": "code",
        "colab": {
          "base_uri": "https://localhost:8080/",
          "height": 3617
        },
        "outputId": "6c81ae71-06a8-4196-acb0-3e1e43e42db7"
      },
      "cell_type": "code",
      "source": [
        "for i in range(len(Xtest)):\n",
        "    test_index = sess.run(pred, feed_dict={xtr:Xtrain, xte:Xtest[i,:]})\n",
        "    print(\"Test\", i, \"Predictions\", np.argmax(Ytrain[test_index]),\n",
        "         \"True Class:\", np.argmax(Ytest[i]))\n",
        "    #print(Xtrain)\n",
        "#Xtrain.shape, Xtest.shape"
      ],
      "execution_count": 11,
      "outputs": [
        {
          "output_type": "stream",
          "text": [
            "Test 0 Predictions 2 True Class: 2\n",
            "Test 1 Predictions 0 True Class: 0\n",
            "Test 2 Predictions 3 True Class: 3\n",
            "Test 3 Predictions 3 True Class: 3\n",
            "Test 4 Predictions 4 True Class: 4\n",
            "Test 5 Predictions 5 True Class: 5\n",
            "Test 6 Predictions 7 True Class: 7\n",
            "Test 7 Predictions 9 True Class: 4\n",
            "Test 8 Predictions 2 True Class: 2\n",
            "Test 9 Predictions 1 True Class: 1\n",
            "Test 10 Predictions 9 True Class: 9\n",
            "Test 11 Predictions 0 True Class: 0\n",
            "Test 12 Predictions 8 True Class: 8\n",
            "Test 13 Predictions 9 True Class: 9\n",
            "Test 14 Predictions 2 True Class: 2\n",
            "Test 15 Predictions 9 True Class: 9\n",
            "Test 16 Predictions 5 True Class: 5\n",
            "Test 17 Predictions 9 True Class: 9\n",
            "Test 18 Predictions 9 True Class: 4\n",
            "Test 19 Predictions 5 True Class: 5\n",
            "Test 20 Predictions 7 True Class: 7\n",
            "Test 21 Predictions 9 True Class: 9\n",
            "Test 22 Predictions 5 True Class: 5\n",
            "Test 23 Predictions 9 True Class: 9\n",
            "Test 24 Predictions 6 True Class: 6\n",
            "Test 25 Predictions 8 True Class: 8\n",
            "Test 26 Predictions 1 True Class: 1\n",
            "Test 27 Predictions 7 True Class: 7\n",
            "Test 28 Predictions 3 True Class: 3\n",
            "Test 29 Predictions 9 True Class: 4\n",
            "Test 30 Predictions 6 True Class: 6\n",
            "Test 31 Predictions 1 True Class: 1\n",
            "Test 32 Predictions 2 True Class: 2\n",
            "Test 33 Predictions 9 True Class: 9\n",
            "Test 34 Predictions 0 True Class: 0\n",
            "Test 35 Predictions 3 True Class: 3\n",
            "Test 36 Predictions 5 True Class: 5\n",
            "Test 37 Predictions 5 True Class: 5\n",
            "Test 38 Predictions 5 True Class: 5\n",
            "Test 39 Predictions 3 True Class: 2\n",
            "Test 40 Predictions 1 True Class: 1\n",
            "Test 41 Predictions 4 True Class: 4\n",
            "Test 42 Predictions 8 True Class: 8\n",
            "Test 43 Predictions 9 True Class: 9\n",
            "Test 44 Predictions 1 True Class: 7\n",
            "Test 45 Predictions 4 True Class: 4\n",
            "Test 46 Predictions 3 True Class: 3\n",
            "Test 47 Predictions 3 True Class: 3\n",
            "Test 48 Predictions 9 True Class: 9\n",
            "Test 49 Predictions 0 True Class: 0\n",
            "Test 50 Predictions 4 True Class: 4\n",
            "Test 51 Predictions 3 True Class: 9\n",
            "Test 52 Predictions 8 True Class: 5\n",
            "Test 53 Predictions 1 True Class: 1\n",
            "Test 54 Predictions 1 True Class: 1\n",
            "Test 55 Predictions 9 True Class: 9\n",
            "Test 56 Predictions 3 True Class: 3\n",
            "Test 57 Predictions 2 True Class: 2\n",
            "Test 58 Predictions 1 True Class: 1\n",
            "Test 59 Predictions 6 True Class: 6\n",
            "Test 60 Predictions 0 True Class: 0\n",
            "Test 61 Predictions 6 True Class: 6\n",
            "Test 62 Predictions 1 True Class: 2\n",
            "Test 63 Predictions 8 True Class: 8\n",
            "Test 64 Predictions 4 True Class: 4\n",
            "Test 65 Predictions 5 True Class: 5\n",
            "Test 66 Predictions 1 True Class: 1\n",
            "Test 67 Predictions 5 True Class: 5\n",
            "Test 68 Predictions 1 True Class: 1\n",
            "Test 69 Predictions 9 True Class: 9\n",
            "Test 70 Predictions 0 True Class: 0\n",
            "Test 71 Predictions 0 True Class: 0\n",
            "Test 72 Predictions 9 True Class: 9\n",
            "Test 73 Predictions 6 True Class: 6\n",
            "Test 74 Predictions 2 True Class: 2\n",
            "Test 75 Predictions 5 True Class: 5\n",
            "Test 76 Predictions 6 True Class: 6\n",
            "Test 77 Predictions 0 True Class: 0\n",
            "Test 78 Predictions 1 True Class: 1\n",
            "Test 79 Predictions 9 True Class: 9\n",
            "Test 80 Predictions 7 True Class: 7\n",
            "Test 81 Predictions 4 True Class: 4\n",
            "Test 82 Predictions 3 True Class: 3\n",
            "Test 83 Predictions 8 True Class: 8\n",
            "Test 84 Predictions 4 True Class: 4\n",
            "Test 85 Predictions 4 True Class: 9\n",
            "Test 86 Predictions 0 True Class: 0\n",
            "Test 87 Predictions 7 True Class: 3\n",
            "Test 88 Predictions 6 True Class: 6\n",
            "Test 89 Predictions 2 True Class: 2\n",
            "Test 90 Predictions 4 True Class: 4\n",
            "Test 91 Predictions 0 True Class: 6\n",
            "Test 92 Predictions 8 True Class: 8\n",
            "Test 93 Predictions 1 True Class: 1\n",
            "Test 94 Predictions 1 True Class: 1\n",
            "Test 95 Predictions 1 True Class: 1\n",
            "Test 96 Predictions 8 True Class: 8\n",
            "Test 97 Predictions 6 True Class: 6\n",
            "Test 98 Predictions 7 True Class: 7\n",
            "Test 99 Predictions 0 True Class: 0\n",
            "Test 100 Predictions 4 True Class: 4\n",
            "Test 101 Predictions 3 True Class: 8\n",
            "Test 102 Predictions 8 True Class: 8\n",
            "Test 103 Predictions 7 True Class: 7\n",
            "Test 104 Predictions 9 True Class: 4\n",
            "Test 105 Predictions 1 True Class: 1\n",
            "Test 106 Predictions 0 True Class: 0\n",
            "Test 107 Predictions 5 True Class: 5\n",
            "Test 108 Predictions 1 True Class: 1\n",
            "Test 109 Predictions 6 True Class: 6\n",
            "Test 110 Predictions 4 True Class: 4\n",
            "Test 111 Predictions 9 True Class: 9\n",
            "Test 112 Predictions 5 True Class: 5\n",
            "Test 113 Predictions 3 True Class: 3\n",
            "Test 114 Predictions 3 True Class: 3\n",
            "Test 115 Predictions 3 True Class: 3\n",
            "Test 116 Predictions 6 True Class: 6\n",
            "Test 117 Predictions 2 True Class: 2\n",
            "Test 118 Predictions 6 True Class: 6\n",
            "Test 119 Predictions 6 True Class: 6\n",
            "Test 120 Predictions 2 True Class: 2\n",
            "Test 121 Predictions 4 True Class: 4\n",
            "Test 122 Predictions 5 True Class: 5\n",
            "Test 123 Predictions 5 True Class: 5\n",
            "Test 124 Predictions 2 True Class: 2\n",
            "Test 125 Predictions 1 True Class: 1\n",
            "Test 126 Predictions 0 True Class: 0\n",
            "Test 127 Predictions 8 True Class: 8\n",
            "Test 128 Predictions 3 True Class: 3\n",
            "Test 129 Predictions 3 True Class: 3\n",
            "Test 130 Predictions 9 True Class: 9\n",
            "Test 131 Predictions 2 True Class: 2\n",
            "Test 132 Predictions 1 True Class: 1\n",
            "Test 133 Predictions 0 True Class: 0\n",
            "Test 134 Predictions 1 True Class: 1\n",
            "Test 135 Predictions 6 True Class: 6\n",
            "Test 136 Predictions 1 True Class: 1\n",
            "Test 137 Predictions 0 True Class: 0\n",
            "Test 138 Predictions 6 True Class: 6\n",
            "Test 139 Predictions 0 True Class: 0\n",
            "Test 140 Predictions 0 True Class: 0\n",
            "Test 141 Predictions 4 True Class: 4\n",
            "Test 142 Predictions 3 True Class: 3\n",
            "Test 143 Predictions 0 True Class: 0\n",
            "Test 144 Predictions 9 True Class: 9\n",
            "Test 145 Predictions 1 True Class: 3\n",
            "Test 146 Predictions 3 True Class: 8\n",
            "Test 147 Predictions 4 True Class: 4\n",
            "Test 148 Predictions 4 True Class: 8\n",
            "Test 149 Predictions 0 True Class: 0\n",
            "Test 150 Predictions 0 True Class: 0\n",
            "Test 151 Predictions 5 True Class: 5\n",
            "Test 152 Predictions 0 True Class: 0\n",
            "Test 153 Predictions 7 True Class: 7\n",
            "Test 154 Predictions 9 True Class: 9\n",
            "Test 155 Predictions 0 True Class: 0\n",
            "Test 156 Predictions 8 True Class: 8\n",
            "Test 157 Predictions 6 True Class: 6\n",
            "Test 158 Predictions 4 True Class: 4\n",
            "Test 159 Predictions 8 True Class: 8\n",
            "Test 160 Predictions 5 True Class: 5\n",
            "Test 161 Predictions 6 True Class: 1\n",
            "Test 162 Predictions 2 True Class: 2\n",
            "Test 163 Predictions 2 True Class: 2\n",
            "Test 164 Predictions 6 True Class: 6\n",
            "Test 165 Predictions 3 True Class: 3\n",
            "Test 166 Predictions 2 True Class: 2\n",
            "Test 167 Predictions 6 True Class: 6\n",
            "Test 168 Predictions 8 True Class: 8\n",
            "Test 169 Predictions 1 True Class: 1\n",
            "Test 170 Predictions 0 True Class: 6\n",
            "Test 171 Predictions 2 True Class: 2\n",
            "Test 172 Predictions 9 True Class: 9\n",
            "Test 173 Predictions 1 True Class: 1\n",
            "Test 174 Predictions 1 True Class: 1\n",
            "Test 175 Predictions 4 True Class: 4\n",
            "Test 176 Predictions 2 True Class: 2\n",
            "Test 177 Predictions 2 True Class: 2\n",
            "Test 178 Predictions 4 True Class: 4\n",
            "Test 179 Predictions 5 True Class: 5\n",
            "Test 180 Predictions 6 True Class: 6\n",
            "Test 181 Predictions 9 True Class: 9\n",
            "Test 182 Predictions 1 True Class: 1\n",
            "Test 183 Predictions 2 True Class: 2\n",
            "Test 184 Predictions 7 True Class: 7\n",
            "Test 185 Predictions 5 True Class: 5\n",
            "Test 186 Predictions 5 True Class: 5\n",
            "Test 187 Predictions 4 True Class: 4\n",
            "Test 188 Predictions 9 True Class: 9\n",
            "Test 189 Predictions 5 True Class: 8\n",
            "Test 190 Predictions 0 True Class: 0\n",
            "Test 191 Predictions 8 True Class: 8\n",
            "Test 192 Predictions 5 True Class: 5\n",
            "Test 193 Predictions 5 True Class: 5\n",
            "Test 194 Predictions 9 True Class: 9\n",
            "Test 195 Predictions 3 True Class: 3\n",
            "Test 196 Predictions 9 True Class: 9\n",
            "Test 197 Predictions 0 True Class: 0\n",
            "Test 198 Predictions 1 True Class: 1\n",
            "Test 199 Predictions 9 True Class: 9\n"
          ],
          "name": "stdout"
        }
      ]
    }
  ]
}